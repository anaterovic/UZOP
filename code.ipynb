{
 "cells": [
  {
   "cell_type": "markdown",
   "metadata": {},
   "source": [
    "# A machine learning approach for the classification of cardiac arrhythmia\n",
    "The aim of this project is to determine the type of arrhythmia from the ECG recordings.\n",
    "\n",
    "Eleonora Detić"
   ]
  },
  {
   "cell_type": "code",
   "execution_count": 16,
   "metadata": {},
   "outputs": [],
   "source": [
    "import pandas as pd\n",
    "import numpy as np\n",
    "import matplotlib.pyplot as plt\n",
    "\n",
    "from sklearn.model_selection import train_test_split\n",
    "from sklearn.decomposition import PCA\n",
    "from sklearn.impute import SimpleImputer\n",
    "from sklearn.decomposition import PCA\n",
    "from sklearn.preprocessing import StandardScaler\n",
    "from scipy import stats"
   ]
  },
  {
   "cell_type": "markdown",
   "metadata": {},
   "source": [
    "### Data loading"
   ]
  },
  {
   "cell_type": "code",
   "execution_count": 2,
   "metadata": {},
   "outputs": [],
   "source": [
    "df = pd.read_csv('data_arrhythmia.csv', delimiter=';')\n",
    "df.dataframeName = 'data_arrhythmia.csv'"
   ]
  },
  {
   "cell_type": "code",
   "execution_count": 3,
   "metadata": {},
   "outputs": [
    {
     "name": "stdout",
     "output_type": "stream",
     "text": [
      "1. Title: Cardiac Arrhythmia Database\n",
      "\n",
      "2. Sources:\n",
      "   (a) Original owners od Database:\n",
      "       -- 1. H. Altay Guvenir, PhD., \n",
      "             Bilkent University,\n",
      "             Department of Computer Engineering and Information Science,\n",
      "             06533 Ankara, Turkey\n",
      "             Phone: +90 (312) 266 4133\n",
      "             Email: guvenir@cs.bilkent.edu.tr\n",
      "\n",
      "       -- 2. Burak Acar, M.S.,\n",
      "             Bilkent University, \n",
      "             EE Eng. Dept. \n",
      "             06533 Ankara, Turkey\n",
      "             Email: buraka@ee.bilkent.edu.tr\n",
      "\n",
      "       -- 2. Haldun Muderrisoglu, M.D., Ph.D., \n",
      "             Baskent University, \n",
      "             School of Medicine\n",
      "             Ankara, Turkey\n",
      "\n",
      "   (b) Donor: H. Altay Guvenir\n",
      "              Bilkent University,\n",
      "              Department of Computer Engineering and Information Science,\n",
      "              06533 Ankara, Turkey\n",
      "              Phone: +90 (312) 266 4133\n",
      "              Email: guvenir@cs.bilkent.edu.tr\n",
      "\n",
      "   (c) Date: January, 1998\n",
      "\n",
      "3. Past Usage:\n",
      "   1. H. Altay Guvenir, Burak Acar, Gulsen Demiroz, Ayhan Cekin\n",
      "      \"A Supervised Machine Learning Algorithm for Arrhythmia Analysis\"\n",
      "      Proceedings of the Computers in Cardiology Conference, \n",
      "      Lund, Sweden, 1997.\n",
      "      \n",
      "      The aim is to determine the type of arrhythmia from \n",
      "      the ECG recordings.\n",
      "\n",
      "4. Relevant Information:\n",
      "     This database contains 279 attributes, 206 of which are linear\n",
      "     valued and the rest are nominal. \n",
      "\n",
      "     Concerning the study of H. Altay Guvenir: \"The aim is to distinguish\n",
      "     between the presence and absence of cardiac arrhythmia and to\n",
      "     classify it in one of the 16 groups. Class 01 refers to 'normal'\n",
      "     ECG classes 02 to 15 refers to different classes of arrhythmia\n",
      "     and class 16 refers to the rest of unclassified ones. For the\n",
      "     time being, there exists a computer program that makes such a\n",
      "     classification. However there are differences between the\n",
      "     cardiolog's and the programs classification. Taking the\n",
      "     cardiolog's as a gold standard we aim to minimise this difference\n",
      "     by means of machine learning tools.\"\n",
      "\n",
      "     The names and id numbers of the patients were recently \n",
      "     removed from the database.\n",
      "\n",
      "5. Number of Instances: 452\n",
      "\n",
      "6. Number of Attributes: 279\n",
      "\n",
      "7. Attribute Information:\n",
      "   -- Complete attribute documentation:\n",
      "      1 Age: Age in years , linear\n",
      "      2 Sex: Sex (0 = male; 1 = female) , nominal\n",
      "      3 Height: Height in centimeters , linear\n",
      "      4 Weight: Weight in kilograms , linear\n",
      "      5 QRS duration: Average of QRS duration in msec., linear\n",
      "      6 P-R interval: Average duration between onset of P and Q waves\n",
      "        in msec., linear\n",
      "      7 Q-T interval: Average duration between onset of Q and offset\n",
      "        of T waves in msec., linear\n",
      "      8 T interval: Average duration of T wave in msec., linear\n",
      "      9 P interval: Average duration of P wave in msec., linear\n",
      "     Vector angles in degrees on front plane of:, linear\n",
      "     10 QRS\n",
      "     11 T\n",
      "     12 P\n",
      "     13 QRST\n",
      "     14 J\n",
      "\n",
      "     15 Heart rate: Number of heart beats per minute ,linear\n",
      "    \n",
      "     Of channel DI:\n",
      "      Average width, in msec., of: linear\n",
      "      16 Q wave\n",
      "      17 R wave\n",
      "      18 S wave\n",
      "      19 R' wave, small peak just after R\n",
      "      20 S' wave\n",
      "\n",
      "      21 Number of intrinsic deflections, linear\n",
      "\n",
      "      22 Existence of ragged R wave, nominal\n",
      "      23 Existence of diphasic derivation of R wave, nominal\n",
      "      24 Existence of ragged P wave, nominal\n",
      "      25 Existence of diphasic derivation of P wave, nominal\n",
      "      26 Existence of ragged T wave, nominal\n",
      "      27 Existence of diphasic derivation of T wave, nominal\n",
      "\n",
      "     Of channel DII: \n",
      "      28 .. 39 (similar to 16 .. 27 of channel DI)\n",
      "     Of channels DIII:\n",
      "      40 .. 51\n",
      "     Of channel AVR:\n",
      "      52 .. 63\n",
      "     Of channel AVL:\n",
      "      64 .. 75\n",
      "     Of channel AVF:\n",
      "      76 .. 87\n",
      "     Of channel V1:\n",
      "      88 .. 99\n",
      "     Of channel V2:\n",
      "      100 .. 111\n",
      "     Of channel V3:\n",
      "      112 .. 123\n",
      "     Of channel V4:\n",
      "      124 .. 135\n",
      "     Of channel V5:\n",
      "      136 .. 147\n",
      "     Of channel V6:\n",
      "      148 .. 159\n",
      "\n",
      "     Of channel DI:\n",
      "      Amplitude , * 0.1 milivolt, of\n",
      "      160 JJ wave, linear\n",
      "      161 Q wave, linear\n",
      "      162 R wave, linear\n",
      "      163 S wave, linear\n",
      "      164 R' wave, linear\n",
      "      165 S' wave, linear\n",
      "      166 P wave, linear\n",
      "      167 T wave, linear\n",
      "      \n",
      "      168 QRSA , Sum of areas of all segments divided by 10,\n",
      "          ( Area= width * height / 2 ), linear\n",
      "      169 QRSTA = QRSA + 0.5 * width of T wave * 0.1 * height of T\n",
      "          wave. (If T is diphasic then the bigger segment is\n",
      "          considered), linear\n",
      "\n",
      "     Of channel DII:\n",
      "      170 .. 179\n",
      "     Of channel DIII:\n",
      "      180 .. 189\n",
      "     Of channel AVR:\n",
      "      190 .. 199\n",
      "     Of channel AVL:\n",
      "      200 .. 209\n",
      "     Of channel AVF:\n",
      "      210 .. 219\n",
      "     Of channel V1:\n",
      "      220 .. 229\n",
      "     Of channel V2:\n",
      "      230 .. 239\n",
      "     Of channel V3:\n",
      "      240 .. 249\n",
      "     Of channel V4:\n",
      "      250 .. 259\n",
      "     Of channel V5:\n",
      "      260 .. 269\n",
      "     Of channel V6:\n",
      "      270 .. 279\n",
      "      \n",
      "8. Missing Attribute Values: Several.  Distinguished with '?'.\n",
      "\n",
      "9. Class Distribution:\n",
      "       Database:  Arrhythmia\n",
      "       \n",
      "       Class code :   Class   :                       Number of instances:\n",
      "       01             Normal\t\t\t\t          245\n",
      "       02             Ischemic changes (Coronary Artery Disease)   44\n",
      "       03             Old Anterior Myocardial Infarction           15\n",
      "       04             Old Inferior Myocardial Infarction           15\n",
      "       05             Sinus tachycardy\t\t\t           13\n",
      "       06             Sinus bradycardy\t\t\t           25\n",
      "       07             Ventricular Premature Contraction (PVC)       3\n",
      "       08             Supraventricular Premature Contraction\t    2\n",
      "       09             Left bundle branch block \t\t            9\t\n",
      "       10             Right bundle branch block\t\t           50\n",
      "       11             1. degree AtrioVentricular block\t            0\t\n",
      "       12             2. degree AV block\t\t            0\n",
      "       13             3. degree AV block\t\t            0\n",
      "       14             Left ventricule hypertrophy \t            4\n",
      "       15             Atrial Fibrillation or Flutter\t            5\n",
      "       16             Others\t\t\t\t           22\n",
      "\n",
      "\n"
     ]
    }
   ],
   "source": [
    "#data_fake = pd.read_csv('https://archive.ics.uci.edu/ml/machine-learning-databases/arrhythmia/arrhythmia.data', header=None)\n",
    "with open(\"arrhythmia.names\") as f:\n",
    "    print(f.read())"
   ]
  },
  {
   "cell_type": "markdown",
   "metadata": {},
   "source": [
    "### Data survey"
   ]
  },
  {
   "cell_type": "code",
   "execution_count": 4,
   "metadata": {},
   "outputs": [
    {
     "data": {
      "text/plain": [
       "(452, 280)"
      ]
     },
     "execution_count": 4,
     "metadata": {},
     "output_type": "execute_result"
    }
   ],
   "source": [
    "df.shape"
   ]
  },
  {
   "cell_type": "code",
   "execution_count": 5,
   "metadata": {},
   "outputs": [
    {
     "data": {
      "text/html": [
       "<div>\n",
       "<style scoped>\n",
       "    .dataframe tbody tr th:only-of-type {\n",
       "        vertical-align: middle;\n",
       "    }\n",
       "\n",
       "    .dataframe tbody tr th {\n",
       "        vertical-align: top;\n",
       "    }\n",
       "\n",
       "    .dataframe thead th {\n",
       "        text-align: right;\n",
       "    }\n",
       "</style>\n",
       "<table border=\"1\" class=\"dataframe\">\n",
       "  <thead>\n",
       "    <tr style=\"text-align: right;\">\n",
       "      <th></th>\n",
       "      <th>age</th>\n",
       "      <th>sex</th>\n",
       "      <th>height</th>\n",
       "      <th>weight</th>\n",
       "      <th>qrs_duration</th>\n",
       "      <th>p-r_interval</th>\n",
       "      <th>q-t_interval</th>\n",
       "      <th>t_interval</th>\n",
       "      <th>p_interval</th>\n",
       "      <th>qrs</th>\n",
       "      <th>...</th>\n",
       "      <th>KY</th>\n",
       "      <th>KZ</th>\n",
       "      <th>LA</th>\n",
       "      <th>LB</th>\n",
       "      <th>LC</th>\n",
       "      <th>LD</th>\n",
       "      <th>LE</th>\n",
       "      <th>LF</th>\n",
       "      <th>LG</th>\n",
       "      <th>diagnosis</th>\n",
       "    </tr>\n",
       "  </thead>\n",
       "  <tbody>\n",
       "    <tr>\n",
       "      <th>0</th>\n",
       "      <td>75</td>\n",
       "      <td>0</td>\n",
       "      <td>190</td>\n",
       "      <td>80</td>\n",
       "      <td>91</td>\n",
       "      <td>193</td>\n",
       "      <td>371</td>\n",
       "      <td>174</td>\n",
       "      <td>121</td>\n",
       "      <td>-16</td>\n",
       "      <td>...</td>\n",
       "      <td>0.0</td>\n",
       "      <td>9.0</td>\n",
       "      <td>-0.9</td>\n",
       "      <td>0.0</td>\n",
       "      <td>0</td>\n",
       "      <td>0.9</td>\n",
       "      <td>2.9</td>\n",
       "      <td>23.3</td>\n",
       "      <td>49.4</td>\n",
       "      <td>8</td>\n",
       "    </tr>\n",
       "    <tr>\n",
       "      <th>1</th>\n",
       "      <td>56</td>\n",
       "      <td>1</td>\n",
       "      <td>165</td>\n",
       "      <td>64</td>\n",
       "      <td>81</td>\n",
       "      <td>174</td>\n",
       "      <td>401</td>\n",
       "      <td>149</td>\n",
       "      <td>39</td>\n",
       "      <td>25</td>\n",
       "      <td>...</td>\n",
       "      <td>0.0</td>\n",
       "      <td>8.5</td>\n",
       "      <td>0.0</td>\n",
       "      <td>0.0</td>\n",
       "      <td>0</td>\n",
       "      <td>0.2</td>\n",
       "      <td>2.1</td>\n",
       "      <td>20.4</td>\n",
       "      <td>38.8</td>\n",
       "      <td>6</td>\n",
       "    </tr>\n",
       "    <tr>\n",
       "      <th>2</th>\n",
       "      <td>54</td>\n",
       "      <td>0</td>\n",
       "      <td>172</td>\n",
       "      <td>95</td>\n",
       "      <td>138</td>\n",
       "      <td>163</td>\n",
       "      <td>386</td>\n",
       "      <td>185</td>\n",
       "      <td>102</td>\n",
       "      <td>96</td>\n",
       "      <td>...</td>\n",
       "      <td>0.0</td>\n",
       "      <td>9.5</td>\n",
       "      <td>-2.4</td>\n",
       "      <td>0.0</td>\n",
       "      <td>0</td>\n",
       "      <td>0.3</td>\n",
       "      <td>3.4</td>\n",
       "      <td>12.3</td>\n",
       "      <td>49.0</td>\n",
       "      <td>10</td>\n",
       "    </tr>\n",
       "    <tr>\n",
       "      <th>3</th>\n",
       "      <td>55</td>\n",
       "      <td>0</td>\n",
       "      <td>175</td>\n",
       "      <td>94</td>\n",
       "      <td>100</td>\n",
       "      <td>202</td>\n",
       "      <td>380</td>\n",
       "      <td>179</td>\n",
       "      <td>143</td>\n",
       "      <td>28</td>\n",
       "      <td>...</td>\n",
       "      <td>0.0</td>\n",
       "      <td>12.2</td>\n",
       "      <td>-2.2</td>\n",
       "      <td>0.0</td>\n",
       "      <td>0</td>\n",
       "      <td>0.4</td>\n",
       "      <td>2.6</td>\n",
       "      <td>34.6</td>\n",
       "      <td>61.6</td>\n",
       "      <td>1</td>\n",
       "    </tr>\n",
       "    <tr>\n",
       "      <th>4</th>\n",
       "      <td>75</td>\n",
       "      <td>0</td>\n",
       "      <td>190</td>\n",
       "      <td>80</td>\n",
       "      <td>88</td>\n",
       "      <td>181</td>\n",
       "      <td>360</td>\n",
       "      <td>177</td>\n",
       "      <td>103</td>\n",
       "      <td>-16</td>\n",
       "      <td>...</td>\n",
       "      <td>0.0</td>\n",
       "      <td>13.1</td>\n",
       "      <td>-3.6</td>\n",
       "      <td>0.0</td>\n",
       "      <td>0</td>\n",
       "      <td>-0.1</td>\n",
       "      <td>3.9</td>\n",
       "      <td>25.4</td>\n",
       "      <td>62.8</td>\n",
       "      <td>7</td>\n",
       "    </tr>\n",
       "  </tbody>\n",
       "</table>\n",
       "<p>5 rows × 280 columns</p>\n",
       "</div>"
      ],
      "text/plain": [
       "   age  sex  height  weight  qrs_duration  p-r_interval  q-t_interval  \\\n",
       "0   75    0     190      80            91           193           371   \n",
       "1   56    1     165      64            81           174           401   \n",
       "2   54    0     172      95           138           163           386   \n",
       "3   55    0     175      94           100           202           380   \n",
       "4   75    0     190      80            88           181           360   \n",
       "\n",
       "   t_interval  p_interval  qrs  ...   KY    KZ   LA   LB LC   LD   LE    LF  \\\n",
       "0         174         121  -16  ...  0.0   9.0 -0.9  0.0  0  0.9  2.9  23.3   \n",
       "1         149          39   25  ...  0.0   8.5  0.0  0.0  0  0.2  2.1  20.4   \n",
       "2         185         102   96  ...  0.0   9.5 -2.4  0.0  0  0.3  3.4  12.3   \n",
       "3         179         143   28  ...  0.0  12.2 -2.2  0.0  0  0.4  2.6  34.6   \n",
       "4         177         103  -16  ...  0.0  13.1 -3.6  0.0  0 -0.1  3.9  25.4   \n",
       "\n",
       "     LG  diagnosis  \n",
       "0  49.4          8  \n",
       "1  38.8          6  \n",
       "2  49.0         10  \n",
       "3  61.6          1  \n",
       "4  62.8          7  \n",
       "\n",
       "[5 rows x 280 columns]"
      ]
     },
     "execution_count": 5,
     "metadata": {},
     "output_type": "execute_result"
    }
   ],
   "source": [
    "df.head()"
   ]
  },
  {
   "cell_type": "markdown",
   "metadata": {},
   "source": [
    "In our data set, we have 452 patients and 279 features for each patient. Last column is interpreted as a number of heart arrhythmia claster. According to documentation, missing attribute values are distinguished with '?' so we will replace them with \"NaN\"."
   ]
  },
  {
   "cell_type": "code",
   "execution_count": 6,
   "metadata": {},
   "outputs": [
    {
     "data": {
      "text/plain": [
       "J               376\n",
       "P                22\n",
       "T                 8\n",
       "QRST              1\n",
       "heart_rate        1\n",
       "age               0\n",
       "sex               0\n",
       "height            0\n",
       "weight            0\n",
       "qrs_duration      0\n",
       "dtype: int64"
      ]
     },
     "execution_count": 6,
     "metadata": {},
     "output_type": "execute_result"
    }
   ],
   "source": [
    "df = df.replace('?', np.NaN)\n",
    "df.isna().sum().nlargest(10)"
   ]
  },
  {
   "cell_type": "markdown",
   "metadata": {},
   "source": [
    "As we can see, in column 'J' we have a lof of missing values, more than 80%, so we will drop that column."
   ]
  },
  {
   "cell_type": "code",
   "execution_count": 7,
   "metadata": {},
   "outputs": [],
   "source": [
    "df.drop([\"J\"], axis=1, inplace=True)"
   ]
  },
  {
   "cell_type": "markdown",
   "metadata": {},
   "source": [
    "As for the other columns, since these variables are continuous, the first idea could be to hope for a normal distribution and then try to preserve the variability of the data by randomly simulate the missing values. <br> For this purpose, we perform well know **Kolmogorov–Smirnov** test."
   ]
  },
  {
   "cell_type": "code",
   "execution_count": 8,
   "metadata": {},
   "outputs": [
    {
     "name": "stdout",
     "output_type": "stream",
     "text": [
      "KstestResult(statistic=0.9255811086972653, pvalue=0.0)\n",
      "KstestResult(statistic=0.847749201067469, pvalue=0.0)\n",
      "KstestResult(statistic=0.8168319201501881, pvalue=0.0)\n",
      "KstestResult(statistic=1.0, pvalue=0.0)\n"
     ]
    }
   ],
   "source": [
    "print(stats.kstest(df[df['P'].notnull()]['P'].astype(int), 'norm'))\n",
    "print(stats.kstest(df[df['T'].notnull()]['T'].astype(int), 'norm'))\n",
    "print(stats.kstest(df[df['QRST'].notnull()]['QRST'].astype(int), 'norm'))\n",
    "print(stats.kstest(df[df['heart_rate'].notnull()]['heart_rate'].astype(int), 'norm'))"
   ]
  },
  {
   "cell_type": "markdown",
   "metadata": {},
   "source": [
    "This assumption was obviously too ambitious. For all columns, the p value turned out to be very small and the test statistics very large. <br> So our conclusion is that at each standard level of significance, we reject the null hypothesis, that is, that our data **do not follow** a normal distribution. <br>\n",
    "The next idea is standard. We will replace the missing values with the mean of each column."
   ]
  },
  {
   "cell_type": "code",
   "execution_count": 9,
   "metadata": {},
   "outputs": [],
   "source": [
    "imp= SimpleImputer(missing_values=np.NaN, strategy='mean')\n",
    "idf=pd.DataFrame(imp.fit_transform(df))\n",
    "idf.columns=df.columns\n",
    "idf.index=df.index\n",
    "df = idf"
   ]
  },
  {
   "cell_type": "markdown",
   "metadata": {},
   "source": [
    "Finally, there are no more missing values in our data."
   ]
  },
  {
   "cell_type": "code",
   "execution_count": 101,
   "metadata": {},
   "outputs": [],
   "source": [
    "#df.isin([0]).sum(axis=0).nlargest(30) pitanje je dal izbacim te očite? -> ako su sve nule, il gotovo sve to mi ocito nista ne govori lol?"
   ]
  },
  {
   "cell_type": "code",
   "execution_count": null,
   "metadata": {},
   "outputs": [],
   "source": [
    "#df.drop([\"J\",\"R'_wave\",\"S'_wave\", \"AB\", \"AC\", \"AD\",\"AE\", \"AF\", \"AG\", \"AL\", \"AN\", \"AO\", \"AP\", \"AR\", \"AS\", \"AT\", \"AZ\", \"AB'\", \"BC\", \"BD\", \"BE\", \"BG\", \"BH\", \"BP\", \"BR\", \"BS\", \"BT\", \"BU\", \"CA\", \"CD\", \"CE\", \"Cf\", \"CG\", \"CH\", \"CI\", \"CM\",\"CN\",\"CP\",\"CR\",\"CS\",\"CT\",\"CU\",\"CV\",\"DE\",\"DF\",\"DG\",\"DH\",\"DI\",\"DJ\",\"DR\",\"DS\",\"DT\",\"DU\",\"DV\",\"DY\",\"EG\",\n",
    "# \"EH\", \"EL\", \"ER\", \"ET\", \"EU\", \"EV\", \"EY\", \"EZ\", \"FA\", \"FE\", \"FF\", \"FH\", \"FI\", \"FJ\", \"FK\", \"FL\", \"FM\", \"FR\", \"FS\", \"FU\", \"FV\", \"FY\", \"FZ\", \"GA\",\n",
    "# \"GB\", \"GG\", \"GH\", \"HD\", \"HE\", \"HO\", \"IA\", \"IB\", \"IK\", \"IL\", \"IY\", \"JI\", \"JS\", \"JT\", \"KF\", \"KO\", \"KP\", \"LB\", \"LC\", \"T\", \"P\", \"QRST\", \"heart_rate\"], axis=1, inplace=True)"
   ]
  },
  {
   "cell_type": "markdown",
   "metadata": {},
   "source": [
    "## Principal component analysis"
   ]
  },
  {
   "cell_type": "markdown",
   "metadata": {},
   "source": [
    "Before using PCA, the first step is scaling the features in our data. "
   ]
  },
  {
   "cell_type": "code",
   "execution_count": 17,
   "metadata": {},
   "outputs": [],
   "source": [
    "X = df.iloc[:,0:278].values\n",
    "y = df.iloc[:,-1:].values\n",
    "X = StandardScaler().fit_transform(X)"
   ]
  },
  {
   "cell_type": "code",
   "execution_count": 18,
   "metadata": {},
   "outputs": [],
   "source": [
    "pca = PCA(n_components=2)\n",
    "principalComponents = pca.fit_transform(X)\n",
    "principalDf = pd.DataFrame(data = principalComponents, columns = ['PC1', 'PC2'])"
   ]
  },
  {
   "cell_type": "code",
   "execution_count": 19,
   "metadata": {},
   "outputs": [],
   "source": [
    "finalDf = pd.concat([principalDf, df[['diagnosis']]], axis = 1)"
   ]
  },
  {
   "cell_type": "code",
   "execution_count": 20,
   "metadata": {},
   "outputs": [
    {
     "data": {
      "image/png": "[encoded data removed]",
      "text/plain": [
       "<Figure size 432x288 with 1 Axes>"
      ]
     },
     "metadata": {
      "needs_background": "light"
     },
     "output_type": "display_data"
    }
   ],
   "source": [
    "plt.scatter(finalDf[\"PC1\"],finalDf[\"PC2\"], c=\"r\",s=1)\n",
    "plt.show()"
   ]
  },
  {
   "cell_type": "markdown",
   "metadata": {},
   "source": [
    "#### Scree plot"
   ]
  },
  {
   "cell_type": "code",
   "execution_count": 34,
   "metadata": {},
   "outputs": [
    {
     "data": {
      "text/plain": [
       "array([ 79.14459678,  81.48376316,  86.15196634,  87.82881709,\n",
       "        90.19695357,  91.07861459,  92.65320337,  93.00412503,\n",
       "        93.96315351,  94.10146559,  94.9828334 ,  95.39588818,\n",
       "        95.54726315,  95.70673131,  96.08415117,  96.25554885,\n",
       "        96.5375833 ,  96.58702322,  96.97076964,  97.02705238,\n",
       "        97.07024681,  97.22220215,  97.2414008 ,  97.41943322,\n",
       "        97.46168686,  97.54090659,  97.60522205,  97.65938463,\n",
       "        97.81455766,  97.81606956,  97.84470203,  97.91999178,\n",
       "        97.96733029,  98.03332326,  98.06855251,  98.1194594 ,\n",
       "        98.15841274,  98.19892878,  98.27154824,  98.31768221,\n",
       "        98.36904967,  98.40710593,  98.44096704,  98.46486288,\n",
       "        98.49650168,  98.56148502,  98.56758613,  98.57566167,\n",
       "        98.61630637,  98.64646694,  98.67408687,  98.71365063,\n",
       "        98.73239632,  98.8043531 ,  98.81815259,  98.83889871,\n",
       "        98.86226928,  98.88568961,  98.91296446,  98.93580785,\n",
       "        98.94967567,  98.96569889,  98.97918333,  99.00393867,\n",
       "        99.03195518,  99.03812698,  99.05301316,  99.0763637 ,\n",
       "        99.08539025,  99.11301663,  99.14429323,  99.15755195,\n",
       "        99.17496365,  99.18543855,  99.22529917,  99.23939803,\n",
       "        99.25644906,  99.272207  ,  99.2921058 ,  99.30813569,\n",
       "        99.32210076,  99.33617615,  99.37443621,  99.38345877,\n",
       "        99.38404439,  99.39422101,  99.41866258,  99.43828987,\n",
       "        99.44287646,  99.45914931,  99.4719745 ,  99.4800654 ,\n",
       "        99.49485445,  99.50746093,  99.52227336,  99.53518228,\n",
       "        99.55241861,  99.55842652,  99.56641378,  99.56931769,\n",
       "        99.57994418,  99.60231102,  99.61281207,  99.62760255,\n",
       "        99.63690527,  99.64814144,  99.65842252,  99.66440976,\n",
       "        99.67914113,  99.6898486 ,  99.69052337,  99.70763255,\n",
       "        99.71625844,  99.72112733,  99.7282211 ,  99.73131539,\n",
       "        99.74259736,  99.74963641,  99.75933829,  99.76090903,\n",
       "        99.77171287,  99.77508013,  99.77904854,  99.78338942,\n",
       "        99.78715677,  99.79194733,  99.79508667,  99.79680294,\n",
       "        99.8108488 ,  99.81719105,  99.82369862,  99.82686245,\n",
       "        99.83206228,  99.83460044,  99.83917978,  99.84511266,\n",
       "        99.84652301,  99.85321623,  99.85419155,  99.86001823,\n",
       "        99.86230265,  99.87158994,  99.8746656 ,  99.87937563,\n",
       "        99.88094557,  99.88339908,  99.88788966,  99.88919542,\n",
       "        99.89312719,  99.89497227,  99.90177137,  99.90316193,\n",
       "        99.90478053,  99.90894032,  99.91209619,  99.91526067,\n",
       "        99.91611877,  99.92055223,  99.9214283 ,  99.92457878,\n",
       "        99.92568502,  99.92807447,  99.93126514,  99.93311088,\n",
       "        99.93711479,  99.93748782,  99.94066107,  99.94177014,\n",
       "        99.9433215 ,  99.9451707 ,  99.94596029,  99.94895522,\n",
       "        99.95123014,  99.95237112,  99.95295259,  99.95438103,\n",
       "        99.95554023,  99.95804303,  99.95880965,  99.95976619,\n",
       "        99.96076807,  99.96200092,  99.96283422,  99.96494305,\n",
       "        99.96500906,  99.96729955,  99.96795548,  99.9684    ,\n",
       "        99.96903957,  99.97059849,  99.97092899,  99.97248439,\n",
       "        99.97353619,  99.97388873,  99.97471536,  99.97562187,\n",
       "        99.97635646,  99.97756619,  99.97855026,  99.9789526 ,\n",
       "        99.97991348,  99.98033853,  99.98159477,  99.9816358 ,\n",
       "        99.98251739,  99.98346166,  99.98404593,  99.98451761,\n",
       "        99.98500154,  99.98607471,  99.98646956,  99.98670136,\n",
       "        99.98765591,  99.98821684,  99.98845381,  99.98937088,\n",
       "        99.98967167,  99.98985425,  99.99078975,  99.99091102,\n",
       "        99.99146098,  99.99151377,  99.99223847,  99.99241599,\n",
       "        99.99283844,  99.9931393 ,  99.99338212,  99.99361584,\n",
       "        99.99406202,  99.99428172,  99.99469404,  99.99517785,\n",
       "        99.99525906,  99.99569999,  99.99606953,  99.99618995,\n",
       "        99.99634128,  99.99669876,  99.99705773,  99.9972075 ,\n",
       "        99.9973643 ,  99.99762424,  99.99793778,  99.99826065,\n",
       "        99.99850663,  99.99862663,  99.99892968,  99.99899465,\n",
       "        99.99920263,  99.99924879,  99.99928593,  99.99947412,\n",
       "        99.9995102 ,  99.99954789,  99.99961122,  99.99965766,\n",
       "        99.99983374,  99.99999543, 100.        , 100.        ,\n",
       "       100.        , 100.        , 100.        , 100.        ,\n",
       "       100.        , 100.        , 100.        , 100.        ,\n",
       "       100.        , 100.        , 100.        , 100.        ,\n",
       "       100.        , 100.        , 100.        , 100.        ,\n",
       "       100.        , 100.        , 100.        ])"
      ]
     },
     "execution_count": 34,
     "metadata": {},
     "output_type": "execute_result"
    }
   ],
   "source": []
  },
  {
   "cell_type": "code",
   "execution_count": 53,
   "metadata": {},
   "outputs": [
    {
     "data": {
      "image/png": "[encoded data removed]",
      "text/plain": [
       "<Figure size 432x288 with 1 Axes>"
      ]
     },
     "metadata": {
      "needs_background": "light"
     },
     "output_type": "display_data"
    }
   ],
   "source": [
    "scaler = StandardScaler()\n",
    "scaled_df=df.copy()\n",
    "scaled_df=pd.DataFrame(scaler.fit_transform(scaled_df), columns=scaled_df.columns)\n",
    "pca = PCA(n_components=279)\n",
    "pca_fit = pca.fit(scaled_df)\n",
    "PC_values = np.arange(pca.n_components_) + 1\n",
    "plt.plot(PC_values, 100-pca.explained_variance_, '-', linewidth=1, color='red')\n",
    "plt.title('Scree Plot')\n",
    "plt.xlabel('Principal Component')\n",
    "plt.ylabel('Variance Explained')\n",
    "plt.axvline(x=150, color=\"black\", linestyle=(0, (5, 5)))\n",
    "plt.show()\n",
    "\n",
    "#print(pca.explained_variance_) #koliki smo postotak varijabilnosti objasnili"
   ]
  },
  {
   "cell_type": "markdown",
   "metadata": {},
   "source": [
    "#### Descriptive statistics"
   ]
  },
  {
   "cell_type": "code",
   "execution_count": 100,
   "metadata": {},
   "outputs": [
    {
     "data": {
      "text/html": [
       "<div>\n",
       "<style scoped>\n",
       "    .dataframe tbody tr th:only-of-type {\n",
       "        vertical-align: middle;\n",
       "    }\n",
       "\n",
       "    .dataframe tbody tr th {\n",
       "        vertical-align: top;\n",
       "    }\n",
       "\n",
       "    .dataframe thead tr th {\n",
       "        text-align: left;\n",
       "    }\n",
       "\n",
       "    .dataframe thead tr:last-of-type th {\n",
       "        text-align: right;\n",
       "    }\n",
       "</style>\n",
       "<table border=\"1\" class=\"dataframe\">\n",
       "  <thead>\n",
       "    <tr>\n",
       "      <th></th>\n",
       "      <th colspan=\"8\" halign=\"left\">age</th>\n",
       "    </tr>\n",
       "    <tr>\n",
       "      <th></th>\n",
       "      <th>count</th>\n",
       "      <th>mean</th>\n",
       "      <th>std</th>\n",
       "      <th>min</th>\n",
       "      <th>25%</th>\n",
       "      <th>50%</th>\n",
       "      <th>75%</th>\n",
       "      <th>max</th>\n",
       "    </tr>\n",
       "    <tr>\n",
       "      <th>sex</th>\n",
       "      <th></th>\n",
       "      <th></th>\n",
       "      <th></th>\n",
       "      <th></th>\n",
       "      <th></th>\n",
       "      <th></th>\n",
       "      <th></th>\n",
       "      <th></th>\n",
       "    </tr>\n",
       "  </thead>\n",
       "  <tbody>\n",
       "    <tr>\n",
       "      <th>0.0</th>\n",
       "      <td>203.0</td>\n",
       "      <td>47.546798</td>\n",
       "      <td>16.519761</td>\n",
       "      <td>0.0</td>\n",
       "      <td>37.5</td>\n",
       "      <td>47.0</td>\n",
       "      <td>59.0</td>\n",
       "      <td>80.0</td>\n",
       "    </tr>\n",
       "    <tr>\n",
       "      <th>1.0</th>\n",
       "      <td>249.0</td>\n",
       "      <td>45.594378</td>\n",
       "      <td>16.404173</td>\n",
       "      <td>1.0</td>\n",
       "      <td>34.0</td>\n",
       "      <td>46.0</td>\n",
       "      <td>58.0</td>\n",
       "      <td>83.0</td>\n",
       "    </tr>\n",
       "  </tbody>\n",
       "</table>\n",
       "</div>"
      ],
      "text/plain": [
       "       age                                                   \n",
       "     count       mean        std  min   25%   50%   75%   max\n",
       "sex                                                          \n",
       "0.0  203.0  47.546798  16.519761  0.0  37.5  47.0  59.0  80.0\n",
       "1.0  249.0  45.594378  16.404173  1.0  34.0  46.0  58.0  83.0"
      ]
     },
     "execution_count": 100,
     "metadata": {},
     "output_type": "execute_result"
    },
    {
     "data": {
      "image/png": "[encoded data removed]",
      "text/plain": [
       "<Figure size 432x288 with 1 Axes>"
      ]
     },
     "metadata": {
      "needs_background": "light"
     },
     "output_type": "display_data"
    }
   ],
   "source": [
    "df.groupby('sex').age.plot(kind='kde') #vizualni prikaz\n",
    "df[[\"sex\", \"age\"]].groupby(\"sex\").describe() #deskriptivna statistika"
   ]
  },
  {
   "cell_type": "markdown",
   "metadata": {},
   "source": [
    "The above results show the distribution graph and descriptive statistics, for both women and men."
   ]
  },
  {
   "cell_type": "markdown",
   "metadata": {},
   "source": []
  },
  {
   "cell_type": "markdown",
   "metadata": {},
   "source": []
  },
  {
   "cell_type": "markdown",
   "metadata": {},
   "source": [
    "#### Data transformation"
   ]
  },
  {
   "cell_type": "code",
   "execution_count": 39,
   "metadata": {},
   "outputs": [
    {
     "name": "stdout",
     "output_type": "stream",
     "text": [
      "KstestResult(statistic=0.995983935741692, pvalue=0.0)\n"
     ]
    }
   ],
   "source": []
  },
  {
   "cell_type": "markdown",
   "metadata": {},
   "source": [
    "#### Data cleaning"
   ]
  },
  {
   "cell_type": "code",
   "execution_count": 40,
   "metadata": {},
   "outputs": [
    {
     "name": "stdout",
     "output_type": "stream",
     "text": [
      "KstestResult(statistic=0.9887978852196014, pvalue=0.0)\n"
     ]
    }
   ],
   "source": []
  },
  {
   "cell_type": "markdown",
   "metadata": {},
   "source": [
    "#### Data validation"
   ]
  },
  {
   "cell_type": "code",
   "execution_count": null,
   "metadata": {},
   "outputs": [],
   "source": []
  },
  {
   "cell_type": "markdown",
   "metadata": {},
   "source": [
    "#### Data augmentation"
   ]
  },
  {
   "cell_type": "code",
   "execution_count": null,
   "metadata": {},
   "outputs": [],
   "source": []
  },
  {
   "cell_type": "markdown",
   "metadata": {},
   "source": [
    "#### Feature enginerring"
   ]
  },
  {
   "cell_type": "code",
   "execution_count": 34,
   "metadata": {},
   "outputs": [],
   "source": [
    "\n",
    "\n",
    "X_train, X_test, y_train, y_test = train_test_split(X, y, test_size=0.33, random_state=42)"
   ]
  },
  {
   "cell_type": "code",
   "execution_count": 38,
   "metadata": {},
   "outputs": [
    {
     "data": {
      "text/plain": [
       "PCA(n_components=0.99)"
      ]
     },
     "execution_count": 38,
     "metadata": {},
     "output_type": "execute_result"
    }
   ],
   "source": [
    "pca = PCA(.99)\n",
    "pca.fit(X_train)"
   ]
  },
  {
   "cell_type": "code",
   "execution_count": 39,
   "metadata": {},
   "outputs": [],
   "source": [
    "kk = pca.transform(X_train)"
   ]
  },
  {
   "cell_type": "code",
   "execution_count": null,
   "metadata": {},
   "outputs": [],
   "source": []
  }
 ],
 "metadata": {
  "interpreter": {
   "hash": "eeb592eeb14baf80ba7e3ad598b9cc718d92fa62785d72005ca19f7c0e0c833d"
  },
  "kernelspec": {
   "display_name": "Python 3.8.5 64-bit ('base': conda)",
   "name": "python3"
  },
  "language_info": {
   "codemirror_mode": {
    "name": "ipython",
    "version": 3
   },
   "file_extension": ".py",
   "mimetype": "text/x-python",
   "name": "python",
   "nbconvert_exporter": "python",
   "pygments_lexer": "ipython3",
   "version": "3.8.5"
  },
  "orig_nbformat": 4
 },
 "nbformat": 4,
 "nbformat_minor": 2
}
