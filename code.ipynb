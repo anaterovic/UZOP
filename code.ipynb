{
 "cells": [
  {
   "cell_type": "markdown",
   "metadata": {},
   "source": [
    "# A machine learning approach for the classification of cardiac arrhythmia\n",
    "The aim of this project is to determine the type of arrhythmia from the ECG recordings.\n",
    "\n",
    "Eleonora Detić"
   ]
  },
  {
   "cell_type": "code",
   "execution_count": 19,
   "metadata": {},
   "outputs": [],
   "source": [
    "import pandas as pd\n",
    "import numpy as np\n",
    "from sklearn.model_selection import train_test_split\n",
    "from sklearn.decomposition import PCA\n",
    "from sklearn.impute import SimpleImputer\n",
    "from scipy import stats"
   ]
  },
  {
   "cell_type": "markdown",
   "metadata": {},
   "source": [
    "### Data loading"
   ]
  },
  {
   "cell_type": "code",
   "execution_count": 11,
   "metadata": {},
   "outputs": [],
   "source": [
    "df = pd.read_csv('data_arrhythmia.csv', delimiter=';')\n",
    "df.dataframeName = 'data_arrhythmia.csv'"
   ]
  },
  {
   "cell_type": "code",
   "execution_count": 43,
   "metadata": {},
   "outputs": [
    {
     "name": "stdout",
     "output_type": "stream",
     "text": [
      "1. Title: Cardiac Arrhythmia Database\n",
      "\n",
      "2. Sources:\n",
      "   (a) Original owners od Database:\n",
      "       -- 1. H. Altay Guvenir, PhD., \n",
      "             Bilkent University,\n",
      "             Department of Computer Engineering and Information Science,\n",
      "             06533 Ankara, Turkey\n",
      "             Phone: +90 (312) 266 4133\n",
      "             Email: guvenir@cs.bilkent.edu.tr\n",
      "\n",
      "       -- 2. Burak Acar, M.S.,\n",
      "             Bilkent University, \n",
      "             EE Eng. Dept. \n",
      "             06533 Ankara, Turkey\n",
      "             Email: buraka@ee.bilkent.edu.tr\n",
      "\n",
      "       -- 2. Haldun Muderrisoglu, M.D., Ph.D., \n",
      "             Baskent University, \n",
      "             School of Medicine\n",
      "             Ankara, Turkey\n",
      "\n",
      "   (b) Donor: H. Altay Guvenir\n",
      "              Bilkent University,\n",
      "              Department of Computer Engineering and Information Science,\n",
      "              06533 Ankara, Turkey\n",
      "              Phone: +90 (312) 266 4133\n",
      "              Email: guvenir@cs.bilkent.edu.tr\n",
      "\n",
      "   (c) Date: January, 1998\n",
      "\n",
      "3. Past Usage:\n",
      "   1. H. Altay Guvenir, Burak Acar, Gulsen Demiroz, Ayhan Cekin\n",
      "      \"A Supervised Machine Learning Algorithm for Arrhythmia Analysis\"\n",
      "      Proceedings of the Computers in Cardiology Conference, \n",
      "      Lund, Sweden, 1997.\n",
      "      \n",
      "      The aim is to determine the type of arrhythmia from \n",
      "      the ECG recordings.\n",
      "\n",
      "4. Relevant Information:\n",
      "     This database contains 279 attributes, 206 of which are linear\n",
      "     valued and the rest are nominal. \n",
      "\n",
      "     Concerning the study of H. Altay Guvenir: \"The aim is to distinguish\n",
      "     between the presence and absence of cardiac arrhythmia and to\n",
      "     classify it in one of the 16 groups. Class 01 refers to 'normal'\n",
      "     ECG classes 02 to 15 refers to different classes of arrhythmia\n",
      "     and class 16 refers to the rest of unclassified ones. For the\n",
      "     time being, there exists a computer program that makes such a\n",
      "     classification. However there are differences between the\n",
      "     cardiolog's and the programs classification. Taking the\n",
      "     cardiolog's as a gold standard we aim to minimise this difference\n",
      "     by means of machine learning tools.\"\n",
      "\n",
      "     The names and id numbers of the patients were recently \n",
      "     removed from the database.\n",
      "\n",
      "5. Number of Instances: 452\n",
      "\n",
      "6. Number of Attributes: 279\n",
      "\n",
      "7. Attribute Information:\n",
      "   -- Complete attribute documentation:\n",
      "      1 Age: Age in years , linear\n",
      "      2 Sex: Sex (0 = male; 1 = female) , nominal\n",
      "      3 Height: Height in centimeters , linear\n",
      "      4 Weight: Weight in kilograms , linear\n",
      "      5 QRS duration: Average of QRS duration in msec., linear\n",
      "      6 P-R interval: Average duration between onset of P and Q waves\n",
      "        in msec., linear\n",
      "      7 Q-T interval: Average duration between onset of Q and offset\n",
      "        of T waves in msec., linear\n",
      "      8 T interval: Average duration of T wave in msec., linear\n",
      "      9 P interval: Average duration of P wave in msec., linear\n",
      "     Vector angles in degrees on front plane of:, linear\n",
      "     10 QRS\n",
      "     11 T\n",
      "     12 P\n",
      "     13 QRST\n",
      "     14 J\n",
      "\n",
      "     15 Heart rate: Number of heart beats per minute ,linear\n",
      "    \n",
      "     Of channel DI:\n",
      "      Average width, in msec., of: linear\n",
      "      16 Q wave\n",
      "      17 R wave\n",
      "      18 S wave\n",
      "      19 R' wave, small peak just after R\n",
      "      20 S' wave\n",
      "\n",
      "      21 Number of intrinsic deflections, linear\n",
      "\n",
      "      22 Existence of ragged R wave, nominal\n",
      "      23 Existence of diphasic derivation of R wave, nominal\n",
      "      24 Existence of ragged P wave, nominal\n",
      "      25 Existence of diphasic derivation of P wave, nominal\n",
      "      26 Existence of ragged T wave, nominal\n",
      "      27 Existence of diphasic derivation of T wave, nominal\n",
      "\n",
      "     Of channel DII: \n",
      "      28 .. 39 (similar to 16 .. 27 of channel DI)\n",
      "     Of channels DIII:\n",
      "      40 .. 51\n",
      "     Of channel AVR:\n",
      "      52 .. 63\n",
      "     Of channel AVL:\n",
      "      64 .. 75\n",
      "     Of channel AVF:\n",
      "      76 .. 87\n",
      "     Of channel V1:\n",
      "      88 .. 99\n",
      "     Of channel V2:\n",
      "      100 .. 111\n",
      "     Of channel V3:\n",
      "      112 .. 123\n",
      "     Of channel V4:\n",
      "      124 .. 135\n",
      "     Of channel V5:\n",
      "      136 .. 147\n",
      "     Of channel V6:\n",
      "      148 .. 159\n",
      "\n",
      "     Of channel DI:\n",
      "      Amplitude , * 0.1 milivolt, of\n",
      "      160 JJ wave, linear\n",
      "      161 Q wave, linear\n",
      "      162 R wave, linear\n",
      "      163 S wave, linear\n",
      "      164 R' wave, linear\n",
      "      165 S' wave, linear\n",
      "      166 P wave, linear\n",
      "      167 T wave, linear\n",
      "      \n",
      "      168 QRSA , Sum of areas of all segments divided by 10,\n",
      "          ( Area= width * height / 2 ), linear\n",
      "      169 QRSTA = QRSA + 0.5 * width of T wave * 0.1 * height of T\n",
      "          wave. (If T is diphasic then the bigger segment is\n",
      "          considered), linear\n",
      "\n",
      "     Of channel DII:\n",
      "      170 .. 179\n",
      "     Of channel DIII:\n",
      "      180 .. 189\n",
      "     Of channel AVR:\n",
      "      190 .. 199\n",
      "     Of channel AVL:\n",
      "      200 .. 209\n",
      "     Of channel AVF:\n",
      "      210 .. 219\n",
      "     Of channel V1:\n",
      "      220 .. 229\n",
      "     Of channel V2:\n",
      "      230 .. 239\n",
      "     Of channel V3:\n",
      "      240 .. 249\n",
      "     Of channel V4:\n",
      "      250 .. 259\n",
      "     Of channel V5:\n",
      "      260 .. 269\n",
      "     Of channel V6:\n",
      "      270 .. 279\n",
      "      \n",
      "8. Missing Attribute Values: Several.  Distinguished with '?'.\n",
      "\n",
      "9. Class Distribution:\n",
      "       Database:  Arrhythmia\n",
      "       \n",
      "       Class code :   Class   :                       Number of instances:\n",
      "       01             Normal\t\t\t\t          245\n",
      "       02             Ischemic changes (Coronary Artery Disease)   44\n",
      "       03             Old Anterior Myocardial Infarction           15\n",
      "       04             Old Inferior Myocardial Infarction           15\n",
      "       05             Sinus tachycardy\t\t\t           13\n",
      "       06             Sinus bradycardy\t\t\t           25\n",
      "       07             Ventricular Premature Contraction (PVC)       3\n",
      "       08             Supraventricular Premature Contraction\t    2\n",
      "       09             Left bundle branch block \t\t            9\t\n",
      "       10             Right bundle branch block\t\t           50\n",
      "       11             1. degree AtrioVentricular block\t            0\t\n",
      "       12             2. degree AV block\t\t            0\n",
      "       13             3. degree AV block\t\t            0\n",
      "       14             Left ventricule hypertrophy \t            4\n",
      "       15             Atrial Fibrillation or Flutter\t            5\n",
      "       16             Others\t\t\t\t           22\n",
      "\n",
      "\n"
     ]
    }
   ],
   "source": [
    "#data_fake = pd.read_csv('https://archive.ics.uci.edu/ml/machine-learning-databases/arrhythmia/arrhythmia.data', header=None)\n",
    "with open(\"arrhythmia.names\") as f:\n",
    "    print(f.read())"
   ]
  },
  {
   "cell_type": "markdown",
   "metadata": {},
   "source": [
    "### Data survey"
   ]
  },
  {
   "cell_type": "code",
   "execution_count": 13,
   "metadata": {},
   "outputs": [
    {
     "data": {
      "text/plain": [
       "(452, 280)"
      ]
     },
     "execution_count": 13,
     "metadata": {},
     "output_type": "execute_result"
    }
   ],
   "source": [
    "df.shape"
   ]
  },
  {
   "cell_type": "code",
   "execution_count": 44,
   "metadata": {},
   "outputs": [
    {
     "data": {
      "text/html": [
       "<div>\n",
       "<style scoped>\n",
       "    .dataframe tbody tr th:only-of-type {\n",
       "        vertical-align: middle;\n",
       "    }\n",
       "\n",
       "    .dataframe tbody tr th {\n",
       "        vertical-align: top;\n",
       "    }\n",
       "\n",
       "    .dataframe thead th {\n",
       "        text-align: right;\n",
       "    }\n",
       "</style>\n",
       "<table border=\"1\" class=\"dataframe\">\n",
       "  <thead>\n",
       "    <tr style=\"text-align: right;\">\n",
       "      <th></th>\n",
       "      <th>age</th>\n",
       "      <th>sex</th>\n",
       "      <th>height</th>\n",
       "      <th>weight</th>\n",
       "      <th>qrs_duration</th>\n",
       "      <th>p-r_interval</th>\n",
       "      <th>q-t_interval</th>\n",
       "      <th>t_interval</th>\n",
       "      <th>p_interval</th>\n",
       "      <th>qrs</th>\n",
       "      <th>...</th>\n",
       "      <th>KY</th>\n",
       "      <th>KZ</th>\n",
       "      <th>LA</th>\n",
       "      <th>LB</th>\n",
       "      <th>LC</th>\n",
       "      <th>LD</th>\n",
       "      <th>LE</th>\n",
       "      <th>LF</th>\n",
       "      <th>LG</th>\n",
       "      <th>diagnosis</th>\n",
       "    </tr>\n",
       "  </thead>\n",
       "  <tbody>\n",
       "    <tr>\n",
       "      <th>0</th>\n",
       "      <td>75</td>\n",
       "      <td>0</td>\n",
       "      <td>190</td>\n",
       "      <td>80</td>\n",
       "      <td>91</td>\n",
       "      <td>193</td>\n",
       "      <td>371</td>\n",
       "      <td>174</td>\n",
       "      <td>121</td>\n",
       "      <td>-16</td>\n",
       "      <td>...</td>\n",
       "      <td>0.0</td>\n",
       "      <td>9.0</td>\n",
       "      <td>-0.9</td>\n",
       "      <td>0.0</td>\n",
       "      <td>0</td>\n",
       "      <td>0.9</td>\n",
       "      <td>2.9</td>\n",
       "      <td>23.3</td>\n",
       "      <td>49.4</td>\n",
       "      <td>8</td>\n",
       "    </tr>\n",
       "    <tr>\n",
       "      <th>1</th>\n",
       "      <td>56</td>\n",
       "      <td>1</td>\n",
       "      <td>165</td>\n",
       "      <td>64</td>\n",
       "      <td>81</td>\n",
       "      <td>174</td>\n",
       "      <td>401</td>\n",
       "      <td>149</td>\n",
       "      <td>39</td>\n",
       "      <td>25</td>\n",
       "      <td>...</td>\n",
       "      <td>0.0</td>\n",
       "      <td>8.5</td>\n",
       "      <td>0.0</td>\n",
       "      <td>0.0</td>\n",
       "      <td>0</td>\n",
       "      <td>0.2</td>\n",
       "      <td>2.1</td>\n",
       "      <td>20.4</td>\n",
       "      <td>38.8</td>\n",
       "      <td>6</td>\n",
       "    </tr>\n",
       "    <tr>\n",
       "      <th>2</th>\n",
       "      <td>54</td>\n",
       "      <td>0</td>\n",
       "      <td>172</td>\n",
       "      <td>95</td>\n",
       "      <td>138</td>\n",
       "      <td>163</td>\n",
       "      <td>386</td>\n",
       "      <td>185</td>\n",
       "      <td>102</td>\n",
       "      <td>96</td>\n",
       "      <td>...</td>\n",
       "      <td>0.0</td>\n",
       "      <td>9.5</td>\n",
       "      <td>-2.4</td>\n",
       "      <td>0.0</td>\n",
       "      <td>0</td>\n",
       "      <td>0.3</td>\n",
       "      <td>3.4</td>\n",
       "      <td>12.3</td>\n",
       "      <td>49.0</td>\n",
       "      <td>10</td>\n",
       "    </tr>\n",
       "    <tr>\n",
       "      <th>3</th>\n",
       "      <td>55</td>\n",
       "      <td>0</td>\n",
       "      <td>175</td>\n",
       "      <td>94</td>\n",
       "      <td>100</td>\n",
       "      <td>202</td>\n",
       "      <td>380</td>\n",
       "      <td>179</td>\n",
       "      <td>143</td>\n",
       "      <td>28</td>\n",
       "      <td>...</td>\n",
       "      <td>0.0</td>\n",
       "      <td>12.2</td>\n",
       "      <td>-2.2</td>\n",
       "      <td>0.0</td>\n",
       "      <td>0</td>\n",
       "      <td>0.4</td>\n",
       "      <td>2.6</td>\n",
       "      <td>34.6</td>\n",
       "      <td>61.6</td>\n",
       "      <td>1</td>\n",
       "    </tr>\n",
       "    <tr>\n",
       "      <th>4</th>\n",
       "      <td>75</td>\n",
       "      <td>0</td>\n",
       "      <td>190</td>\n",
       "      <td>80</td>\n",
       "      <td>88</td>\n",
       "      <td>181</td>\n",
       "      <td>360</td>\n",
       "      <td>177</td>\n",
       "      <td>103</td>\n",
       "      <td>-16</td>\n",
       "      <td>...</td>\n",
       "      <td>0.0</td>\n",
       "      <td>13.1</td>\n",
       "      <td>-3.6</td>\n",
       "      <td>0.0</td>\n",
       "      <td>0</td>\n",
       "      <td>-0.1</td>\n",
       "      <td>3.9</td>\n",
       "      <td>25.4</td>\n",
       "      <td>62.8</td>\n",
       "      <td>7</td>\n",
       "    </tr>\n",
       "  </tbody>\n",
       "</table>\n",
       "<p>5 rows × 280 columns</p>\n",
       "</div>"
      ],
      "text/plain": [
       "   age  sex  height  weight  qrs_duration  p-r_interval  q-t_interval  \\\n",
       "0   75    0     190      80            91           193           371   \n",
       "1   56    1     165      64            81           174           401   \n",
       "2   54    0     172      95           138           163           386   \n",
       "3   55    0     175      94           100           202           380   \n",
       "4   75    0     190      80            88           181           360   \n",
       "\n",
       "   t_interval  p_interval  qrs  ...   KY    KZ   LA   LB LC   LD   LE    LF  \\\n",
       "0         174         121  -16  ...  0.0   9.0 -0.9  0.0  0  0.9  2.9  23.3   \n",
       "1         149          39   25  ...  0.0   8.5  0.0  0.0  0  0.2  2.1  20.4   \n",
       "2         185         102   96  ...  0.0   9.5 -2.4  0.0  0  0.3  3.4  12.3   \n",
       "3         179         143   28  ...  0.0  12.2 -2.2  0.0  0  0.4  2.6  34.6   \n",
       "4         177         103  -16  ...  0.0  13.1 -3.6  0.0  0 -0.1  3.9  25.4   \n",
       "\n",
       "     LG  diagnosis  \n",
       "0  49.4          8  \n",
       "1  38.8          6  \n",
       "2  49.0         10  \n",
       "3  61.6          1  \n",
       "4  62.8          7  \n",
       "\n",
       "[5 rows x 280 columns]"
      ]
     },
     "execution_count": 44,
     "metadata": {},
     "output_type": "execute_result"
    }
   ],
   "source": [
    "df.head()"
   ]
  },
  {
   "cell_type": "markdown",
   "metadata": {},
   "source": [
    "In our data set, we have 452 patients and 279 features for each patient. Last column is interpreted as a number of heart arrhythmia claster. According to documentation, missing attribute values are distinguished with '?' so we will replace them with \"NaN\"."
   ]
  },
  {
   "cell_type": "code",
   "execution_count": 57,
   "metadata": {},
   "outputs": [
    {
     "data": {
      "text/plain": [
       "J               376\n",
       "P                22\n",
       "T                 8\n",
       "QRST              1\n",
       "heart_rate        1\n",
       "age               0\n",
       "sex               0\n",
       "height            0\n",
       "weight            0\n",
       "qrs_duration      0\n",
       "dtype: int64"
      ]
     },
     "execution_count": 57,
     "metadata": {},
     "output_type": "execute_result"
    }
   ],
   "source": [
    "df = df.replace('?', np.NaN)\n",
    "df.isna().sum().nlargest(10)"
   ]
  },
  {
   "cell_type": "markdown",
   "metadata": {},
   "source": [
    "As we can see, in column 'J' we have a lof of missing values, more than 80%, so we will drop that column."
   ]
  },
  {
   "cell_type": "code",
   "execution_count": 61,
   "metadata": {},
   "outputs": [
    {
     "data": {
      "text/plain": [
       "0      NaN\n",
       "1      NaN\n",
       "2       23\n",
       "3      NaN\n",
       "4      NaN\n",
       "      ... \n",
       "447    NaN\n",
       "448    NaN\n",
       "449     84\n",
       "450    103\n",
       "451    NaN\n",
       "Name: J, Length: 452, dtype: object"
      ]
     },
     "execution_count": 61,
     "metadata": {},
     "output_type": "execute_result"
    }
   ],
   "source": [
    "df['J']"
   ]
  },
  {
   "cell_type": "code",
   "execution_count": 63,
   "metadata": {},
   "outputs": [],
   "source": [
    "df.drop([\"J\"], axis=1, inplace=True)"
   ]
  },
  {
   "cell_type": "markdown",
   "metadata": {},
   "source": [
    "#### Descriptive statistics"
   ]
  },
  {
   "cell_type": "code",
   "execution_count": 41,
   "metadata": {},
   "outputs": [
    {
     "name": "stdout",
     "output_type": "stream",
     "text": [
      "KstestResult(statistic=0.995983935741692, pvalue=0.0)\n",
      "KstestResult(statistic=0.9887978852196014, pvalue=0.0)\n"
     ]
    },
    {
     "data": {
      "text/html": [
       "<div>\n",
       "<style scoped>\n",
       "    .dataframe tbody tr th:only-of-type {\n",
       "        vertical-align: middle;\n",
       "    }\n",
       "\n",
       "    .dataframe tbody tr th {\n",
       "        vertical-align: top;\n",
       "    }\n",
       "\n",
       "    .dataframe thead tr th {\n",
       "        text-align: left;\n",
       "    }\n",
       "\n",
       "    .dataframe thead tr:last-of-type th {\n",
       "        text-align: right;\n",
       "    }\n",
       "</style>\n",
       "<table border=\"1\" class=\"dataframe\">\n",
       "  <thead>\n",
       "    <tr>\n",
       "      <th></th>\n",
       "      <th colspan=\"8\" halign=\"left\">age</th>\n",
       "    </tr>\n",
       "    <tr>\n",
       "      <th></th>\n",
       "      <th>count</th>\n",
       "      <th>mean</th>\n",
       "      <th>std</th>\n",
       "      <th>min</th>\n",
       "      <th>25%</th>\n",
       "      <th>50%</th>\n",
       "      <th>75%</th>\n",
       "      <th>max</th>\n",
       "    </tr>\n",
       "    <tr>\n",
       "      <th>sex</th>\n",
       "      <th></th>\n",
       "      <th></th>\n",
       "      <th></th>\n",
       "      <th></th>\n",
       "      <th></th>\n",
       "      <th></th>\n",
       "      <th></th>\n",
       "      <th></th>\n",
       "    </tr>\n",
       "  </thead>\n",
       "  <tbody>\n",
       "    <tr>\n",
       "      <th>0</th>\n",
       "      <td>203.0</td>\n",
       "      <td>47.546798</td>\n",
       "      <td>16.519761</td>\n",
       "      <td>0.0</td>\n",
       "      <td>37.5</td>\n",
       "      <td>47.0</td>\n",
       "      <td>59.0</td>\n",
       "      <td>80.0</td>\n",
       "    </tr>\n",
       "    <tr>\n",
       "      <th>1</th>\n",
       "      <td>249.0</td>\n",
       "      <td>45.594378</td>\n",
       "      <td>16.404173</td>\n",
       "      <td>1.0</td>\n",
       "      <td>34.0</td>\n",
       "      <td>46.0</td>\n",
       "      <td>58.0</td>\n",
       "      <td>83.0</td>\n",
       "    </tr>\n",
       "  </tbody>\n",
       "</table>\n",
       "</div>"
      ],
      "text/plain": [
       "       age                                                   \n",
       "     count       mean        std  min   25%   50%   75%   max\n",
       "sex                                                          \n",
       "0    203.0  47.546798  16.519761  0.0  37.5  47.0  59.0  80.0\n",
       "1    249.0  45.594378  16.404173  1.0  34.0  46.0  58.0  83.0"
      ]
     },
     "execution_count": 41,
     "metadata": {},
     "output_type": "execute_result"
    },
    {
     "data": {
      "image/png": "[encoded data removed]",
      "text/plain": [
       "<Figure size 432x288 with 1 Axes>"
      ]
     },
     "metadata": {
      "needs_background": "light"
     },
     "output_type": "display_data"
    }
   ],
   "source": [
    "print(stats.kstest(df.loc[df['sex'] == 1]['age'], 'norm'))\n",
    "print(stats.kstest(df.loc[df['sex'] == 0]['age'], 'norm'))\n",
    "df.groupby('sex').age.plot(kind='kde') #vizualni prikaz\n",
    "df[[\"sex\", \"age\"]].groupby(\"sex\").describe() #deskriptivna statistika"
   ]
  },
  {
   "cell_type": "markdown",
   "metadata": {},
   "source": [
    "The above results show the distribution graph and descriptive statistics, for both women and men. We conducted ks test and concluded that at each standard level of significance we do not reject the null hypothesis, that is, that our sample of years for each sex follows a normal distribution."
   ]
  },
  {
   "cell_type": "markdown",
   "metadata": {},
   "source": [
    "#### Data transformation"
   ]
  },
  {
   "cell_type": "code",
   "execution_count": 39,
   "metadata": {},
   "outputs": [
    {
     "name": "stdout",
     "output_type": "stream",
     "text": [
      "KstestResult(statistic=0.995983935741692, pvalue=0.0)\n"
     ]
    }
   ],
   "source": [
    "print(stats.kstest(df.loc[df['sex'] == 1]['age'], 'norm'))"
   ]
  },
  {
   "cell_type": "markdown",
   "metadata": {},
   "source": [
    "#### Data cleaning"
   ]
  },
  {
   "cell_type": "code",
   "execution_count": 40,
   "metadata": {},
   "outputs": [
    {
     "name": "stdout",
     "output_type": "stream",
     "text": [
      "KstestResult(statistic=0.9887978852196014, pvalue=0.0)\n"
     ]
    }
   ],
   "source": [
    "print(stats.kstest(df.loc[df['sex'] == 0]['age'], 'norm'))"
   ]
  },
  {
   "cell_type": "markdown",
   "metadata": {},
   "source": [
    "#### Data validation"
   ]
  },
  {
   "cell_type": "code",
   "execution_count": null,
   "metadata": {},
   "outputs": [],
   "source": []
  },
  {
   "cell_type": "markdown",
   "metadata": {},
   "source": [
    "#### Data augmentation"
   ]
  },
  {
   "cell_type": "code",
   "execution_count": null,
   "metadata": {},
   "outputs": [],
   "source": []
  },
  {
   "cell_type": "markdown",
   "metadata": {},
   "source": [
    "#### Feature enginerring"
   ]
  },
  {
   "cell_type": "markdown",
   "metadata": {},
   "source": [
    "## Missing Values"
   ]
  },
  {
   "cell_type": "code",
   "execution_count": 33,
   "metadata": {},
   "outputs": [],
   "source": [
    "imp_mean = SimpleImputer(missing_values=np.nan, strategy='mean')\n",
    "imp_mean.fit(data)\n",
    "SimpleImputer()\n",
    "data = imp_mean.transform(data)\n",
    "data = pd.DataFrame(data)\n"
   ]
  },
  {
   "cell_type": "code",
   "execution_count": 34,
   "metadata": {},
   "outputs": [],
   "source": [
    "X = data.loc[:,0:278]\n",
    "y = data.loc[:,279]\n",
    "\n",
    "X_train, X_test, y_train, y_test = train_test_split(X, y, test_size=0.33, random_state=42)"
   ]
  },
  {
   "cell_type": "code",
   "execution_count": 38,
   "metadata": {},
   "outputs": [
    {
     "data": {
      "text/plain": [
       "PCA(n_components=0.99)"
      ]
     },
     "execution_count": 38,
     "metadata": {},
     "output_type": "execute_result"
    }
   ],
   "source": [
    "pca = PCA(.99)\n",
    "pca.fit(X_train)"
   ]
  },
  {
   "cell_type": "code",
   "execution_count": 39,
   "metadata": {},
   "outputs": [],
   "source": [
    "kk = pca.transform(X_train)"
   ]
  },
  {
   "cell_type": "code",
   "execution_count": null,
   "metadata": {},
   "outputs": [],
   "source": []
  }
 ],
 "metadata": {
  "interpreter": {
   "hash": "eeb592eeb14baf80ba7e3ad598b9cc718d92fa62785d72005ca19f7c0e0c833d"
  },
  "kernelspec": {
   "display_name": "Python 3.8.5 64-bit ('base': conda)",
   "name": "python3"
  },
  "language_info": {
   "codemirror_mode": {
    "name": "ipython",
    "version": 3
   },
   "file_extension": ".py",
   "mimetype": "text/x-python",
   "name": "python",
   "nbconvert_exporter": "python",
   "pygments_lexer": "ipython3",
   "version": "3.8.5"
  },
  "orig_nbformat": 4
 },
 "nbformat": 4,
 "nbformat_minor": 2
}
