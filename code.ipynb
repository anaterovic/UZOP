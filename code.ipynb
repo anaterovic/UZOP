{
 "cells": [
  {
   "cell_type": "markdown",
   "metadata": {},
   "source": [
    "# A machine learning approach for the classification of cardiac arrhythmia\n",
    "The aim of this project is to determine the type of arrhythmia from the ECG recordings.\n",
    "\n",
    "Eleonora Detić"
   ]
  },
  {
   "cell_type": "code",
   "execution_count": 267,
   "metadata": {},
   "outputs": [],
   "source": [
    "%matplotlib inline \n",
    "#ovo mi mozda kasnije stvara probleme\n",
    "import pandas as pd\n",
    "import numpy as np\n",
    "import matplotlib.pyplot as plt\n",
    "\n",
    "\n",
    "from sklearn.model_selection import train_test_split\n",
    "from sklearn.decomposition import PCA\n",
    "from sklearn.impute import SimpleImputer\n",
    "from sklearn.decomposition import PCA\n",
    "from sklearn.preprocessing import StandardScaler\n",
    "from scipy import stats\n",
    "from pca import pca"
   ]
  },
  {
   "cell_type": "markdown",
   "metadata": {},
   "source": [
    "### Data loading"
   ]
  },
  {
   "cell_type": "code",
   "execution_count": 285,
   "metadata": {},
   "outputs": [],
   "source": [
    "df = pd.read_csv('data_arrhythmia.csv', delimiter=';')\n",
    "df.dataframeName = 'data_arrhythmia.csv'"
   ]
  },
  {
   "cell_type": "code",
   "execution_count": 231,
   "metadata": {},
   "outputs": [
    {
     "name": "stdout",
     "output_type": "stream",
     "text": [
      "1. Title: Cardiac Arrhythmia Database\n",
      "\n",
      "2. Sources:\n",
      "   (a) Original owners od Database:\n",
      "       -- 1. H. Altay Guvenir, PhD., \n",
      "             Bilkent University,\n",
      "             Department of Computer Engineering and Information Science,\n",
      "             06533 Ankara, Turkey\n",
      "             Phone: +90 (312) 266 4133\n",
      "             Email: guvenir@cs.bilkent.edu.tr\n",
      "\n",
      "       -- 2. Burak Acar, M.S.,\n",
      "             Bilkent University, \n",
      "             EE Eng. Dept. \n",
      "             06533 Ankara, Turkey\n",
      "             Email: buraka@ee.bilkent.edu.tr\n",
      "\n",
      "       -- 2. Haldun Muderrisoglu, M.D., Ph.D., \n",
      "             Baskent University, \n",
      "             School of Medicine\n",
      "             Ankara, Turkey\n",
      "\n",
      "   (b) Donor: H. Altay Guvenir\n",
      "              Bilkent University,\n",
      "              Department of Computer Engineering and Information Science,\n",
      "              06533 Ankara, Turkey\n",
      "              Phone: +90 (312) 266 4133\n",
      "              Email: guvenir@cs.bilkent.edu.tr\n",
      "\n",
      "   (c) Date: January, 1998\n",
      "\n",
      "3. Past Usage:\n",
      "   1. H. Altay Guvenir, Burak Acar, Gulsen Demiroz, Ayhan Cekin\n",
      "      \"A Supervised Machine Learning Algorithm for Arrhythmia Analysis\"\n",
      "      Proceedings of the Computers in Cardiology Conference, \n",
      "      Lund, Sweden, 1997.\n",
      "      \n",
      "      The aim is to determine the type of arrhythmia from \n",
      "      the ECG recordings.\n",
      "\n",
      "4. Relevant Information:\n",
      "     This database contains 279 attributes, 206 of which are linear\n",
      "     valued and the rest are nominal. \n",
      "\n",
      "     Concerning the study of H. Altay Guvenir: \"The aim is to distinguish\n",
      "     between the presence and absence of cardiac arrhythmia and to\n",
      "     classify it in one of the 16 groups. Class 01 refers to 'normal'\n",
      "     ECG classes 02 to 15 refers to different classes of arrhythmia\n",
      "     and class 16 refers to the rest of unclassified ones. For the\n",
      "     time being, there exists a computer program that makes such a\n",
      "     classification. However there are differences between the\n",
      "     cardiolog's and the programs classification. Taking the\n",
      "     cardiolog's as a gold standard we aim to minimise this difference\n",
      "     by means of machine learning tools.\"\n",
      "\n",
      "     The names and id numbers of the patients were recently \n",
      "     removed from the database.\n",
      "\n",
      "5. Number of Instances: 452\n",
      "\n",
      "6. Number of Attributes: 279\n",
      "\n",
      "7. Attribute Information:\n",
      "   -- Complete attribute documentation:\n",
      "      1 Age: Age in years , linear\n",
      "      2 Sex: Sex (0 = male; 1 = female) , nominal\n",
      "      3 Height: Height in centimeters , linear\n",
      "      4 Weight: Weight in kilograms , linear\n",
      "      5 QRS duration: Average of QRS duration in msec., linear\n",
      "      6 P-R interval: Average duration between onset of P and Q waves\n",
      "        in msec., linear\n",
      "      7 Q-T interval: Average duration between onset of Q and offset\n",
      "        of T waves in msec., linear\n",
      "      8 T interval: Average duration of T wave in msec., linear\n",
      "      9 P interval: Average duration of P wave in msec., linear\n",
      "     Vector angles in degrees on front plane of:, linear\n",
      "     10 QRS\n",
      "     11 T\n",
      "     12 P\n",
      "     13 QRST\n",
      "     14 J\n",
      "\n",
      "     15 Heart rate: Number of heart beats per minute ,linear\n",
      "    \n",
      "     Of channel DI:\n",
      "      Average width, in msec., of: linear\n",
      "      16 Q wave\n",
      "      17 R wave\n",
      "      18 S wave\n",
      "      19 R' wave, small peak just after R\n",
      "      20 S' wave\n",
      "\n",
      "      21 Number of intrinsic deflections, linear\n",
      "\n",
      "      22 Existence of ragged R wave, nominal\n",
      "      23 Existence of diphasic derivation of R wave, nominal\n",
      "      24 Existence of ragged P wave, nominal\n",
      "      25 Existence of diphasic derivation of P wave, nominal\n",
      "      26 Existence of ragged T wave, nominal\n",
      "      27 Existence of diphasic derivation of T wave, nominal\n",
      "\n",
      "     Of channel DII: \n",
      "      28 .. 39 (similar to 16 .. 27 of channel DI)\n",
      "     Of channels DIII:\n",
      "      40 .. 51\n",
      "     Of channel AVR:\n",
      "      52 .. 63\n",
      "     Of channel AVL:\n",
      "      64 .. 75\n",
      "     Of channel AVF:\n",
      "      76 .. 87\n",
      "     Of channel V1:\n",
      "      88 .. 99\n",
      "     Of channel V2:\n",
      "      100 .. 111\n",
      "     Of channel V3:\n",
      "      112 .. 123\n",
      "     Of channel V4:\n",
      "      124 .. 135\n",
      "     Of channel V5:\n",
      "      136 .. 147\n",
      "     Of channel V6:\n",
      "      148 .. 159\n",
      "\n",
      "     Of channel DI:\n",
      "      Amplitude , * 0.1 milivolt, of\n",
      "      160 JJ wave, linear\n",
      "      161 Q wave, linear\n",
      "      162 R wave, linear\n",
      "      163 S wave, linear\n",
      "      164 R' wave, linear\n",
      "      165 S' wave, linear\n",
      "      166 P wave, linear\n",
      "      167 T wave, linear\n",
      "      \n",
      "      168 QRSA , Sum of areas of all segments divided by 10,\n",
      "          ( Area= width * height / 2 ), linear\n",
      "      169 QRSTA = QRSA + 0.5 * width of T wave * 0.1 * height of T\n",
      "          wave. (If T is diphasic then the bigger segment is\n",
      "          considered), linear\n",
      "\n",
      "     Of channel DII:\n",
      "      170 .. 179\n",
      "     Of channel DIII:\n",
      "      180 .. 189\n",
      "     Of channel AVR:\n",
      "      190 .. 199\n",
      "     Of channel AVL:\n",
      "      200 .. 209\n",
      "     Of channel AVF:\n",
      "      210 .. 219\n",
      "     Of channel V1:\n",
      "      220 .. 229\n",
      "     Of channel V2:\n",
      "      230 .. 239\n",
      "     Of channel V3:\n",
      "      240 .. 249\n",
      "     Of channel V4:\n",
      "      250 .. 259\n",
      "     Of channel V5:\n",
      "      260 .. 269\n",
      "     Of channel V6:\n",
      "      270 .. 279\n",
      "      \n",
      "8. Missing Attribute Values: Several.  Distinguished with '?'.\n",
      "\n",
      "9. Class Distribution:\n",
      "       Database:  Arrhythmia\n",
      "       \n",
      "       Class code :   Class   :                       Number of instances:\n",
      "       01             Normal\t\t\t\t          245\n",
      "       02             Ischemic changes (Coronary Artery Disease)   44\n",
      "       03             Old Anterior Myocardial Infarction           15\n",
      "       04             Old Inferior Myocardial Infarction           15\n",
      "       05             Sinus tachycardy\t\t\t           13\n",
      "       06             Sinus bradycardy\t\t\t           25\n",
      "       07             Ventricular Premature Contraction (PVC)       3\n",
      "       08             Supraventricular Premature Contraction\t    2\n",
      "       09             Left bundle branch block \t\t            9\t\n",
      "       10             Right bundle branch block\t\t           50\n",
      "       11             1. degree AtrioVentricular block\t            0\t\n",
      "       12             2. degree AV block\t\t            0\n",
      "       13             3. degree AV block\t\t            0\n",
      "       14             Left ventricule hypertrophy \t            4\n",
      "       15             Atrial Fibrillation or Flutter\t            5\n",
      "       16             Others\t\t\t\t           22\n",
      "\n",
      "\n"
     ]
    }
   ],
   "source": [
    "#data_fake = pd.read_csv('https://archive.ics.uci.edu/ml/machine-learning-databases/arrhythmia/arrhythmia.data', header=None)\n",
    "with open(\"arrhythmia.names\") as f:\n",
    "    print(f.read())"
   ]
  },
  {
   "cell_type": "markdown",
   "metadata": {},
   "source": [
    "### Data survey"
   ]
  },
  {
   "cell_type": "markdown",
   "metadata": {},
   "source": [
    "#### Descriptive statistics"
   ]
  },
  {
   "cell_type": "code",
   "execution_count": 120,
   "metadata": {},
   "outputs": [
    {
     "data": {
      "text/html": [
       "<div>\n",
       "<style scoped>\n",
       "    .dataframe tbody tr th:only-of-type {\n",
       "        vertical-align: middle;\n",
       "    }\n",
       "\n",
       "    .dataframe tbody tr th {\n",
       "        vertical-align: top;\n",
       "    }\n",
       "\n",
       "    .dataframe thead tr th {\n",
       "        text-align: left;\n",
       "    }\n",
       "\n",
       "    .dataframe thead tr:last-of-type th {\n",
       "        text-align: right;\n",
       "    }\n",
       "</style>\n",
       "<table border=\"1\" class=\"dataframe\">\n",
       "  <thead>\n",
       "    <tr>\n",
       "      <th></th>\n",
       "      <th colspan=\"8\" halign=\"left\">age</th>\n",
       "    </tr>\n",
       "    <tr>\n",
       "      <th></th>\n",
       "      <th>count</th>\n",
       "      <th>mean</th>\n",
       "      <th>std</th>\n",
       "      <th>min</th>\n",
       "      <th>25%</th>\n",
       "      <th>50%</th>\n",
       "      <th>75%</th>\n",
       "      <th>max</th>\n",
       "    </tr>\n",
       "    <tr>\n",
       "      <th>sex</th>\n",
       "      <th></th>\n",
       "      <th></th>\n",
       "      <th></th>\n",
       "      <th></th>\n",
       "      <th></th>\n",
       "      <th></th>\n",
       "      <th></th>\n",
       "      <th></th>\n",
       "    </tr>\n",
       "  </thead>\n",
       "  <tbody>\n",
       "    <tr>\n",
       "      <th>0</th>\n",
       "      <td>203.0</td>\n",
       "      <td>47.546798</td>\n",
       "      <td>16.519761</td>\n",
       "      <td>0.0</td>\n",
       "      <td>37.5</td>\n",
       "      <td>47.0</td>\n",
       "      <td>59.0</td>\n",
       "      <td>80.0</td>\n",
       "    </tr>\n",
       "    <tr>\n",
       "      <th>1</th>\n",
       "      <td>249.0</td>\n",
       "      <td>45.594378</td>\n",
       "      <td>16.404173</td>\n",
       "      <td>1.0</td>\n",
       "      <td>34.0</td>\n",
       "      <td>46.0</td>\n",
       "      <td>58.0</td>\n",
       "      <td>83.0</td>\n",
       "    </tr>\n",
       "  </tbody>\n",
       "</table>\n",
       "</div>"
      ],
      "text/plain": [
       "       age                                                   \n",
       "     count       mean        std  min   25%   50%   75%   max\n",
       "sex                                                          \n",
       "0    203.0  47.546798  16.519761  0.0  37.5  47.0  59.0  80.0\n",
       "1    249.0  45.594378  16.404173  1.0  34.0  46.0  58.0  83.0"
      ]
     },
     "execution_count": 120,
     "metadata": {},
     "output_type": "execute_result"
    },
    {
     "data": {
      "image/png": "[encoded data removed]",
      "text/plain": [
       "<Figure size 432x288 with 1 Axes>"
      ]
     },
     "metadata": {
      "needs_background": "light"
     },
     "output_type": "display_data"
    }
   ],
   "source": [
    "df.groupby('sex').age.plot(kind='kde') #vizualni prikaz\n",
    "df[[\"sex\", \"age\"]].groupby(\"sex\").describe() #deskriptivna statistika"
   ]
  },
  {
   "cell_type": "markdown",
   "metadata": {},
   "source": [
    "The above results show the distribution graph and descriptive statistics, for both women and men."
   ]
  },
  {
   "cell_type": "markdown",
   "metadata": {},
   "source": [
    "#### Missing values"
   ]
  },
  {
   "cell_type": "code",
   "execution_count": 266,
   "metadata": {},
   "outputs": [
    {
     "data": {
      "text/plain": [
       "False"
      ]
     },
     "execution_count": 266,
     "metadata": {},
     "output_type": "execute_result"
    }
   ],
   "source": [
    "df.shape\n",
    "any(df.columns.duplicated()) #imena stupaca su mi unique"
   ]
  },
  {
   "cell_type": "code",
   "execution_count": 233,
   "metadata": {},
   "outputs": [
    {
     "data": {
      "text/html": [
       "<div>\n",
       "<style scoped>\n",
       "    .dataframe tbody tr th:only-of-type {\n",
       "        vertical-align: middle;\n",
       "    }\n",
       "\n",
       "    .dataframe tbody tr th {\n",
       "        vertical-align: top;\n",
       "    }\n",
       "\n",
       "    .dataframe thead th {\n",
       "        text-align: right;\n",
       "    }\n",
       "</style>\n",
       "<table border=\"1\" class=\"dataframe\">\n",
       "  <thead>\n",
       "    <tr style=\"text-align: right;\">\n",
       "      <th></th>\n",
       "      <th>age</th>\n",
       "      <th>sex</th>\n",
       "      <th>height</th>\n",
       "      <th>weight</th>\n",
       "      <th>qrs_duration</th>\n",
       "      <th>p-r_interval</th>\n",
       "      <th>q-t_interval</th>\n",
       "      <th>t_interval</th>\n",
       "      <th>p_interval</th>\n",
       "      <th>qrs</th>\n",
       "      <th>...</th>\n",
       "      <th>KY</th>\n",
       "      <th>KZ</th>\n",
       "      <th>LA</th>\n",
       "      <th>LB</th>\n",
       "      <th>LC</th>\n",
       "      <th>LD</th>\n",
       "      <th>LE</th>\n",
       "      <th>LF</th>\n",
       "      <th>LG</th>\n",
       "      <th>diagnosis</th>\n",
       "    </tr>\n",
       "  </thead>\n",
       "  <tbody>\n",
       "    <tr>\n",
       "      <th>0</th>\n",
       "      <td>75</td>\n",
       "      <td>0</td>\n",
       "      <td>190</td>\n",
       "      <td>80</td>\n",
       "      <td>91</td>\n",
       "      <td>193</td>\n",
       "      <td>371</td>\n",
       "      <td>174</td>\n",
       "      <td>121</td>\n",
       "      <td>-16</td>\n",
       "      <td>...</td>\n",
       "      <td>0.0</td>\n",
       "      <td>9.0</td>\n",
       "      <td>-0.9</td>\n",
       "      <td>0.0</td>\n",
       "      <td>0</td>\n",
       "      <td>0.9</td>\n",
       "      <td>2.9</td>\n",
       "      <td>23.3</td>\n",
       "      <td>49.4</td>\n",
       "      <td>8</td>\n",
       "    </tr>\n",
       "    <tr>\n",
       "      <th>1</th>\n",
       "      <td>56</td>\n",
       "      <td>1</td>\n",
       "      <td>165</td>\n",
       "      <td>64</td>\n",
       "      <td>81</td>\n",
       "      <td>174</td>\n",
       "      <td>401</td>\n",
       "      <td>149</td>\n",
       "      <td>39</td>\n",
       "      <td>25</td>\n",
       "      <td>...</td>\n",
       "      <td>0.0</td>\n",
       "      <td>8.5</td>\n",
       "      <td>0.0</td>\n",
       "      <td>0.0</td>\n",
       "      <td>0</td>\n",
       "      <td>0.2</td>\n",
       "      <td>2.1</td>\n",
       "      <td>20.4</td>\n",
       "      <td>38.8</td>\n",
       "      <td>6</td>\n",
       "    </tr>\n",
       "    <tr>\n",
       "      <th>2</th>\n",
       "      <td>54</td>\n",
       "      <td>0</td>\n",
       "      <td>172</td>\n",
       "      <td>95</td>\n",
       "      <td>138</td>\n",
       "      <td>163</td>\n",
       "      <td>386</td>\n",
       "      <td>185</td>\n",
       "      <td>102</td>\n",
       "      <td>96</td>\n",
       "      <td>...</td>\n",
       "      <td>0.0</td>\n",
       "      <td>9.5</td>\n",
       "      <td>-2.4</td>\n",
       "      <td>0.0</td>\n",
       "      <td>0</td>\n",
       "      <td>0.3</td>\n",
       "      <td>3.4</td>\n",
       "      <td>12.3</td>\n",
       "      <td>49.0</td>\n",
       "      <td>10</td>\n",
       "    </tr>\n",
       "    <tr>\n",
       "      <th>3</th>\n",
       "      <td>55</td>\n",
       "      <td>0</td>\n",
       "      <td>175</td>\n",
       "      <td>94</td>\n",
       "      <td>100</td>\n",
       "      <td>202</td>\n",
       "      <td>380</td>\n",
       "      <td>179</td>\n",
       "      <td>143</td>\n",
       "      <td>28</td>\n",
       "      <td>...</td>\n",
       "      <td>0.0</td>\n",
       "      <td>12.2</td>\n",
       "      <td>-2.2</td>\n",
       "      <td>0.0</td>\n",
       "      <td>0</td>\n",
       "      <td>0.4</td>\n",
       "      <td>2.6</td>\n",
       "      <td>34.6</td>\n",
       "      <td>61.6</td>\n",
       "      <td>1</td>\n",
       "    </tr>\n",
       "    <tr>\n",
       "      <th>4</th>\n",
       "      <td>75</td>\n",
       "      <td>0</td>\n",
       "      <td>190</td>\n",
       "      <td>80</td>\n",
       "      <td>88</td>\n",
       "      <td>181</td>\n",
       "      <td>360</td>\n",
       "      <td>177</td>\n",
       "      <td>103</td>\n",
       "      <td>-16</td>\n",
       "      <td>...</td>\n",
       "      <td>0.0</td>\n",
       "      <td>13.1</td>\n",
       "      <td>-3.6</td>\n",
       "      <td>0.0</td>\n",
       "      <td>0</td>\n",
       "      <td>-0.1</td>\n",
       "      <td>3.9</td>\n",
       "      <td>25.4</td>\n",
       "      <td>62.8</td>\n",
       "      <td>7</td>\n",
       "    </tr>\n",
       "  </tbody>\n",
       "</table>\n",
       "<p>5 rows × 280 columns</p>\n",
       "</div>"
      ],
      "text/plain": [
       "   age  sex  height  weight  qrs_duration  p-r_interval  q-t_interval  \\\n",
       "0   75    0     190      80            91           193           371   \n",
       "1   56    1     165      64            81           174           401   \n",
       "2   54    0     172      95           138           163           386   \n",
       "3   55    0     175      94           100           202           380   \n",
       "4   75    0     190      80            88           181           360   \n",
       "\n",
       "   t_interval  p_interval  qrs  ...   KY    KZ   LA   LB LC   LD   LE    LF  \\\n",
       "0         174         121  -16  ...  0.0   9.0 -0.9  0.0  0  0.9  2.9  23.3   \n",
       "1         149          39   25  ...  0.0   8.5  0.0  0.0  0  0.2  2.1  20.4   \n",
       "2         185         102   96  ...  0.0   9.5 -2.4  0.0  0  0.3  3.4  12.3   \n",
       "3         179         143   28  ...  0.0  12.2 -2.2  0.0  0  0.4  2.6  34.6   \n",
       "4         177         103  -16  ...  0.0  13.1 -3.6  0.0  0 -0.1  3.9  25.4   \n",
       "\n",
       "     LG  diagnosis  \n",
       "0  49.4          8  \n",
       "1  38.8          6  \n",
       "2  49.0         10  \n",
       "3  61.6          1  \n",
       "4  62.8          7  \n",
       "\n",
       "[5 rows x 280 columns]"
      ]
     },
     "execution_count": 233,
     "metadata": {},
     "output_type": "execute_result"
    }
   ],
   "source": [
    "df.head()"
   ]
  },
  {
   "cell_type": "markdown",
   "metadata": {},
   "source": [
    "In our data set, we have 452 patients and 279 features for each patient. Last column is interpreted as a number of heart arrhythmia claster. According to documentation, missing attribute values are distinguished with '?' so we will replace them with \"NaN\"."
   ]
  },
  {
   "cell_type": "code",
   "execution_count": 286,
   "metadata": {},
   "outputs": [
    {
     "data": {
      "text/plain": [
       "J               376\n",
       "P                22\n",
       "T                 8\n",
       "QRST              1\n",
       "heart_rate        1\n",
       "age               0\n",
       "sex               0\n",
       "height            0\n",
       "weight            0\n",
       "qrs_duration      0\n",
       "dtype: int64"
      ]
     },
     "execution_count": 286,
     "metadata": {},
     "output_type": "execute_result"
    }
   ],
   "source": [
    "df = df.replace('?', np.NaN)\n",
    "df.isna().sum().nlargest(10)"
   ]
  },
  {
   "cell_type": "markdown",
   "metadata": {},
   "source": [
    "As we can see, in column 'J' we have a lof of missing values, more than 80%, so we will drop that column."
   ]
  },
  {
   "cell_type": "code",
   "execution_count": 287,
   "metadata": {},
   "outputs": [],
   "source": [
    "df.drop([\"J\"], axis=1, inplace=True)"
   ]
  },
  {
   "cell_type": "markdown",
   "metadata": {},
   "source": [
    "As for the other columns, since these variables are continuous, the first idea could be to hope for a normal distribution and then try to preserve the variability of the data by randomly simulate the missing values. <br> For this purpose, we perform well know **Kolmogorov–Smirnov** test."
   ]
  },
  {
   "cell_type": "code",
   "execution_count": 8,
   "metadata": {},
   "outputs": [
    {
     "name": "stdout",
     "output_type": "stream",
     "text": [
      "KstestResult(statistic=0.9255811086972653, pvalue=0.0)\n",
      "KstestResult(statistic=0.847749201067469, pvalue=0.0)\n",
      "KstestResult(statistic=0.8168319201501881, pvalue=0.0)\n",
      "KstestResult(statistic=1.0, pvalue=0.0)\n"
     ]
    }
   ],
   "source": [
    "print(stats.kstest(df[df['P'].notnull()]['P'].astype(int), 'norm'))\n",
    "print(stats.kstest(df[df['T'].notnull()]['T'].astype(int), 'norm'))\n",
    "print(stats.kstest(df[df['QRST'].notnull()]['QRST'].astype(int), 'norm'))\n",
    "print(stats.kstest(df[df['heart_rate'].notnull()]['heart_rate'].astype(int), 'norm'))"
   ]
  },
  {
   "cell_type": "markdown",
   "metadata": {},
   "source": [
    "This assumption was obviously too ambitious. For all columns, the p value turned out to be very small and the test statistics very large. <br> So our conclusion is that at each standard level of significance, we reject the null hypothesis, that is, that our data **do not follow** a normal distribution. <br>\n",
    "The next idea is standard. We will replace the missing values with the mean of each column."
   ]
  },
  {
   "cell_type": "code",
   "execution_count": 288,
   "metadata": {},
   "outputs": [],
   "source": [
    "imp= SimpleImputer(missing_values=np.NaN, strategy='mean')\n",
    "idf=pd.DataFrame(imp.fit_transform(df))\n",
    "idf.columns=df.columns\n",
    "idf.index=df.index\n",
    "df = idf"
   ]
  },
  {
   "cell_type": "markdown",
   "metadata": {},
   "source": [
    "Finally, there are no more missing values in our data."
   ]
  },
  {
   "cell_type": "code",
   "execution_count": 101,
   "metadata": {},
   "outputs": [],
   "source": [
    "#df.isin([0]).sum(axis=0).nlargest(30) pitanje je dal izbacim te očite? -> ako su sve nule, il gotovo sve to mi ocito nista ne govori lol?"
   ]
  },
  {
   "cell_type": "code",
   "execution_count": null,
   "metadata": {},
   "outputs": [],
   "source": [
    "#df.drop([\"J\",\"R'_wave\",\"S'_wave\", \"AB\", \"AC\", \"AD\",\"AE\", \"AF\", \"AG\", \"AL\", \"AN\", \"AO\", \"AP\", \"AR\", \"AS\", \"AT\", \"AZ\", \"AB'\", \"BC\", \"BD\", \"BE\", \"BG\", \"BH\", \"BP\", \"BR\", \"BS\", \"BT\", \"BU\", \"CA\", \"CD\", \"CE\", \"Cf\", \"CG\", \"CH\", \"CI\", \"CM\",\"CN\",\"CP\",\"CR\",\"CS\",\"CT\",\"CU\",\"CV\",\"DE\",\"DF\",\"DG\",\"DH\",\"DI\",\"DJ\",\"DR\",\"DS\",\"DT\",\"DU\",\"DV\",\"DY\",\"EG\",\n",
    "# \"EH\", \"EL\", \"ER\", \"ET\", \"EU\", \"EV\", \"EY\", \"EZ\", \"FA\", \"FE\", \"FF\", \"FH\", \"FI\", \"FJ\", \"FK\", \"FL\", \"FM\", \"FR\", \"FS\", \"FU\", \"FV\", \"FY\", \"FZ\", \"GA\",\n",
    "# \"GB\", \"GG\", \"GH\", \"HD\", \"HE\", \"HO\", \"IA\", \"IB\", \"IK\", \"IL\", \"IY\", \"JI\", \"JS\", \"JT\", \"KF\", \"KO\", \"KP\", \"LB\", \"LC\", \"T\", \"P\", \"QRST\", \"heart_rate\"], axis=1, inplace=True)"
   ]
  },
  {
   "cell_type": "markdown",
   "metadata": {},
   "source": [
    "## Principal Component Analysis"
   ]
  },
  {
   "cell_type": "markdown",
   "metadata": {},
   "source": [
    "Before using PCA, the first step is scaling the features in our data. "
   ]
  },
  {
   "cell_type": "code",
   "execution_count": 289,
   "metadata": {},
   "outputs": [],
   "source": [
    "X = df.iloc[:,0:277].values\n",
    "y = df.iloc[:,-1:].values\n",
    "X = StandardScaler().fit_transform(X)"
   ]
  },
  {
   "cell_type": "code",
   "execution_count": 290,
   "metadata": {},
   "outputs": [],
   "source": [
    "pca = PCA(n_components=2)\n",
    "principalComponents = pca.fit_transform(X)\n",
    "principalDf = pd.DataFrame(data = principalComponents, columns = ['PC1', 'PC2'])"
   ]
  },
  {
   "cell_type": "code",
   "execution_count": 274,
   "metadata": {},
   "outputs": [],
   "source": [
    "finalDf = pd.concat([principalDf, df[['diagnosis']]], axis = 1)"
   ]
  },
  {
   "cell_type": "code",
   "execution_count": 244,
   "metadata": {},
   "outputs": [
    {
     "ename": "ValueError",
     "evalue": "too many values to unpack (expected 2)",
     "output_type": "error",
     "traceback": [
      "\u001b[0;31m---------------------------------------------------------------------------\u001b[0m",
      "\u001b[0;31mValueError\u001b[0m                                Traceback (most recent call last)",
      "\u001b[0;32m/var/folders/d3/xr9k6gp148s_pc6q399vjm2h0000gn/T/ipykernel_2817/2338363540.py\u001b[0m in \u001b[0;36m<module>\u001b[0;34m\u001b[0m\n\u001b[1;32m      6\u001b[0m \u001b[0;32mfor\u001b[0m \u001b[0mlength\u001b[0m\u001b[0;34m,\u001b[0m \u001b[0mvector\u001b[0m \u001b[0;32min\u001b[0m \u001b[0mzip\u001b[0m\u001b[0;34m(\u001b[0m\u001b[0mpca\u001b[0m\u001b[0;34m.\u001b[0m\u001b[0mexplained_variance_\u001b[0m\u001b[0;34m,\u001b[0m \u001b[0mpca\u001b[0m\u001b[0;34m.\u001b[0m\u001b[0mcomponents_\u001b[0m\u001b[0;34m)\u001b[0m\u001b[0;34m:\u001b[0m\u001b[0;34m\u001b[0m\u001b[0;34m\u001b[0m\u001b[0m\n\u001b[1;32m      7\u001b[0m     \u001b[0mv\u001b[0m \u001b[0;34m=\u001b[0m \u001b[0mvector\u001b[0m \u001b[0;34m*\u001b[0m \u001b[0;36m30\u001b[0m \u001b[0;34m*\u001b[0m \u001b[0mnp\u001b[0m\u001b[0;34m.\u001b[0m\u001b[0msqrt\u001b[0m\u001b[0;34m(\u001b[0m\u001b[0mlength\u001b[0m\u001b[0;34m)\u001b[0m \u001b[0;31m#obično skaliranje smjera vektora - provjeri ovaj dio\u001b[0m\u001b[0;34m\u001b[0m\u001b[0;34m\u001b[0m\u001b[0m\n\u001b[0;32m----> 8\u001b[0;31m     \u001b[0mdraw_vector\u001b[0m\u001b[0;34m(\u001b[0m\u001b[0mpca\u001b[0m\u001b[0;34m.\u001b[0m\u001b[0mmean_\u001b[0m\u001b[0;34m,\u001b[0m \u001b[0mpca\u001b[0m\u001b[0;34m.\u001b[0m\u001b[0mmean_\u001b[0m \u001b[0;34m+\u001b[0m \u001b[0mv\u001b[0m\u001b[0;34m)\u001b[0m\u001b[0;34m\u001b[0m\u001b[0;34m\u001b[0m\u001b[0m\n\u001b[0m\u001b[1;32m      9\u001b[0m \u001b[0mplt\u001b[0m\u001b[0;34m.\u001b[0m\u001b[0maxis\u001b[0m\u001b[0;34m(\u001b[0m\u001b[0;34m'equal'\u001b[0m\u001b[0;34m)\u001b[0m\u001b[0;34m;\u001b[0m\u001b[0;34m\u001b[0m\u001b[0;34m\u001b[0m\u001b[0m\n",
      "\u001b[0;32m/var/folders/d3/xr9k6gp148s_pc6q399vjm2h0000gn/T/ipykernel_2817/2338363540.py\u001b[0m in \u001b[0;36mdraw_vector\u001b[0;34m(v0, v1, ax)\u001b[0m\n\u001b[1;32m      2\u001b[0m     \u001b[0max\u001b[0m \u001b[0;34m=\u001b[0m \u001b[0max\u001b[0m \u001b[0;32mor\u001b[0m \u001b[0mplt\u001b[0m\u001b[0;34m.\u001b[0m\u001b[0mgca\u001b[0m\u001b[0;34m(\u001b[0m\u001b[0;34m)\u001b[0m\u001b[0;34m\u001b[0m\u001b[0;34m\u001b[0m\u001b[0m\n\u001b[1;32m      3\u001b[0m     \u001b[0marrowprops\u001b[0m\u001b[0;34m=\u001b[0m\u001b[0mdict\u001b[0m\u001b[0;34m(\u001b[0m\u001b[0marrowstyle\u001b[0m\u001b[0;34m=\u001b[0m\u001b[0;34m'->'\u001b[0m\u001b[0;34m,\u001b[0m\u001b[0mlinewidth\u001b[0m\u001b[0;34m=\u001b[0m\u001b[0;36m2\u001b[0m\u001b[0;34m,\u001b[0m\u001b[0mshrinkA\u001b[0m\u001b[0;34m=\u001b[0m\u001b[0;36m0\u001b[0m\u001b[0;34m,\u001b[0m \u001b[0mshrinkB\u001b[0m\u001b[0;34m=\u001b[0m\u001b[0;36m0\u001b[0m\u001b[0;34m)\u001b[0m\u001b[0;34m\u001b[0m\u001b[0;34m\u001b[0m\u001b[0m\n\u001b[0;32m----> 4\u001b[0;31m     \u001b[0max\u001b[0m\u001b[0;34m.\u001b[0m\u001b[0mannotate\u001b[0m\u001b[0;34m(\u001b[0m\u001b[0;34m''\u001b[0m\u001b[0;34m,\u001b[0m \u001b[0mv1\u001b[0m\u001b[0;34m,\u001b[0m \u001b[0mv0\u001b[0m\u001b[0;34m,\u001b[0m \u001b[0marrowprops\u001b[0m\u001b[0;34m=\u001b[0m\u001b[0marrowprops\u001b[0m\u001b[0;34m)\u001b[0m\u001b[0;34m\u001b[0m\u001b[0;34m\u001b[0m\u001b[0m\n\u001b[0m\u001b[1;32m      5\u001b[0m \u001b[0mplt\u001b[0m\u001b[0;34m.\u001b[0m\u001b[0mscatter\u001b[0m\u001b[0;34m(\u001b[0m\u001b[0mfinalDf\u001b[0m\u001b[0;34m[\u001b[0m\u001b[0;34m\"PC1\"\u001b[0m\u001b[0;34m]\u001b[0m\u001b[0;34m,\u001b[0m\u001b[0mfinalDf\u001b[0m\u001b[0;34m[\u001b[0m\u001b[0;34m\"PC2\"\u001b[0m\u001b[0;34m]\u001b[0m\u001b[0;34m,\u001b[0m \u001b[0mc\u001b[0m\u001b[0;34m=\u001b[0m\u001b[0;34m\"r\"\u001b[0m\u001b[0;34m,\u001b[0m\u001b[0ms\u001b[0m\u001b[0;34m=\u001b[0m\u001b[0;36m1\u001b[0m\u001b[0;34m)\u001b[0m\u001b[0;34m\u001b[0m\u001b[0;34m\u001b[0m\u001b[0m\n\u001b[1;32m      6\u001b[0m \u001b[0;32mfor\u001b[0m \u001b[0mlength\u001b[0m\u001b[0;34m,\u001b[0m \u001b[0mvector\u001b[0m \u001b[0;32min\u001b[0m \u001b[0mzip\u001b[0m\u001b[0;34m(\u001b[0m\u001b[0mpca\u001b[0m\u001b[0;34m.\u001b[0m\u001b[0mexplained_variance_\u001b[0m\u001b[0;34m,\u001b[0m \u001b[0mpca\u001b[0m\u001b[0;34m.\u001b[0m\u001b[0mcomponents_\u001b[0m\u001b[0;34m)\u001b[0m\u001b[0;34m:\u001b[0m\u001b[0;34m\u001b[0m\u001b[0;34m\u001b[0m\u001b[0m\n",
      "\u001b[0;32m~/opt/anaconda3/lib/python3.8/site-packages/matplotlib/cbook/deprecation.py\u001b[0m in \u001b[0;36mwrapper\u001b[0;34m(*args, **kwargs)\u001b[0m\n\u001b[1;32m    313\u001b[0m                 f\"for the old name will be dropped %(removal)s.\")\n\u001b[1;32m    314\u001b[0m             \u001b[0mkwargs\u001b[0m\u001b[0;34m[\u001b[0m\u001b[0mnew\u001b[0m\u001b[0;34m]\u001b[0m \u001b[0;34m=\u001b[0m \u001b[0mkwargs\u001b[0m\u001b[0;34m.\u001b[0m\u001b[0mpop\u001b[0m\u001b[0;34m(\u001b[0m\u001b[0mold\u001b[0m\u001b[0;34m)\u001b[0m\u001b[0;34m\u001b[0m\u001b[0;34m\u001b[0m\u001b[0m\n\u001b[0;32m--> 315\u001b[0;31m         \u001b[0;32mreturn\u001b[0m \u001b[0mfunc\u001b[0m\u001b[0;34m(\u001b[0m\u001b[0;34m*\u001b[0m\u001b[0margs\u001b[0m\u001b[0;34m,\u001b[0m \u001b[0;34m**\u001b[0m\u001b[0mkwargs\u001b[0m\u001b[0;34m)\u001b[0m\u001b[0;34m\u001b[0m\u001b[0;34m\u001b[0m\u001b[0m\n\u001b[0m\u001b[1;32m    316\u001b[0m \u001b[0;34m\u001b[0m\u001b[0m\n\u001b[1;32m    317\u001b[0m     \u001b[0;31m# wrapper() must keep the same documented signature as func(): if we\u001b[0m\u001b[0;34m\u001b[0m\u001b[0;34m\u001b[0m\u001b[0;34m\u001b[0m\u001b[0m\n",
      "\u001b[0;32m~/opt/anaconda3/lib/python3.8/site-packages/matplotlib/axes/_axes.py\u001b[0m in \u001b[0;36mannotate\u001b[0;34m(self, text, xy, *args, **kwargs)\u001b[0m\n\u001b[1;32m    771\u001b[0m     \u001b[0;34m@\u001b[0m\u001b[0mdocstring\u001b[0m\u001b[0;34m.\u001b[0m\u001b[0mdedent_interpd\u001b[0m\u001b[0;34m\u001b[0m\u001b[0;34m\u001b[0m\u001b[0m\n\u001b[1;32m    772\u001b[0m     \u001b[0;32mdef\u001b[0m \u001b[0mannotate\u001b[0m\u001b[0;34m(\u001b[0m\u001b[0mself\u001b[0m\u001b[0;34m,\u001b[0m \u001b[0mtext\u001b[0m\u001b[0;34m,\u001b[0m \u001b[0mxy\u001b[0m\u001b[0;34m,\u001b[0m \u001b[0;34m*\u001b[0m\u001b[0margs\u001b[0m\u001b[0;34m,\u001b[0m \u001b[0;34m**\u001b[0m\u001b[0mkwargs\u001b[0m\u001b[0;34m)\u001b[0m\u001b[0;34m:\u001b[0m\u001b[0;34m\u001b[0m\u001b[0;34m\u001b[0m\u001b[0m\n\u001b[0;32m--> 773\u001b[0;31m         \u001b[0ma\u001b[0m \u001b[0;34m=\u001b[0m \u001b[0mmtext\u001b[0m\u001b[0;34m.\u001b[0m\u001b[0mAnnotation\u001b[0m\u001b[0;34m(\u001b[0m\u001b[0mtext\u001b[0m\u001b[0;34m,\u001b[0m \u001b[0mxy\u001b[0m\u001b[0;34m,\u001b[0m \u001b[0;34m*\u001b[0m\u001b[0margs\u001b[0m\u001b[0;34m,\u001b[0m \u001b[0;34m**\u001b[0m\u001b[0mkwargs\u001b[0m\u001b[0;34m)\u001b[0m\u001b[0;34m\u001b[0m\u001b[0;34m\u001b[0m\u001b[0m\n\u001b[0m\u001b[1;32m    774\u001b[0m         \u001b[0ma\u001b[0m\u001b[0;34m.\u001b[0m\u001b[0mset_transform\u001b[0m\u001b[0;34m(\u001b[0m\u001b[0mmtransforms\u001b[0m\u001b[0;34m.\u001b[0m\u001b[0mIdentityTransform\u001b[0m\u001b[0;34m(\u001b[0m\u001b[0;34m)\u001b[0m\u001b[0;34m)\u001b[0m\u001b[0;34m\u001b[0m\u001b[0;34m\u001b[0m\u001b[0m\n\u001b[1;32m    775\u001b[0m         \u001b[0;32mif\u001b[0m \u001b[0;34m'clip_on'\u001b[0m \u001b[0;32min\u001b[0m \u001b[0mkwargs\u001b[0m\u001b[0;34m:\u001b[0m\u001b[0;34m\u001b[0m\u001b[0;34m\u001b[0m\u001b[0m\n",
      "\u001b[0;32m~/opt/anaconda3/lib/python3.8/site-packages/matplotlib/text.py\u001b[0m in \u001b[0;36m__init__\u001b[0;34m(self, text, xy, xytext, xycoords, textcoords, arrowprops, annotation_clip, **kwargs)\u001b[0m\n\u001b[1;32m   1725\u001b[0m         \u001b[0;32mif\u001b[0m \u001b[0mxytext\u001b[0m \u001b[0;32mis\u001b[0m \u001b[0;32mNone\u001b[0m\u001b[0;34m:\u001b[0m\u001b[0;34m\u001b[0m\u001b[0;34m\u001b[0m\u001b[0m\n\u001b[1;32m   1726\u001b[0m             \u001b[0mxytext\u001b[0m \u001b[0;34m=\u001b[0m \u001b[0mself\u001b[0m\u001b[0;34m.\u001b[0m\u001b[0mxy\u001b[0m\u001b[0;34m\u001b[0m\u001b[0;34m\u001b[0m\u001b[0m\n\u001b[0;32m-> 1727\u001b[0;31m         \u001b[0mx\u001b[0m\u001b[0;34m,\u001b[0m \u001b[0my\u001b[0m \u001b[0;34m=\u001b[0m \u001b[0mxytext\u001b[0m\u001b[0;34m\u001b[0m\u001b[0;34m\u001b[0m\u001b[0m\n\u001b[0m\u001b[1;32m   1728\u001b[0m \u001b[0;34m\u001b[0m\u001b[0m\n\u001b[1;32m   1729\u001b[0m         \u001b[0mself\u001b[0m\u001b[0;34m.\u001b[0m\u001b[0marrowprops\u001b[0m \u001b[0;34m=\u001b[0m \u001b[0marrowprops\u001b[0m\u001b[0;34m\u001b[0m\u001b[0;34m\u001b[0m\u001b[0m\n",
      "\u001b[0;31mValueError\u001b[0m: too many values to unpack (expected 2)"
     ]
    },
    {
     "data": {
      "image/png": "[encoded data removed]",
      "text/plain": [
       "<Figure size 432x288 with 1 Axes>"
      ]
     },
     "metadata": {
      "needs_background": "light"
     },
     "output_type": "display_data"
    }
   ],
   "source": [
    "def draw_vector(v0, v1, ax=None):\n",
    "    ax = ax or plt.gca()\n",
    "    arrowprops=dict(arrowstyle='->',linewidth=2,shrinkA=0, shrinkB=0)\n",
    "    ax.annotate('', v1, v0, arrowprops=arrowprops)\n",
    "plt.scatter(finalDf[\"PC1\"],finalDf[\"PC2\"], c=\"r\",s=1)\n",
    "for length, vector in zip(pca.explained_variance_, pca.components_):\n",
    "    v = vector * 30 * np.sqrt(length) #obično skaliranje smjera vektora - provjeri ovaj dio\n",
    "    draw_vector(pca.mean_, pca.mean_ + v)\n",
    "plt.axis('equal');"
   ]
  },
  {
   "cell_type": "code",
   "execution_count": 245,
   "metadata": {},
   "outputs": [
    {
     "data": {
      "image/png": "[encoded data removed]",
      "text/plain": [
       "<Figure size 432x288 with 2 Axes>"
      ]
     },
     "metadata": {
      "needs_background": "light"
     },
     "output_type": "display_data"
    }
   ],
   "source": [
    "plt.scatter(finalDf[\"PC1\"],finalDf[\"PC2\"], c=finalDf.diagnosis, edgecolor='none', alpha=0.5,cmap=plt.cm.get_cmap('nipy_spectral', 16))\n",
    "plt.xlabel('Component 1')\n",
    "plt.ylabel('Component 2')\n",
    "plt.colorbar();"
   ]
  },
  {
   "cell_type": "markdown",
   "metadata": {},
   "source": [
    "#### Scree plot"
   ]
  },
  {
   "cell_type": "code",
   "execution_count": 246,
   "metadata": {},
   "outputs": [
    {
     "data": {
      "image/png": "[encoded data removed]",
      "text/plain": [
       "<Figure size 432x288 with 1 Axes>"
      ]
     },
     "metadata": {
      "needs_background": "light"
     },
     "output_type": "display_data"
    }
   ],
   "source": [
    "scaler = StandardScaler()\n",
    "scaled_df=df.copy()\n",
    "scaled_df=pd.DataFrame(scaler.fit_transform(scaled_df), columns=scaled_df.columns)\n",
    "pca = PCA(n_components=279)\n",
    "pca_fit = pca.fit(scaled_df)\n",
    "PC_values = np.arange(pca.n_components_) + 1\n",
    "plt.plot(np.cumsum(100 * pca.explained_variance_ratio_), color=\"darkblue\")\n",
    "#plt.title('Scree Plot') nisam sigurna jel ovo bas scree plot?\n",
    "plt.xlabel('Principal Component')\n",
    "plt.ylabel('Cumulative Explained Variance')\n",
    "plt.axvline(x=150, color=\"black\", linestyle=(0, (5, 5)))\n",
    "plt.show()\n",
    "\n",
    "#print(pca.explained_variance_) #koliki smo postotak varijabilnosti objasnili"
   ]
  },
  {
   "cell_type": "markdown",
   "metadata": {},
   "source": [
    "sada iz tog grafa zaključim da trebam 150 prvih PCA komponenta i te feature uzmem"
   ]
  },
  {
   "cell_type": "markdown",
   "metadata": {},
   "source": [
    "#### Getting the most important features based on Principal Component Analysis"
   ]
  },
  {
   "cell_type": "code",
   "execution_count": 291,
   "metadata": {},
   "outputs": [],
   "source": [
    "model = PCA(n_components=150).fit(X)\n",
    "n_pcs= model.components_.shape[0]\n",
    "most_important = [np.abs(model.components_[i]).argmax() for i in range(n_pcs)]\n",
    "initial_feature_names = scaled_df.columns.tolist()\n",
    "most_important_names = [initial_feature_names[most_important[i]] for i in range(n_pcs)]\n",
    "dic = {'PC{}'.format(i): most_important_names[i] for i in range(n_pcs)}\n",
    "df_ = pd.DataFrame(dic.items())"
   ]
  },
  {
   "cell_type": "code",
   "execution_count": 276,
   "metadata": {},
   "outputs": [
    {
     "name": "stdout",
     "output_type": "stream",
     "text": [
      "[pca] >Column labels are auto-completed.\n",
      "[pca] >Row labels are auto-completed.\n",
      "[pca] >The PCA reduction is performed to capture [95.0%] explained variance using the [277] columns of the input data.\n",
      "[pca] >Fitting using PCA..\n",
      "[pca] >Computing loadings and PCs..\n",
      "[pca] >Computing explained variance..\n",
      "[pca] >Number of components is [102] that covers the [95.00%] explained variance.\n",
      "[pca] >Outlier detection using Hotelling T2 test with alpha=[0.05] and n_components=[102]\n",
      "[pca] >Outlier detection using SPE/DmodX with n_std=[2]\n"
     ]
    },
    {
     "data": {
      "image/png": "[encoded data removed]",
      "text/plain": [
       "<Figure size 720x576 with 1 Axes>"
      ]
     },
     "metadata": {
      "needs_background": "light"
     },
     "output_type": "display_data"
    },
    {
     "data": {
      "text/plain": [
       "(<Figure size 720x576 with 1 Axes>,\n",
       " <AxesSubplot:title={'center':'Cumulative explained variance\\n 102 Principal Components explain [95.0%] of the variance.'}, xlabel='Principle Component', ylabel='Percentage explained variance'>)"
      ]
     },
     "execution_count": 276,
     "metadata": {},
     "output_type": "execute_result"
    },
    {
     "data": {
      "text/plain": [
       "<Figure size 432x288 with 0 Axes>"
      ]
     },
     "metadata": {},
     "output_type": "display_data"
    }
   ],
   "source": [
    "from pca import pca\n",
    "model = pca()\n",
    "# Fit transform\n",
    "out = model.fit_transform(X)\n",
    "model.plot()"
   ]
  },
  {
   "cell_type": "code",
   "execution_count": 175,
   "metadata": {},
   "outputs": [],
   "source": [
    "#ax = model.biplot(n_feat=279, legend=False)"
   ]
  },
  {
   "cell_type": "code",
   "execution_count": 214,
   "metadata": {},
   "outputs": [],
   "source": [
    "#ax = model.biplot3d(n_feat=279, legend=False)"
   ]
  },
  {
   "cell_type": "code",
   "execution_count": 277,
   "metadata": {},
   "outputs": [
    {
     "data": {
      "text/plain": [
       "['HH',\n",
       " 'LF',\n",
       " 'JY',\n",
       " 'qrs_duration',\n",
       " 'IN',\n",
       " 'FB',\n",
       " 'JS',\n",
       " 'IK',\n",
       " 'HG',\n",
       " 'GT',\n",
       " 'DS',\n",
       " 'AI',\n",
       " 'HA',\n",
       " 'KG',\n",
       " 'KO',\n",
       " 'IU',\n",
       " 'IT',\n",
       " 'FD',\n",
       " 'BR',\n",
       " 'CG',\n",
       " 'JU',\n",
       " 'KF',\n",
       " 'IL',\n",
       " 'HO',\n",
       " 'AG',\n",
       " 'DU',\n",
       " 'AS',\n",
       " 'LB',\n",
       " 'HO',\n",
       " 'FK',\n",
       " \"AB'\",\n",
       " 'KF',\n",
       " 'HE',\n",
       " 'BT',\n",
       " 'JP',\n",
       " 'FY',\n",
       " 'CM',\n",
       " 'EK',\n",
       " 'DI',\n",
       " 'FK',\n",
       " 'CV',\n",
       " 'EG',\n",
       " 'CV',\n",
       " 'DF',\n",
       " 'FU',\n",
       " 'Cf',\n",
       " 'Cf',\n",
       " 'CE',\n",
       " 'AE',\n",
       " 'AP',\n",
       " 'AK',\n",
       " 'p_interval',\n",
       " 'BS',\n",
       " 'FV',\n",
       " 'BP',\n",
       " 'AE',\n",
       " 'BE',\n",
       " 'BS',\n",
       " 'BE',\n",
       " 'BE',\n",
       " 'AE',\n",
       " 'BC',\n",
       " 'AE',\n",
       " 'CU',\n",
       " 'FV',\n",
       " 'FV',\n",
       " 'DG',\n",
       " 'BE',\n",
       " 'CU',\n",
       " 'BC',\n",
       " 'AD',\n",
       " 'FP',\n",
       " 'DJ',\n",
       " 'GI',\n",
       " 'BP',\n",
       " 'EL',\n",
       " 'AD',\n",
       " 'DR',\n",
       " 't_interval',\n",
       " 'IZ',\n",
       " 'EH',\n",
       " 'ES',\n",
       " 't_interval',\n",
       " 'BH',\n",
       " 'EL',\n",
       " 'BO',\n",
       " 't_interval',\n",
       " 'CR',\n",
       " 'EL',\n",
       " 'DH',\n",
       " 'DR',\n",
       " 'BH',\n",
       " 'BO',\n",
       " 'AC',\n",
       " 'GI',\n",
       " 'EZ',\n",
       " 'T',\n",
       " 'CC',\n",
       " 'AO',\n",
       " 'BF',\n",
       " 'AR',\n",
       " 'EZ',\n",
       " 'DI',\n",
       " 'DF',\n",
       " 'CP',\n",
       " 'DR',\n",
       " 'age',\n",
       " 'GB',\n",
       " 'DR',\n",
       " 'EI',\n",
       " 'AO',\n",
       " 'DS',\n",
       " 'EZ',\n",
       " 'ES',\n",
       " 'EK',\n",
       " 'BB',\n",
       " 'AM',\n",
       " 'BZ',\n",
       " 'heart_rate',\n",
       " 'FM',\n",
       " 'GB',\n",
       " 'EF',\n",
       " 'CV',\n",
       " 'EF',\n",
       " 'DP',\n",
       " 'p-r_interval',\n",
       " 'DF',\n",
       " 'HF',\n",
       " 'weight',\n",
       " 'qrs',\n",
       " 'AB',\n",
       " 'QRST',\n",
       " 'FO',\n",
       " 'FE',\n",
       " 'BT',\n",
       " 'FO',\n",
       " 'LD',\n",
       " 'EF',\n",
       " 'heart_rate',\n",
       " 'BT',\n",
       " 'BI',\n",
       " 'LD',\n",
       " 'CL',\n",
       " 'JJ',\n",
       " 'FP',\n",
       " 'ES',\n",
       " 'BY',\n",
       " 'JN',\n",
       " 'KN',\n",
       " 'GM']"
      ]
     },
     "execution_count": 277,
     "metadata": {},
     "output_type": "execute_result"
    }
   ],
   "source": [
    "#out['topfeat'].head(150)[\"feature\"] drugi način al unique mi ih je 100 ?\n",
    "important = df[1].tolist()\n",
    "important"
   ]
  },
  {
   "cell_type": "code",
   "execution_count": 292,
   "metadata": {},
   "outputs": [
    {
     "data": {
      "text/html": [
       "<div>\n",
       "<style scoped>\n",
       "    .dataframe tbody tr th:only-of-type {\n",
       "        vertical-align: middle;\n",
       "    }\n",
       "\n",
       "    .dataframe tbody tr th {\n",
       "        vertical-align: top;\n",
       "    }\n",
       "\n",
       "    .dataframe thead th {\n",
       "        text-align: right;\n",
       "    }\n",
       "</style>\n",
       "<table border=\"1\" class=\"dataframe\">\n",
       "  <thead>\n",
       "    <tr style=\"text-align: right;\">\n",
       "      <th></th>\n",
       "      <th>AB</th>\n",
       "      <th>AB'</th>\n",
       "      <th>AC</th>\n",
       "      <th>AD</th>\n",
       "      <th>AE</th>\n",
       "      <th>AG</th>\n",
       "      <th>AI</th>\n",
       "      <th>AK</th>\n",
       "      <th>AM</th>\n",
       "      <th>AO</th>\n",
       "      <th>...</th>\n",
       "      <th>QRST</th>\n",
       "      <th>T</th>\n",
       "      <th>age</th>\n",
       "      <th>heart_rate</th>\n",
       "      <th>p-r_interval</th>\n",
       "      <th>p_interval</th>\n",
       "      <th>qrs</th>\n",
       "      <th>qrs_duration</th>\n",
       "      <th>t_interval</th>\n",
       "      <th>weight</th>\n",
       "    </tr>\n",
       "  </thead>\n",
       "  <tbody>\n",
       "    <tr>\n",
       "      <th>0</th>\n",
       "      <td>0.0</td>\n",
       "      <td>0.0</td>\n",
       "      <td>0.0</td>\n",
       "      <td>0.0</td>\n",
       "      <td>0.0</td>\n",
       "      <td>0.0</td>\n",
       "      <td>44.0</td>\n",
       "      <td>36.0</td>\n",
       "      <td>28.0</td>\n",
       "      <td>0.0</td>\n",
       "      <td>...</td>\n",
       "      <td>-2.0</td>\n",
       "      <td>13.0</td>\n",
       "      <td>75.0</td>\n",
       "      <td>63.000000</td>\n",
       "      <td>193.0</td>\n",
       "      <td>121.0</td>\n",
       "      <td>-16.0</td>\n",
       "      <td>91.0</td>\n",
       "      <td>174.0</td>\n",
       "      <td>80.0</td>\n",
       "    </tr>\n",
       "    <tr>\n",
       "      <th>1</th>\n",
       "      <td>0.0</td>\n",
       "      <td>0.0</td>\n",
       "      <td>0.0</td>\n",
       "      <td>0.0</td>\n",
       "      <td>0.0</td>\n",
       "      <td>0.0</td>\n",
       "      <td>64.0</td>\n",
       "      <td>0.0</td>\n",
       "      <td>24.0</td>\n",
       "      <td>0.0</td>\n",
       "      <td>...</td>\n",
       "      <td>31.0</td>\n",
       "      <td>37.0</td>\n",
       "      <td>56.0</td>\n",
       "      <td>53.000000</td>\n",
       "      <td>174.0</td>\n",
       "      <td>39.0</td>\n",
       "      <td>25.0</td>\n",
       "      <td>81.0</td>\n",
       "      <td>149.0</td>\n",
       "      <td>64.0</td>\n",
       "    </tr>\n",
       "    <tr>\n",
       "      <th>2</th>\n",
       "      <td>0.0</td>\n",
       "      <td>0.0</td>\n",
       "      <td>0.0</td>\n",
       "      <td>0.0</td>\n",
       "      <td>0.0</td>\n",
       "      <td>0.0</td>\n",
       "      <td>56.0</td>\n",
       "      <td>0.0</td>\n",
       "      <td>40.0</td>\n",
       "      <td>0.0</td>\n",
       "      <td>...</td>\n",
       "      <td>66.0</td>\n",
       "      <td>34.0</td>\n",
       "      <td>54.0</td>\n",
       "      <td>75.000000</td>\n",
       "      <td>163.0</td>\n",
       "      <td>102.0</td>\n",
       "      <td>96.0</td>\n",
       "      <td>138.0</td>\n",
       "      <td>185.0</td>\n",
       "      <td>95.0</td>\n",
       "    </tr>\n",
       "    <tr>\n",
       "      <th>3</th>\n",
       "      <td>0.0</td>\n",
       "      <td>0.0</td>\n",
       "      <td>0.0</td>\n",
       "      <td>0.0</td>\n",
       "      <td>0.0</td>\n",
       "      <td>0.0</td>\n",
       "      <td>64.0</td>\n",
       "      <td>0.0</td>\n",
       "      <td>36.0</td>\n",
       "      <td>0.0</td>\n",
       "      <td>...</td>\n",
       "      <td>20.0</td>\n",
       "      <td>11.0</td>\n",
       "      <td>55.0</td>\n",
       "      <td>71.000000</td>\n",
       "      <td>202.0</td>\n",
       "      <td>143.0</td>\n",
       "      <td>28.0</td>\n",
       "      <td>100.0</td>\n",
       "      <td>179.0</td>\n",
       "      <td>94.0</td>\n",
       "    </tr>\n",
       "    <tr>\n",
       "      <th>4</th>\n",
       "      <td>0.0</td>\n",
       "      <td>0.0</td>\n",
       "      <td>0.0</td>\n",
       "      <td>0.0</td>\n",
       "      <td>0.0</td>\n",
       "      <td>0.0</td>\n",
       "      <td>40.0</td>\n",
       "      <td>0.0</td>\n",
       "      <td>24.0</td>\n",
       "      <td>0.0</td>\n",
       "      <td>...</td>\n",
       "      <td>3.0</td>\n",
       "      <td>13.0</td>\n",
       "      <td>75.0</td>\n",
       "      <td>74.463415</td>\n",
       "      <td>181.0</td>\n",
       "      <td>103.0</td>\n",
       "      <td>-16.0</td>\n",
       "      <td>88.0</td>\n",
       "      <td>177.0</td>\n",
       "      <td>80.0</td>\n",
       "    </tr>\n",
       "    <tr>\n",
       "      <th>...</th>\n",
       "      <td>...</td>\n",
       "      <td>...</td>\n",
       "      <td>...</td>\n",
       "      <td>...</td>\n",
       "      <td>...</td>\n",
       "      <td>...</td>\n",
       "      <td>...</td>\n",
       "      <td>...</td>\n",
       "      <td>...</td>\n",
       "      <td>...</td>\n",
       "      <td>...</td>\n",
       "      <td>...</td>\n",
       "      <td>...</td>\n",
       "      <td>...</td>\n",
       "      <td>...</td>\n",
       "      <td>...</td>\n",
       "      <td>...</td>\n",
       "      <td>...</td>\n",
       "      <td>...</td>\n",
       "      <td>...</td>\n",
       "      <td>...</td>\n",
       "    </tr>\n",
       "    <tr>\n",
       "      <th>447</th>\n",
       "      <td>0.0</td>\n",
       "      <td>0.0</td>\n",
       "      <td>0.0</td>\n",
       "      <td>0.0</td>\n",
       "      <td>0.0</td>\n",
       "      <td>0.0</td>\n",
       "      <td>44.0</td>\n",
       "      <td>0.0</td>\n",
       "      <td>32.0</td>\n",
       "      <td>0.0</td>\n",
       "      <td>...</td>\n",
       "      <td>-27.0</td>\n",
       "      <td>4.0</td>\n",
       "      <td>53.0</td>\n",
       "      <td>63.000000</td>\n",
       "      <td>199.0</td>\n",
       "      <td>117.0</td>\n",
       "      <td>-37.0</td>\n",
       "      <td>80.0</td>\n",
       "      <td>154.0</td>\n",
       "      <td>70.0</td>\n",
       "    </tr>\n",
       "    <tr>\n",
       "      <th>448</th>\n",
       "      <td>0.0</td>\n",
       "      <td>0.0</td>\n",
       "      <td>0.0</td>\n",
       "      <td>0.0</td>\n",
       "      <td>0.0</td>\n",
       "      <td>0.0</td>\n",
       "      <td>56.0</td>\n",
       "      <td>0.0</td>\n",
       "      <td>32.0</td>\n",
       "      <td>0.0</td>\n",
       "      <td>...</td>\n",
       "      <td>79.0</td>\n",
       "      <td>66.0</td>\n",
       "      <td>37.0</td>\n",
       "      <td>73.000000</td>\n",
       "      <td>137.0</td>\n",
       "      <td>73.0</td>\n",
       "      <td>86.0</td>\n",
       "      <td>100.0</td>\n",
       "      <td>201.0</td>\n",
       "      <td>85.0</td>\n",
       "    </tr>\n",
       "    <tr>\n",
       "      <th>449</th>\n",
       "      <td>0.0</td>\n",
       "      <td>0.0</td>\n",
       "      <td>0.0</td>\n",
       "      <td>0.0</td>\n",
       "      <td>0.0</td>\n",
       "      <td>0.0</td>\n",
       "      <td>40.0</td>\n",
       "      <td>0.0</td>\n",
       "      <td>32.0</td>\n",
       "      <td>0.0</td>\n",
       "      <td>...</td>\n",
       "      <td>-70.0</td>\n",
       "      <td>-19.0</td>\n",
       "      <td>36.0</td>\n",
       "      <td>84.000000</td>\n",
       "      <td>176.0</td>\n",
       "      <td>116.0</td>\n",
       "      <td>-85.0</td>\n",
       "      <td>108.0</td>\n",
       "      <td>194.0</td>\n",
       "      <td>68.0</td>\n",
       "    </tr>\n",
       "    <tr>\n",
       "      <th>450</th>\n",
       "      <td>0.0</td>\n",
       "      <td>0.0</td>\n",
       "      <td>0.0</td>\n",
       "      <td>0.0</td>\n",
       "      <td>0.0</td>\n",
       "      <td>0.0</td>\n",
       "      <td>64.0</td>\n",
       "      <td>0.0</td>\n",
       "      <td>40.0</td>\n",
       "      <td>0.0</td>\n",
       "      <td>...</td>\n",
       "      <td>43.0</td>\n",
       "      <td>29.0</td>\n",
       "      <td>32.0</td>\n",
       "      <td>80.000000</td>\n",
       "      <td>106.0</td>\n",
       "      <td>63.0</td>\n",
       "      <td>54.0</td>\n",
       "      <td>93.0</td>\n",
       "      <td>218.0</td>\n",
       "      <td>55.0</td>\n",
       "    </tr>\n",
       "    <tr>\n",
       "      <th>451</th>\n",
       "      <td>0.0</td>\n",
       "      <td>0.0</td>\n",
       "      <td>0.0</td>\n",
       "      <td>0.0</td>\n",
       "      <td>0.0</td>\n",
       "      <td>0.0</td>\n",
       "      <td>56.0</td>\n",
       "      <td>0.0</td>\n",
       "      <td>36.0</td>\n",
       "      <td>0.0</td>\n",
       "      <td>...</td>\n",
       "      <td>47.0</td>\n",
       "      <td>79.0</td>\n",
       "      <td>78.0</td>\n",
       "      <td>75.000000</td>\n",
       "      <td>127.0</td>\n",
       "      <td>78.0</td>\n",
       "      <td>28.0</td>\n",
       "      <td>79.0</td>\n",
       "      <td>138.0</td>\n",
       "      <td>70.0</td>\n",
       "    </tr>\n",
       "  </tbody>\n",
       "</table>\n",
       "<p>452 rows × 102 columns</p>\n",
       "</div>"
      ],
      "text/plain": [
       "      AB  AB'   AC   AD   AE   AG    AI    AK    AM   AO  ...  QRST     T  \\\n",
       "0    0.0  0.0  0.0  0.0  0.0  0.0  44.0  36.0  28.0  0.0  ...  -2.0  13.0   \n",
       "1    0.0  0.0  0.0  0.0  0.0  0.0  64.0   0.0  24.0  0.0  ...  31.0  37.0   \n",
       "2    0.0  0.0  0.0  0.0  0.0  0.0  56.0   0.0  40.0  0.0  ...  66.0  34.0   \n",
       "3    0.0  0.0  0.0  0.0  0.0  0.0  64.0   0.0  36.0  0.0  ...  20.0  11.0   \n",
       "4    0.0  0.0  0.0  0.0  0.0  0.0  40.0   0.0  24.0  0.0  ...   3.0  13.0   \n",
       "..   ...  ...  ...  ...  ...  ...   ...   ...   ...  ...  ...   ...   ...   \n",
       "447  0.0  0.0  0.0  0.0  0.0  0.0  44.0   0.0  32.0  0.0  ... -27.0   4.0   \n",
       "448  0.0  0.0  0.0  0.0  0.0  0.0  56.0   0.0  32.0  0.0  ...  79.0  66.0   \n",
       "449  0.0  0.0  0.0  0.0  0.0  0.0  40.0   0.0  32.0  0.0  ... -70.0 -19.0   \n",
       "450  0.0  0.0  0.0  0.0  0.0  0.0  64.0   0.0  40.0  0.0  ...  43.0  29.0   \n",
       "451  0.0  0.0  0.0  0.0  0.0  0.0  56.0   0.0  36.0  0.0  ...  47.0  79.0   \n",
       "\n",
       "      age  heart_rate  p-r_interval  p_interval   qrs  qrs_duration  \\\n",
       "0    75.0   63.000000         193.0       121.0 -16.0          91.0   \n",
       "1    56.0   53.000000         174.0        39.0  25.0          81.0   \n",
       "2    54.0   75.000000         163.0       102.0  96.0         138.0   \n",
       "3    55.0   71.000000         202.0       143.0  28.0         100.0   \n",
       "4    75.0   74.463415         181.0       103.0 -16.0          88.0   \n",
       "..    ...         ...           ...         ...   ...           ...   \n",
       "447  53.0   63.000000         199.0       117.0 -37.0          80.0   \n",
       "448  37.0   73.000000         137.0        73.0  86.0         100.0   \n",
       "449  36.0   84.000000         176.0       116.0 -85.0         108.0   \n",
       "450  32.0   80.000000         106.0        63.0  54.0          93.0   \n",
       "451  78.0   75.000000         127.0        78.0  28.0          79.0   \n",
       "\n",
       "     t_interval  weight  \n",
       "0         174.0    80.0  \n",
       "1         149.0    64.0  \n",
       "2         185.0    95.0  \n",
       "3         179.0    94.0  \n",
       "4         177.0    80.0  \n",
       "..          ...     ...  \n",
       "447       154.0    70.0  \n",
       "448       201.0    85.0  \n",
       "449       194.0    68.0  \n",
       "450       218.0    55.0  \n",
       "451       138.0    70.0  \n",
       "\n",
       "[452 rows x 102 columns]"
      ]
     },
     "execution_count": 292,
     "metadata": {},
     "output_type": "execute_result"
    }
   ],
   "source": [
    "df[np.intersect1d(df.columns, important)]"
   ]
  },
  {
   "cell_type": "markdown",
   "metadata": {},
   "source": [
    "### Classification "
   ]
  },
  {
   "cell_type": "markdown",
   "metadata": {},
   "source": [
    "#### Support Vector Machine"
   ]
  },
  {
   "cell_type": "code",
   "execution_count": null,
   "metadata": {},
   "outputs": [],
   "source": []
  },
  {
   "cell_type": "markdown",
   "metadata": {},
   "source": [
    "#### Logistic Regression Algorithm"
   ]
  },
  {
   "cell_type": "code",
   "execution_count": null,
   "metadata": {},
   "outputs": [],
   "source": []
  },
  {
   "cell_type": "markdown",
   "metadata": {},
   "source": [
    "#### K-Nearest Neighbors Algorithm"
   ]
  },
  {
   "cell_type": "code",
   "execution_count": null,
   "metadata": {},
   "outputs": [],
   "source": []
  },
  {
   "cell_type": "markdown",
   "metadata": {},
   "source": [
    "#### Random Forest Algorithm"
   ]
  },
  {
   "cell_type": "code",
   "execution_count": null,
   "metadata": {},
   "outputs": [],
   "source": []
  },
  {
   "cell_type": "markdown",
   "metadata": {},
   "source": [
    "## Conclusion "
   ]
  },
  {
   "cell_type": "markdown",
   "metadata": {},
   "source": [
    "blablabla\n",
    "-moguci redoslijed mozda\n",
    "Data transformation\n",
    "Data cleaning\n",
    "Data validation\n",
    "Data augmentation\n",
    "Feature enginerring"
   ]
  }
 ],
 "metadata": {
  "interpreter": {
   "hash": "eeb592eeb14baf80ba7e3ad598b9cc718d92fa62785d72005ca19f7c0e0c833d"
  },
  "kernelspec": {
   "display_name": "Python 3.8.5 64-bit ('base': conda)",
   "name": "python3"
  },
  "language_info": {
   "codemirror_mode": {
    "name": "ipython",
    "version": 3
   },
   "file_extension": ".py",
   "mimetype": "text/x-python",
   "name": "python",
   "nbconvert_exporter": "python",
   "pygments_lexer": "ipython3",
   "version": "3.8.5"
  },
  "orig_nbformat": 4
 },
 "nbformat": 4,
 "nbformat_minor": 2
}
