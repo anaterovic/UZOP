{
 "cells": [
  {
   "cell_type": "markdown",
   "metadata": {},
   "source": [
    "# A machine learning approach for the classification of cardiac arrhythmia\n",
    "The aim of this project is to determine the type of arrhythmia from the ECG recordings.\n",
    "\n",
    "Eleonora Detić, 1191241491"
   ]
  },
  {
   "cell_type": "markdown",
   "metadata": {},
   "source": [
    "### Data collection"
   ]
  },
  {
   "cell_type": "markdown",
   "metadata": {},
   "source": [
    "Type of research:\n",
    "\n",
    "- by purpose: **applied** - application in medicine for the early detection of cardiac arrhythmia\n",
    "\n",
    "- by depth: **correlational** - we study how independent variable(\"diagnosis\") is affected by several distinct dependent variables(\"age\", \"sex\"..)\n",
    "\n",
    "- by data type: **quantitative** - we have mathematical, measurable and comparable data\n",
    "\n",
    "- by variable manipulation: **observational** - researchers observe patients\n",
    "\n",
    "- by conclusion: **inductive** - we want to generalize things based on sample of pacients\n",
    "\n",
    "- by time: **synchronous** - we assume that all data are collected at the same time\n",
    "\n",
    "- by source of information: **secondary** - the researchers read informations about patients from medical documents\n",
    "\n",
    "- according to the method of data collection: **mixed** - a combination of data known about patients through medical records and ECG data measured under controlled conditions\n",
    "\n",
    "Data collection method - **documentary** - **limited access**: the main source of data are the patient's medical records.\n",
    "\n",
    "Data were collected **according to the rules of research ethics** - the names and id numbers of the patients were removed from the database for the privacy purpose.\n"
   ]
  },
  {
   "cell_type": "markdown",
   "metadata": {},
   "source": [
    "### Data survey"
   ]
  },
  {
   "cell_type": "code",
   "execution_count": 425,
   "metadata": {},
   "outputs": [],
   "source": [
    "import pandas as pd\n",
    "import numpy as np\n",
    "import seaborn as sns\n",
    "import matplotlib.pyplot as plt\n",
    "\n",
    "import warnings \n",
    "warnings.filterwarnings(\"ignore\")\n",
    "\n",
    "from sklearn.model_selection import train_test_split\n",
    "from pca import pca\n",
    "from sklearn.impute import SimpleImputer\n",
    "from sklearn.preprocessing import StandardScaler\n",
    "from sklearn import decomposition\n",
    "from scipy import stats\n",
    "from sklearn.model_selection import train_test_split\n",
    "from sklearn import svm\n",
    "from sklearn import metrics\n",
    "from sklearn.linear_model import LogisticRegressionCV\n",
    "from sklearn import linear_model\n",
    "from sklearn.ensemble import RandomForestClassifier\n",
    "from sklearn.neighbors import KNeighborsClassifier\n",
    "from sklearn.metrics import accuracy_score\n",
    "import sklearn.model_selection as model_selection\n",
    "from sklearn.metrics import f1_score\n",
    "from sklearn.preprocessing import OneHotEncoder, LabelEncoder"
   ]
  },
  {
   "cell_type": "code",
   "execution_count": 426,
   "metadata": {},
   "outputs": [
    {
     "data": {
      "text/html": [
       "<div>\n",
       "<style scoped>\n",
       "    .dataframe tbody tr th:only-of-type {\n",
       "        vertical-align: middle;\n",
       "    }\n",
       "\n",
       "    .dataframe tbody tr th {\n",
       "        vertical-align: top;\n",
       "    }\n",
       "\n",
       "    .dataframe thead th {\n",
       "        text-align: right;\n",
       "    }\n",
       "</style>\n",
       "<table border=\"1\" class=\"dataframe\">\n",
       "  <thead>\n",
       "    <tr style=\"text-align: right;\">\n",
       "      <th></th>\n",
       "      <th>age</th>\n",
       "      <th>sex</th>\n",
       "      <th>height</th>\n",
       "      <th>weight</th>\n",
       "      <th>qrs_duration</th>\n",
       "      <th>p-r_interval</th>\n",
       "      <th>q-t_interval</th>\n",
       "      <th>t_interval</th>\n",
       "      <th>p_interval</th>\n",
       "      <th>qrs</th>\n",
       "      <th>...</th>\n",
       "      <th>KY</th>\n",
       "      <th>KZ</th>\n",
       "      <th>LA</th>\n",
       "      <th>LB</th>\n",
       "      <th>LC</th>\n",
       "      <th>LD</th>\n",
       "      <th>LE</th>\n",
       "      <th>LF</th>\n",
       "      <th>LG</th>\n",
       "      <th>diagnosis</th>\n",
       "    </tr>\n",
       "  </thead>\n",
       "  <tbody>\n",
       "    <tr>\n",
       "      <th>0</th>\n",
       "      <td>75</td>\n",
       "      <td>0</td>\n",
       "      <td>190</td>\n",
       "      <td>80</td>\n",
       "      <td>91</td>\n",
       "      <td>193</td>\n",
       "      <td>371</td>\n",
       "      <td>174</td>\n",
       "      <td>121</td>\n",
       "      <td>-16</td>\n",
       "      <td>...</td>\n",
       "      <td>0.0</td>\n",
       "      <td>9.0</td>\n",
       "      <td>-0.9</td>\n",
       "      <td>0.0</td>\n",
       "      <td>0</td>\n",
       "      <td>0.9</td>\n",
       "      <td>2.9</td>\n",
       "      <td>23.3</td>\n",
       "      <td>49.4</td>\n",
       "      <td>8</td>\n",
       "    </tr>\n",
       "    <tr>\n",
       "      <th>1</th>\n",
       "      <td>56</td>\n",
       "      <td>1</td>\n",
       "      <td>165</td>\n",
       "      <td>64</td>\n",
       "      <td>81</td>\n",
       "      <td>174</td>\n",
       "      <td>401</td>\n",
       "      <td>149</td>\n",
       "      <td>39</td>\n",
       "      <td>25</td>\n",
       "      <td>...</td>\n",
       "      <td>0.0</td>\n",
       "      <td>8.5</td>\n",
       "      <td>0.0</td>\n",
       "      <td>0.0</td>\n",
       "      <td>0</td>\n",
       "      <td>0.2</td>\n",
       "      <td>2.1</td>\n",
       "      <td>20.4</td>\n",
       "      <td>38.8</td>\n",
       "      <td>6</td>\n",
       "    </tr>\n",
       "    <tr>\n",
       "      <th>2</th>\n",
       "      <td>54</td>\n",
       "      <td>0</td>\n",
       "      <td>172</td>\n",
       "      <td>95</td>\n",
       "      <td>138</td>\n",
       "      <td>163</td>\n",
       "      <td>386</td>\n",
       "      <td>185</td>\n",
       "      <td>102</td>\n",
       "      <td>96</td>\n",
       "      <td>...</td>\n",
       "      <td>0.0</td>\n",
       "      <td>9.5</td>\n",
       "      <td>-2.4</td>\n",
       "      <td>0.0</td>\n",
       "      <td>0</td>\n",
       "      <td>0.3</td>\n",
       "      <td>3.4</td>\n",
       "      <td>12.3</td>\n",
       "      <td>49.0</td>\n",
       "      <td>10</td>\n",
       "    </tr>\n",
       "    <tr>\n",
       "      <th>3</th>\n",
       "      <td>55</td>\n",
       "      <td>0</td>\n",
       "      <td>175</td>\n",
       "      <td>94</td>\n",
       "      <td>100</td>\n",
       "      <td>202</td>\n",
       "      <td>380</td>\n",
       "      <td>179</td>\n",
       "      <td>143</td>\n",
       "      <td>28</td>\n",
       "      <td>...</td>\n",
       "      <td>0.0</td>\n",
       "      <td>12.2</td>\n",
       "      <td>-2.2</td>\n",
       "      <td>0.0</td>\n",
       "      <td>0</td>\n",
       "      <td>0.4</td>\n",
       "      <td>2.6</td>\n",
       "      <td>34.6</td>\n",
       "      <td>61.6</td>\n",
       "      <td>1</td>\n",
       "    </tr>\n",
       "    <tr>\n",
       "      <th>4</th>\n",
       "      <td>75</td>\n",
       "      <td>0</td>\n",
       "      <td>190</td>\n",
       "      <td>80</td>\n",
       "      <td>88</td>\n",
       "      <td>181</td>\n",
       "      <td>360</td>\n",
       "      <td>177</td>\n",
       "      <td>103</td>\n",
       "      <td>-16</td>\n",
       "      <td>...</td>\n",
       "      <td>0.0</td>\n",
       "      <td>13.1</td>\n",
       "      <td>-3.6</td>\n",
       "      <td>0.0</td>\n",
       "      <td>0</td>\n",
       "      <td>-0.1</td>\n",
       "      <td>3.9</td>\n",
       "      <td>25.4</td>\n",
       "      <td>62.8</td>\n",
       "      <td>7</td>\n",
       "    </tr>\n",
       "  </tbody>\n",
       "</table>\n",
       "<p>5 rows × 280 columns</p>\n",
       "</div>"
      ],
      "text/plain": [
       "   age  sex  height  weight  qrs_duration  p-r_interval  q-t_interval  \\\n",
       "0   75    0     190      80            91           193           371   \n",
       "1   56    1     165      64            81           174           401   \n",
       "2   54    0     172      95           138           163           386   \n",
       "3   55    0     175      94           100           202           380   \n",
       "4   75    0     190      80            88           181           360   \n",
       "\n",
       "   t_interval  p_interval  qrs  ...   KY    KZ   LA   LB LC   LD   LE    LF  \\\n",
       "0         174         121  -16  ...  0.0   9.0 -0.9  0.0  0  0.9  2.9  23.3   \n",
       "1         149          39   25  ...  0.0   8.5  0.0  0.0  0  0.2  2.1  20.4   \n",
       "2         185         102   96  ...  0.0   9.5 -2.4  0.0  0  0.3  3.4  12.3   \n",
       "3         179         143   28  ...  0.0  12.2 -2.2  0.0  0  0.4  2.6  34.6   \n",
       "4         177         103  -16  ...  0.0  13.1 -3.6  0.0  0 -0.1  3.9  25.4   \n",
       "\n",
       "     LG  diagnosis  \n",
       "0  49.4          8  \n",
       "1  38.8          6  \n",
       "2  49.0         10  \n",
       "3  61.6          1  \n",
       "4  62.8          7  \n",
       "\n",
       "[5 rows x 280 columns]"
      ]
     },
     "execution_count": 426,
     "metadata": {},
     "output_type": "execute_result"
    }
   ],
   "source": [
    "df = pd.read_csv('data_arrhythmia.csv', delimiter=';')\n",
    "df.dataframeName = 'data_arrhythmia.csv'\n",
    "df.head()"
   ]
  },
  {
   "cell_type": "code",
   "execution_count": 427,
   "metadata": {},
   "outputs": [
    {
     "name": "stdout",
     "output_type": "stream",
     "text": [
      "['age' 'sex' 'height' 'weight' 'qrs_duration' 'p-r_interval'\n",
      " 'q-t_interval' 't_interval' 'p_interval' 'qrs' 'T' 'P' 'QRST' 'J'\n",
      " 'heart_rate' 'q_wave' 'r_wave' 's_wave' \"R'_wave\" \"S'_wave\" 'AA' 'AB'\n",
      " 'AC' 'AD' 'AE' 'AF' 'AG' 'AH' 'AI' 'AJ' 'AK' 'AL' 'AM' 'AN' 'AO' 'AP'\n",
      " 'AR' 'AS' 'AT' 'AU' 'AV' 'AY' 'AZ' \"AB'\" 'BB' 'BC' 'BD' 'BE' 'BF' 'BG'\n",
      " 'BH' 'BI' 'BJ' 'BK' 'BL' 'BM' 'BN' 'BO' 'BP' 'BR' 'BS' 'BT' 'BU' 'BV'\n",
      " 'BY' 'BZ' 'CA' 'CB' 'CC' 'CD' 'CE' 'Cf' 'CG' 'CH' 'CI' 'CJ' 'CK' 'CL'\n",
      " 'CM' 'CN' 'CO' 'CP' 'CR' 'CS' 'CT' 'CU' 'CV' 'CY' 'CZ' 'DA' 'DB' 'DC'\n",
      " 'DD' 'DE' 'DF' 'DG' 'DH' 'DI' 'DJ' 'DK' 'DL' 'DM' 'DN' 'DO' 'DP' 'DR'\n",
      " 'DS' 'DT' 'DU' 'DV' 'DY' 'DZ' 'EA' 'EB' 'EC' 'ED' 'EF' 'EG' 'EH' 'EI'\n",
      " 'EJ' 'EK' 'EL' 'EM' 'EN' 'EO' 'EP' 'ER' 'ES' 'ET' 'EU' 'EV' 'EY' 'EZ'\n",
      " 'FA' 'FB' 'FC' 'FD' 'FE' 'FF' 'FG' 'FH' 'FI' 'FJ' 'FK' 'FL' 'FM' 'FN'\n",
      " 'FO' 'FP' 'FR' 'FS' 'FT' 'FU' 'FV' 'FY' 'FZ' 'GA' 'GB' 'GC' 'GD' 'GE'\n",
      " 'GF' 'GG' 'GH' 'GI' 'GJ' 'GK' 'GL' 'GM' 'GN' 'GO' 'GP' 'GR' 'GS' 'GT'\n",
      " 'GU' 'GV' 'GY' 'GZ' 'HA' 'HB' 'HC' 'HD' 'HE' 'HF' 'HG' 'HH' 'HI' 'HJ'\n",
      " 'HK' 'HL' 'HM' 'HN' 'HO' 'HP' 'HR' 'HS' 'HT' 'HU' 'HV' 'HY' 'HZ' 'IA'\n",
      " 'IB' 'IC' 'ID' 'IE' 'IF' 'IG' 'IH' 'II' 'IJ' 'IK' 'IL' 'IM' 'IN' 'IO'\n",
      " 'IP' 'IR' 'IS' 'IT' 'IU' 'IV' 'IY' 'IZ' 'JA' 'JB' 'JC' 'JD' 'JE' 'JF'\n",
      " 'JG' 'JH' 'JI' 'JJ' 'JK' 'JL' 'JM' 'JN' 'JO' 'JP' 'JR' 'JS' 'JT' 'JU'\n",
      " 'JV' 'JY' 'JZ' 'KA' 'KB' 'KC' 'KD' 'KE' 'KF' 'KG' 'KH' 'KI' 'KJ' 'KK'\n",
      " 'KL' 'KM' 'KN' 'KO' 'KP' 'KR' 'KS' 'KT' 'KU' 'KV' 'KY' 'KZ' 'LA' 'LB'\n",
      " 'LC' 'LD' 'LE' 'LF' 'LG' 'diagnosis']\n"
     ]
    }
   ],
   "source": [
    "print(df.columns.values)"
   ]
  },
  {
   "cell_type": "code",
   "execution_count": 428,
   "metadata": {},
   "outputs": [
    {
     "data": {
      "text/html": [
       "<div>\n",
       "<style scoped>\n",
       "    .dataframe tbody tr th:only-of-type {\n",
       "        vertical-align: middle;\n",
       "    }\n",
       "\n",
       "    .dataframe tbody tr th {\n",
       "        vertical-align: top;\n",
       "    }\n",
       "\n",
       "    .dataframe thead th {\n",
       "        text-align: right;\n",
       "    }\n",
       "</style>\n",
       "<table border=\"1\" class=\"dataframe\">\n",
       "  <thead>\n",
       "    <tr style=\"text-align: right;\">\n",
       "      <th></th>\n",
       "      <th>age</th>\n",
       "      <th>sex</th>\n",
       "      <th>height</th>\n",
       "      <th>weight</th>\n",
       "      <th>qrs_duration</th>\n",
       "      <th>p-r_interval</th>\n",
       "      <th>q-t_interval</th>\n",
       "      <th>t_interval</th>\n",
       "      <th>p_interval</th>\n",
       "      <th>qrs</th>\n",
       "      <th>...</th>\n",
       "      <th>KY</th>\n",
       "      <th>KZ</th>\n",
       "      <th>LA</th>\n",
       "      <th>LB</th>\n",
       "      <th>LC</th>\n",
       "      <th>LD</th>\n",
       "      <th>LE</th>\n",
       "      <th>LF</th>\n",
       "      <th>LG</th>\n",
       "      <th>diagnosis</th>\n",
       "    </tr>\n",
       "  </thead>\n",
       "  <tbody>\n",
       "    <tr>\n",
       "      <th>count</th>\n",
       "      <td>452.000000</td>\n",
       "      <td>452.000000</td>\n",
       "      <td>452.000000</td>\n",
       "      <td>452.000000</td>\n",
       "      <td>452.000000</td>\n",
       "      <td>452.000000</td>\n",
       "      <td>452.000000</td>\n",
       "      <td>452.000000</td>\n",
       "      <td>452.000000</td>\n",
       "      <td>452.000000</td>\n",
       "      <td>...</td>\n",
       "      <td>452.000000</td>\n",
       "      <td>452.000000</td>\n",
       "      <td>452.000000</td>\n",
       "      <td>452.000000</td>\n",
       "      <td>452.0</td>\n",
       "      <td>452.000000</td>\n",
       "      <td>452.000000</td>\n",
       "      <td>452.000000</td>\n",
       "      <td>452.000000</td>\n",
       "      <td>452.000000</td>\n",
       "    </tr>\n",
       "    <tr>\n",
       "      <th>mean</th>\n",
       "      <td>46.471239</td>\n",
       "      <td>0.550885</td>\n",
       "      <td>166.188053</td>\n",
       "      <td>68.170354</td>\n",
       "      <td>88.920354</td>\n",
       "      <td>155.152655</td>\n",
       "      <td>367.207965</td>\n",
       "      <td>169.949115</td>\n",
       "      <td>90.004425</td>\n",
       "      <td>33.676991</td>\n",
       "      <td>...</td>\n",
       "      <td>-0.278982</td>\n",
       "      <td>9.048009</td>\n",
       "      <td>-1.457301</td>\n",
       "      <td>0.003982</td>\n",
       "      <td>0.0</td>\n",
       "      <td>0.514823</td>\n",
       "      <td>1.222345</td>\n",
       "      <td>19.326106</td>\n",
       "      <td>29.473230</td>\n",
       "      <td>3.880531</td>\n",
       "    </tr>\n",
       "    <tr>\n",
       "      <th>std</th>\n",
       "      <td>16.466631</td>\n",
       "      <td>0.497955</td>\n",
       "      <td>37.170340</td>\n",
       "      <td>16.590803</td>\n",
       "      <td>15.364394</td>\n",
       "      <td>44.842283</td>\n",
       "      <td>33.385421</td>\n",
       "      <td>35.633072</td>\n",
       "      <td>25.826643</td>\n",
       "      <td>45.431434</td>\n",
       "      <td>...</td>\n",
       "      <td>0.548876</td>\n",
       "      <td>3.472862</td>\n",
       "      <td>2.002430</td>\n",
       "      <td>0.050118</td>\n",
       "      <td>0.0</td>\n",
       "      <td>0.347531</td>\n",
       "      <td>1.426052</td>\n",
       "      <td>13.503922</td>\n",
       "      <td>18.493927</td>\n",
       "      <td>4.407097</td>\n",
       "    </tr>\n",
       "    <tr>\n",
       "      <th>min</th>\n",
       "      <td>0.000000</td>\n",
       "      <td>0.000000</td>\n",
       "      <td>105.000000</td>\n",
       "      <td>6.000000</td>\n",
       "      <td>55.000000</td>\n",
       "      <td>0.000000</td>\n",
       "      <td>232.000000</td>\n",
       "      <td>108.000000</td>\n",
       "      <td>0.000000</td>\n",
       "      <td>-172.000000</td>\n",
       "      <td>...</td>\n",
       "      <td>-4.100000</td>\n",
       "      <td>0.000000</td>\n",
       "      <td>-28.600000</td>\n",
       "      <td>0.000000</td>\n",
       "      <td>0.0</td>\n",
       "      <td>-0.800000</td>\n",
       "      <td>-6.000000</td>\n",
       "      <td>-44.200000</td>\n",
       "      <td>-38.600000</td>\n",
       "      <td>1.000000</td>\n",
       "    </tr>\n",
       "    <tr>\n",
       "      <th>25%</th>\n",
       "      <td>36.000000</td>\n",
       "      <td>0.000000</td>\n",
       "      <td>160.000000</td>\n",
       "      <td>59.000000</td>\n",
       "      <td>80.000000</td>\n",
       "      <td>142.000000</td>\n",
       "      <td>350.000000</td>\n",
       "      <td>148.000000</td>\n",
       "      <td>79.000000</td>\n",
       "      <td>3.750000</td>\n",
       "      <td>...</td>\n",
       "      <td>-0.425000</td>\n",
       "      <td>6.600000</td>\n",
       "      <td>-2.100000</td>\n",
       "      <td>0.000000</td>\n",
       "      <td>0.0</td>\n",
       "      <td>0.400000</td>\n",
       "      <td>0.500000</td>\n",
       "      <td>11.450000</td>\n",
       "      <td>17.550000</td>\n",
       "      <td>1.000000</td>\n",
       "    </tr>\n",
       "    <tr>\n",
       "      <th>50%</th>\n",
       "      <td>47.000000</td>\n",
       "      <td>1.000000</td>\n",
       "      <td>164.000000</td>\n",
       "      <td>68.000000</td>\n",
       "      <td>86.000000</td>\n",
       "      <td>157.000000</td>\n",
       "      <td>367.000000</td>\n",
       "      <td>162.000000</td>\n",
       "      <td>91.000000</td>\n",
       "      <td>40.000000</td>\n",
       "      <td>...</td>\n",
       "      <td>0.000000</td>\n",
       "      <td>8.800000</td>\n",
       "      <td>-1.100000</td>\n",
       "      <td>0.000000</td>\n",
       "      <td>0.0</td>\n",
       "      <td>0.500000</td>\n",
       "      <td>1.350000</td>\n",
       "      <td>18.100000</td>\n",
       "      <td>27.900000</td>\n",
       "      <td>1.000000</td>\n",
       "    </tr>\n",
       "    <tr>\n",
       "      <th>75%</th>\n",
       "      <td>58.000000</td>\n",
       "      <td>1.000000</td>\n",
       "      <td>170.000000</td>\n",
       "      <td>79.000000</td>\n",
       "      <td>94.000000</td>\n",
       "      <td>175.000000</td>\n",
       "      <td>384.000000</td>\n",
       "      <td>179.000000</td>\n",
       "      <td>102.000000</td>\n",
       "      <td>66.000000</td>\n",
       "      <td>...</td>\n",
       "      <td>0.000000</td>\n",
       "      <td>11.200000</td>\n",
       "      <td>0.000000</td>\n",
       "      <td>0.000000</td>\n",
       "      <td>0.0</td>\n",
       "      <td>0.700000</td>\n",
       "      <td>2.100000</td>\n",
       "      <td>25.825000</td>\n",
       "      <td>41.125000</td>\n",
       "      <td>6.000000</td>\n",
       "    </tr>\n",
       "    <tr>\n",
       "      <th>max</th>\n",
       "      <td>83.000000</td>\n",
       "      <td>1.000000</td>\n",
       "      <td>780.000000</td>\n",
       "      <td>176.000000</td>\n",
       "      <td>188.000000</td>\n",
       "      <td>524.000000</td>\n",
       "      <td>509.000000</td>\n",
       "      <td>381.000000</td>\n",
       "      <td>205.000000</td>\n",
       "      <td>169.000000</td>\n",
       "      <td>...</td>\n",
       "      <td>0.000000</td>\n",
       "      <td>23.600000</td>\n",
       "      <td>0.000000</td>\n",
       "      <td>0.800000</td>\n",
       "      <td>0.0</td>\n",
       "      <td>2.400000</td>\n",
       "      <td>6.000000</td>\n",
       "      <td>88.800000</td>\n",
       "      <td>115.900000</td>\n",
       "      <td>16.000000</td>\n",
       "    </tr>\n",
       "  </tbody>\n",
       "</table>\n",
       "<p>8 rows × 275 columns</p>\n",
       "</div>"
      ],
      "text/plain": [
       "              age         sex      height      weight  qrs_duration  \\\n",
       "count  452.000000  452.000000  452.000000  452.000000    452.000000   \n",
       "mean    46.471239    0.550885  166.188053   68.170354     88.920354   \n",
       "std     16.466631    0.497955   37.170340   16.590803     15.364394   \n",
       "min      0.000000    0.000000  105.000000    6.000000     55.000000   \n",
       "25%     36.000000    0.000000  160.000000   59.000000     80.000000   \n",
       "50%     47.000000    1.000000  164.000000   68.000000     86.000000   \n",
       "75%     58.000000    1.000000  170.000000   79.000000     94.000000   \n",
       "max     83.000000    1.000000  780.000000  176.000000    188.000000   \n",
       "\n",
       "       p-r_interval  q-t_interval  t_interval  p_interval         qrs  ...  \\\n",
       "count    452.000000    452.000000  452.000000  452.000000  452.000000  ...   \n",
       "mean     155.152655    367.207965  169.949115   90.004425   33.676991  ...   \n",
       "std       44.842283     33.385421   35.633072   25.826643   45.431434  ...   \n",
       "min        0.000000    232.000000  108.000000    0.000000 -172.000000  ...   \n",
       "25%      142.000000    350.000000  148.000000   79.000000    3.750000  ...   \n",
       "50%      157.000000    367.000000  162.000000   91.000000   40.000000  ...   \n",
       "75%      175.000000    384.000000  179.000000  102.000000   66.000000  ...   \n",
       "max      524.000000    509.000000  381.000000  205.000000  169.000000  ...   \n",
       "\n",
       "               KY          KZ          LA          LB     LC          LD  \\\n",
       "count  452.000000  452.000000  452.000000  452.000000  452.0  452.000000   \n",
       "mean    -0.278982    9.048009   -1.457301    0.003982    0.0    0.514823   \n",
       "std      0.548876    3.472862    2.002430    0.050118    0.0    0.347531   \n",
       "min     -4.100000    0.000000  -28.600000    0.000000    0.0   -0.800000   \n",
       "25%     -0.425000    6.600000   -2.100000    0.000000    0.0    0.400000   \n",
       "50%      0.000000    8.800000   -1.100000    0.000000    0.0    0.500000   \n",
       "75%      0.000000   11.200000    0.000000    0.000000    0.0    0.700000   \n",
       "max      0.000000   23.600000    0.000000    0.800000    0.0    2.400000   \n",
       "\n",
       "               LE          LF          LG   diagnosis  \n",
       "count  452.000000  452.000000  452.000000  452.000000  \n",
       "mean     1.222345   19.326106   29.473230    3.880531  \n",
       "std      1.426052   13.503922   18.493927    4.407097  \n",
       "min     -6.000000  -44.200000  -38.600000    1.000000  \n",
       "25%      0.500000   11.450000   17.550000    1.000000  \n",
       "50%      1.350000   18.100000   27.900000    1.000000  \n",
       "75%      2.100000   25.825000   41.125000    6.000000  \n",
       "max      6.000000   88.800000  115.900000   16.000000  \n",
       "\n",
       "[8 rows x 275 columns]"
      ]
     },
     "execution_count": 428,
     "metadata": {},
     "output_type": "execute_result"
    }
   ],
   "source": [
    "df.describe()"
   ]
  },
  {
   "cell_type": "code",
   "execution_count": 429,
   "metadata": {},
   "outputs": [
    {
     "name": "stdout",
     "output_type": "stream",
     "text": [
      "<class 'pandas.core.frame.DataFrame'>\n",
      "RangeIndex: 452 entries, 0 to 451\n",
      "Columns: 280 entries, age to diagnosis\n",
      "dtypes: float64(116), int64(159), object(5)\n",
      "memory usage: 988.9+ KB\n"
     ]
    }
   ],
   "source": [
    "df.info()"
   ]
  },
  {
   "cell_type": "code",
   "execution_count": 430,
   "metadata": {},
   "outputs": [
    {
     "data": {
      "image/png": "[encoded data removed]",
      "text/plain": [
       "<Figure size 432x288 with 1 Axes>"
      ]
     },
     "metadata": {
      "needs_background": "light"
     },
     "output_type": "display_data"
    }
   ],
   "source": [
    "plt.hist(df['diagnosis'], bins=16, range=(0,16), label='Category', color='red', alpha=0.6)\n",
    "plt.legend(loc='best')\n",
    "plt.grid()\n",
    "plt.show()"
   ]
  },
  {
   "cell_type": "code",
   "execution_count": 431,
   "metadata": {},
   "outputs": [
    {
     "data": {
      "text/plain": [
       "<seaborn.axisgrid.FacetGrid at 0x7fce34d429a0>"
      ]
     },
     "execution_count": 431,
     "metadata": {},
     "output_type": "execute_result"
    },
    {
     "data": {
      "image/png": "[encoded data removed]",
      "text/plain": [
       "<Figure size 360x360 with 1 Axes>"
      ]
     },
     "metadata": {
      "needs_background": "light"
     },
     "output_type": "display_data"
    }
   ],
   "source": [
    "sns.catplot(x=\"diagnosis\", y=\"age\", data=df)   "
   ]
  },
  {
   "cell_type": "markdown",
   "metadata": {},
   "source": [
    "In our data set, we have 452 patients and 279 features for each patient. Some variables are categorical(sex) and some continuous(age). <br> We do not have monotone data, but we have constants data.\n",
    "Last column is interpreted as a number of heart arrhythmia claster. According to documentation, missing attribute values are distinguished with '?' so the first step is to replace them with \"NaN\". After that, we will remove the variables that are constant because they tell us nothing about pacients."
   ]
  },
  {
   "cell_type": "code",
   "execution_count": 432,
   "metadata": {},
   "outputs": [
    {
     "data": {
      "text/plain": [
       "J               376\n",
       "P                22\n",
       "T                 8\n",
       "QRST              1\n",
       "heart_rate        1\n",
       "age               0\n",
       "sex               0\n",
       "height            0\n",
       "weight            0\n",
       "qrs_duration      0\n",
       "dtype: int64"
      ]
     },
     "execution_count": 432,
     "metadata": {},
     "output_type": "execute_result"
    }
   ],
   "source": [
    "df[df == '?'].count().nlargest(10)"
   ]
  },
  {
   "cell_type": "code",
   "execution_count": 433,
   "metadata": {},
   "outputs": [
    {
     "data": {
      "text/plain": [
       "<AxesSubplot:title={'center':'Frequency of NaN values'}>"
      ]
     },
     "execution_count": 433,
     "metadata": {},
     "output_type": "execute_result"
    },
    {
     "data": {
      "image/png": "[encoded data removed]",
      "text/plain": [
       "<Figure size 432x288 with 1 Axes>"
      ]
     },
     "metadata": {
      "needs_background": "light"
     },
     "output_type": "display_data"
    }
   ],
   "source": [
    "df = df.replace('?', np.NaN)\n",
    "df.isna().sum().nlargest(8).plot(kind=\"bar\", title=\"Frequency of NaN values\", color='blue', grid='bool')"
   ]
  },
  {
   "cell_type": "markdown",
   "metadata": {},
   "source": [
    "As we can see, in column 'J' we have a lof of missing values, more than 80%, so we will drop that column."
   ]
  },
  {
   "cell_type": "code",
   "execution_count": 434,
   "metadata": {},
   "outputs": [],
   "source": [
    "df.drop(['J'], axis=1, inplace=True)"
   ]
  },
  {
   "cell_type": "markdown",
   "metadata": {},
   "source": [
    "As for the other columns, since these variables are continuous, the first idea could be to hope for a normal distribution and then try to preserve the variability of the data by randomly simulate the missing values. <br> For this purpose, we perform well know **Kolmogorov–Smirnov** test."
   ]
  },
  {
   "cell_type": "code",
   "execution_count": 435,
   "metadata": {},
   "outputs": [
    {
     "name": "stdout",
     "output_type": "stream",
     "text": [
      "KstestResult(statistic=0.9255811086972653, pvalue=0.0)\n",
      "KstestResult(statistic=0.847749201067469, pvalue=0.0)\n",
      "KstestResult(statistic=0.8168319201501881, pvalue=0.0)\n",
      "KstestResult(statistic=1.0, pvalue=0.0)\n"
     ]
    }
   ],
   "source": [
    "print(stats.kstest(df[df['P'].notnull()]['P'].astype(int), 'norm'))\n",
    "print(stats.kstest(df[df['T'].notnull()]['T'].astype(int), 'norm'))\n",
    "print(stats.kstest(df[df['QRST'].notnull()]['QRST'].astype(int), 'norm'))\n",
    "print(stats.kstest(df[df['heart_rate'].notnull()]['heart_rate'].astype(int), 'norm'))"
   ]
  },
  {
   "cell_type": "markdown",
   "metadata": {},
   "source": [
    "This assumption was obviously too ambitious. For all columns, the p value turned out to be very small and the test statistics very large. <br> So our conclusion is that at each standard level of significance, we reject the null hypothesis, that is, that our data **do not follow** a normal distribution. <br>\n",
    "The next idea is standard. We will replace the missing values with the mean of each column."
   ]
  },
  {
   "cell_type": "code",
   "execution_count": 436,
   "metadata": {},
   "outputs": [
    {
     "data": {
      "text/plain": [
       "age             0\n",
       "sex             0\n",
       "height          0\n",
       "weight          0\n",
       "qrs_duration    0\n",
       "p-r_interval    0\n",
       "q-t_interval    0\n",
       "t_interval      0\n",
       "p_interval      0\n",
       "qrs             0\n",
       "dtype: int64"
      ]
     },
     "execution_count": 436,
     "metadata": {},
     "output_type": "execute_result"
    }
   ],
   "source": [
    "imp = SimpleImputer(missing_values=np.NaN, strategy='mean') # we could also put here '?' as an argument instead of np.nan, but we replace them above\n",
    "idf = pd.DataFrame(imp.fit_transform(df))\n",
    "idf.columns = df.columns\n",
    "idf.index = df.index\n",
    "df = idf\n",
    "df.isna().sum().nlargest(10)"
   ]
  },
  {
   "cell_type": "markdown",
   "metadata": {},
   "source": [
    "Finally, there are no more missing values in our data. <br>\n",
    "As said before, very important step is to drop constant variables."
   ]
  },
  {
   "cell_type": "code",
   "execution_count": 437,
   "metadata": {},
   "outputs": [
    {
     "data": {
      "text/plain": [
       "<AxesSubplot:title={'center':'Number of unique values per column'}>"
      ]
     },
     "execution_count": 437,
     "metadata": {},
     "output_type": "execute_result"
    },
    {
     "data": {
      "image/png": "[encoded data removed]",
      "text/plain": [
       "<Figure size 432x288 with 1 Axes>"
      ]
     },
     "metadata": {
      "needs_background": "light"
     },
     "output_type": "display_data"
    }
   ],
   "source": [
    "df.nunique().nsmallest(18).plot(kind=\"bar\", title=\"Number of unique values per column\", color='yellow', grid='bool')"
   ]
  },
  {
   "cell_type": "code",
   "execution_count": 438,
   "metadata": {},
   "outputs": [],
   "source": [
    "df = df.loc[:,df.apply(pd.Series.nunique) != 1]"
   ]
  },
  {
   "cell_type": "code",
   "execution_count": 439,
   "metadata": {},
   "outputs": [
    {
     "name": "stdout",
     "output_type": "stream",
     "text": [
      "Box plot for age\n"
     ]
    },
    {
     "data": {
      "image/png": "[encoded data removed]",
      "text/plain": [
       "<Figure size 432x288 with 1 Axes>"
      ]
     },
     "metadata": {
      "needs_background": "light"
     },
     "output_type": "display_data"
    },
    {
     "name": "stdout",
     "output_type": "stream",
     "text": [
      "Box plot for height\n"
     ]
    },
    {
     "data": {
      "image/png": "[encoded data removed]",
      "text/plain": [
       "<Figure size 432x288 with 1 Axes>"
      ]
     },
     "metadata": {
      "needs_background": "light"
     },
     "output_type": "display_data"
    },
    {
     "name": "stdout",
     "output_type": "stream",
     "text": [
      "Box plot for weight\n"
     ]
    },
    {
     "data": {
      "image/png": "[encoded data removed]",
      "text/plain": [
       "<Figure size 432x288 with 1 Axes>"
      ]
     },
     "metadata": {
      "needs_background": "light"
     },
     "output_type": "display_data"
    },
    {
     "name": "stdout",
     "output_type": "stream",
     "text": [
      "Box plot for qrs_duration\n"
     ]
    },
    {
     "data": {
      "image/png": "[encoded data removed]",
      "text/plain": [
       "<Figure size 432x288 with 1 Axes>"
      ]
     },
     "metadata": {
      "needs_background": "light"
     },
     "output_type": "display_data"
    },
    {
     "name": "stdout",
     "output_type": "stream",
     "text": [
      "Box plot for p-r_interval\n"
     ]
    },
    {
     "data": {
      "image/png": "[encoded data removed]",
      "text/plain": [
       "<Figure size 432x288 with 1 Axes>"
      ]
     },
     "metadata": {
      "needs_background": "light"
     },
     "output_type": "display_data"
    },
    {
     "name": "stdout",
     "output_type": "stream",
     "text": [
      "Box plot for q-t_interval\n"
     ]
    },
    {
     "data": {
      "image/png": "[encoded data removed]",
      "text/plain": [
       "<Figure size 432x288 with 1 Axes>"
      ]
     },
     "metadata": {
      "needs_background": "light"
     },
     "output_type": "display_data"
    },
    {
     "name": "stdout",
     "output_type": "stream",
     "text": [
      "Box plot for t_interval\n"
     ]
    },
    {
     "data": {
      "image/png": "[encoded data removed]",
      "text/plain": [
       "<Figure size 432x288 with 1 Axes>"
      ]
     },
     "metadata": {
      "needs_background": "light"
     },
     "output_type": "display_data"
    },
    {
     "name": "stdout",
     "output_type": "stream",
     "text": [
      "Box plot for p_interval\n"
     ]
    },
    {
     "data": {
      "image/png": "[encoded data removed]",
      "text/plain": [
       "<Figure size 432x288 with 1 Axes>"
      ]
     },
     "metadata": {
      "needs_background": "light"
     },
     "output_type": "display_data"
    },
    {
     "name": "stdout",
     "output_type": "stream",
     "text": [
      "Box plot for qrs\n"
     ]
    },
    {
     "data": {
      "image/png": "[encoded data removed]",
      "text/plain": [
       "<Figure size 432x288 with 1 Axes>"
      ]
     },
     "metadata": {
      "needs_background": "light"
     },
     "output_type": "display_data"
    }
   ],
   "source": [
    "continuos_col = ['age', 'height','weight','qrs_duration', 'p-r_interval','q-t_interval','t_interval','p_interval','qrs']\n",
    "i = 0 \n",
    "for c in continuos_col:\n",
    "        #if(df[c].max()  > df[c].mean() + 3 * df[c].std()):\n",
    "                i= i+1 \n",
    "                print('Box plot for', c)\n",
    "                plt.boxplot(df[c])\n",
    "                plt.show()"
   ]
  },
  {
   "cell_type": "markdown",
   "metadata": {},
   "source": [
    "Obviously, there are definitely outliers in the ‘height’ column. It is impossible for a patient to be taller than 250 cm."
   ]
  },
  {
   "cell_type": "code",
   "execution_count": 440,
   "metadata": {},
   "outputs": [
    {
     "data": {
      "text/plain": [
       "141    780.0\n",
       "316    608.0\n",
       "0      190.0\n",
       "4      190.0\n",
       "448    190.0\n",
       "Name: height, dtype: float64"
      ]
     },
     "execution_count": 440,
     "metadata": {},
     "output_type": "execute_result"
    }
   ],
   "source": [
    "df['height'].nlargest(5)"
   ]
  },
  {
   "cell_type": "code",
   "execution_count": 441,
   "metadata": {},
   "outputs": [],
   "source": [
    "df = df[df.height < 500]"
   ]
  },
  {
   "cell_type": "code",
   "execution_count": 442,
   "metadata": {},
   "outputs": [
    {
     "data": {
      "text/html": [
       "<div>\n",
       "<style scoped>\n",
       "    .dataframe tbody tr th:only-of-type {\n",
       "        vertical-align: middle;\n",
       "    }\n",
       "\n",
       "    .dataframe tbody tr th {\n",
       "        vertical-align: top;\n",
       "    }\n",
       "\n",
       "    .dataframe thead th {\n",
       "        text-align: right;\n",
       "    }\n",
       "</style>\n",
       "<table border=\"1\" class=\"dataframe\">\n",
       "  <thead>\n",
       "    <tr style=\"text-align: right;\">\n",
       "      <th></th>\n",
       "      <th>age</th>\n",
       "      <th>sex</th>\n",
       "      <th>height</th>\n",
       "      <th>weight</th>\n",
       "      <th>qrs_duration</th>\n",
       "      <th>p-r_interval</th>\n",
       "      <th>q-t_interval</th>\n",
       "      <th>t_interval</th>\n",
       "      <th>p_interval</th>\n",
       "      <th>qrs</th>\n",
       "      <th>...</th>\n",
       "      <th>KV</th>\n",
       "      <th>KY</th>\n",
       "      <th>KZ</th>\n",
       "      <th>LA</th>\n",
       "      <th>LB</th>\n",
       "      <th>LD</th>\n",
       "      <th>LE</th>\n",
       "      <th>LF</th>\n",
       "      <th>LG</th>\n",
       "      <th>diagnosis</th>\n",
       "    </tr>\n",
       "  </thead>\n",
       "  <tbody>\n",
       "    <tr>\n",
       "      <th>0</th>\n",
       "      <td>75.0</td>\n",
       "      <td>0.0</td>\n",
       "      <td>190.0</td>\n",
       "      <td>80.0</td>\n",
       "      <td>91.0</td>\n",
       "      <td>193.0</td>\n",
       "      <td>371.0</td>\n",
       "      <td>174.0</td>\n",
       "      <td>121.0</td>\n",
       "      <td>-16.0</td>\n",
       "      <td>...</td>\n",
       "      <td>-0.3</td>\n",
       "      <td>0.0</td>\n",
       "      <td>9.0</td>\n",
       "      <td>-0.9</td>\n",
       "      <td>0.0</td>\n",
       "      <td>0.9</td>\n",
       "      <td>2.9</td>\n",
       "      <td>23.3</td>\n",
       "      <td>49.4</td>\n",
       "      <td>8.0</td>\n",
       "    </tr>\n",
       "    <tr>\n",
       "      <th>1</th>\n",
       "      <td>56.0</td>\n",
       "      <td>1.0</td>\n",
       "      <td>165.0</td>\n",
       "      <td>64.0</td>\n",
       "      <td>81.0</td>\n",
       "      <td>174.0</td>\n",
       "      <td>401.0</td>\n",
       "      <td>149.0</td>\n",
       "      <td>39.0</td>\n",
       "      <td>25.0</td>\n",
       "      <td>...</td>\n",
       "      <td>-0.5</td>\n",
       "      <td>0.0</td>\n",
       "      <td>8.5</td>\n",
       "      <td>0.0</td>\n",
       "      <td>0.0</td>\n",
       "      <td>0.2</td>\n",
       "      <td>2.1</td>\n",
       "      <td>20.4</td>\n",
       "      <td>38.8</td>\n",
       "      <td>6.0</td>\n",
       "    </tr>\n",
       "    <tr>\n",
       "      <th>2</th>\n",
       "      <td>54.0</td>\n",
       "      <td>0.0</td>\n",
       "      <td>172.0</td>\n",
       "      <td>95.0</td>\n",
       "      <td>138.0</td>\n",
       "      <td>163.0</td>\n",
       "      <td>386.0</td>\n",
       "      <td>185.0</td>\n",
       "      <td>102.0</td>\n",
       "      <td>96.0</td>\n",
       "      <td>...</td>\n",
       "      <td>0.9</td>\n",
       "      <td>0.0</td>\n",
       "      <td>9.5</td>\n",
       "      <td>-2.4</td>\n",
       "      <td>0.0</td>\n",
       "      <td>0.3</td>\n",
       "      <td>3.4</td>\n",
       "      <td>12.3</td>\n",
       "      <td>49.0</td>\n",
       "      <td>10.0</td>\n",
       "    </tr>\n",
       "    <tr>\n",
       "      <th>3</th>\n",
       "      <td>55.0</td>\n",
       "      <td>0.0</td>\n",
       "      <td>175.0</td>\n",
       "      <td>94.0</td>\n",
       "      <td>100.0</td>\n",
       "      <td>202.0</td>\n",
       "      <td>380.0</td>\n",
       "      <td>179.0</td>\n",
       "      <td>143.0</td>\n",
       "      <td>28.0</td>\n",
       "      <td>...</td>\n",
       "      <td>0.1</td>\n",
       "      <td>0.0</td>\n",
       "      <td>12.2</td>\n",
       "      <td>-2.2</td>\n",
       "      <td>0.0</td>\n",
       "      <td>0.4</td>\n",
       "      <td>2.6</td>\n",
       "      <td>34.6</td>\n",
       "      <td>61.6</td>\n",
       "      <td>1.0</td>\n",
       "    </tr>\n",
       "    <tr>\n",
       "      <th>4</th>\n",
       "      <td>75.0</td>\n",
       "      <td>0.0</td>\n",
       "      <td>190.0</td>\n",
       "      <td>80.0</td>\n",
       "      <td>88.0</td>\n",
       "      <td>181.0</td>\n",
       "      <td>360.0</td>\n",
       "      <td>177.0</td>\n",
       "      <td>103.0</td>\n",
       "      <td>-16.0</td>\n",
       "      <td>...</td>\n",
       "      <td>-0.4</td>\n",
       "      <td>0.0</td>\n",
       "      <td>13.1</td>\n",
       "      <td>-3.6</td>\n",
       "      <td>0.0</td>\n",
       "      <td>-0.1</td>\n",
       "      <td>3.9</td>\n",
       "      <td>25.4</td>\n",
       "      <td>62.8</td>\n",
       "      <td>7.0</td>\n",
       "    </tr>\n",
       "    <tr>\n",
       "      <th>...</th>\n",
       "      <td>...</td>\n",
       "      <td>...</td>\n",
       "      <td>...</td>\n",
       "      <td>...</td>\n",
       "      <td>...</td>\n",
       "      <td>...</td>\n",
       "      <td>...</td>\n",
       "      <td>...</td>\n",
       "      <td>...</td>\n",
       "      <td>...</td>\n",
       "      <td>...</td>\n",
       "      <td>...</td>\n",
       "      <td>...</td>\n",
       "      <td>...</td>\n",
       "      <td>...</td>\n",
       "      <td>...</td>\n",
       "      <td>...</td>\n",
       "      <td>...</td>\n",
       "      <td>...</td>\n",
       "      <td>...</td>\n",
       "      <td>...</td>\n",
       "    </tr>\n",
       "    <tr>\n",
       "      <th>447</th>\n",
       "      <td>53.0</td>\n",
       "      <td>1.0</td>\n",
       "      <td>160.0</td>\n",
       "      <td>70.0</td>\n",
       "      <td>80.0</td>\n",
       "      <td>199.0</td>\n",
       "      <td>382.0</td>\n",
       "      <td>154.0</td>\n",
       "      <td>117.0</td>\n",
       "      <td>-37.0</td>\n",
       "      <td>...</td>\n",
       "      <td>0.0</td>\n",
       "      <td>0.0</td>\n",
       "      <td>4.3</td>\n",
       "      <td>-5.0</td>\n",
       "      <td>0.0</td>\n",
       "      <td>0.7</td>\n",
       "      <td>0.6</td>\n",
       "      <td>-4.4</td>\n",
       "      <td>-0.5</td>\n",
       "      <td>1.0</td>\n",
       "    </tr>\n",
       "    <tr>\n",
       "      <th>448</th>\n",
       "      <td>37.0</td>\n",
       "      <td>0.0</td>\n",
       "      <td>190.0</td>\n",
       "      <td>85.0</td>\n",
       "      <td>100.0</td>\n",
       "      <td>137.0</td>\n",
       "      <td>361.0</td>\n",
       "      <td>201.0</td>\n",
       "      <td>73.0</td>\n",
       "      <td>86.0</td>\n",
       "      <td>...</td>\n",
       "      <td>-0.5</td>\n",
       "      <td>0.0</td>\n",
       "      <td>15.6</td>\n",
       "      <td>-1.6</td>\n",
       "      <td>0.0</td>\n",
       "      <td>0.4</td>\n",
       "      <td>2.4</td>\n",
       "      <td>38.0</td>\n",
       "      <td>62.4</td>\n",
       "      <td>10.0</td>\n",
       "    </tr>\n",
       "    <tr>\n",
       "      <th>449</th>\n",
       "      <td>36.0</td>\n",
       "      <td>0.0</td>\n",
       "      <td>166.0</td>\n",
       "      <td>68.0</td>\n",
       "      <td>108.0</td>\n",
       "      <td>176.0</td>\n",
       "      <td>365.0</td>\n",
       "      <td>194.0</td>\n",
       "      <td>116.0</td>\n",
       "      <td>-85.0</td>\n",
       "      <td>...</td>\n",
       "      <td>1.2</td>\n",
       "      <td>0.0</td>\n",
       "      <td>16.3</td>\n",
       "      <td>-28.6</td>\n",
       "      <td>0.0</td>\n",
       "      <td>1.5</td>\n",
       "      <td>1.0</td>\n",
       "      <td>-44.2</td>\n",
       "      <td>-33.2</td>\n",
       "      <td>2.0</td>\n",
       "    </tr>\n",
       "    <tr>\n",
       "      <th>450</th>\n",
       "      <td>32.0</td>\n",
       "      <td>1.0</td>\n",
       "      <td>155.0</td>\n",
       "      <td>55.0</td>\n",
       "      <td>93.0</td>\n",
       "      <td>106.0</td>\n",
       "      <td>386.0</td>\n",
       "      <td>218.0</td>\n",
       "      <td>63.0</td>\n",
       "      <td>54.0</td>\n",
       "      <td>...</td>\n",
       "      <td>0.2</td>\n",
       "      <td>-0.4</td>\n",
       "      <td>12.0</td>\n",
       "      <td>-0.7</td>\n",
       "      <td>0.0</td>\n",
       "      <td>0.5</td>\n",
       "      <td>2.4</td>\n",
       "      <td>25.0</td>\n",
       "      <td>46.6</td>\n",
       "      <td>1.0</td>\n",
       "    </tr>\n",
       "    <tr>\n",
       "      <th>451</th>\n",
       "      <td>78.0</td>\n",
       "      <td>1.0</td>\n",
       "      <td>160.0</td>\n",
       "      <td>70.0</td>\n",
       "      <td>79.0</td>\n",
       "      <td>127.0</td>\n",
       "      <td>364.0</td>\n",
       "      <td>138.0</td>\n",
       "      <td>78.0</td>\n",
       "      <td>28.0</td>\n",
       "      <td>...</td>\n",
       "      <td>-0.3</td>\n",
       "      <td>0.0</td>\n",
       "      <td>10.4</td>\n",
       "      <td>-1.8</td>\n",
       "      <td>0.0</td>\n",
       "      <td>0.5</td>\n",
       "      <td>1.6</td>\n",
       "      <td>21.3</td>\n",
       "      <td>32.8</td>\n",
       "      <td>1.0</td>\n",
       "    </tr>\n",
       "  </tbody>\n",
       "</table>\n",
       "<p>450 rows × 262 columns</p>\n",
       "</div>"
      ],
      "text/plain": [
       "      age  sex  height  weight  qrs_duration  p-r_interval  q-t_interval  \\\n",
       "0    75.0  0.0   190.0    80.0          91.0         193.0         371.0   \n",
       "1    56.0  1.0   165.0    64.0          81.0         174.0         401.0   \n",
       "2    54.0  0.0   172.0    95.0         138.0         163.0         386.0   \n",
       "3    55.0  0.0   175.0    94.0         100.0         202.0         380.0   \n",
       "4    75.0  0.0   190.0    80.0          88.0         181.0         360.0   \n",
       "..    ...  ...     ...     ...           ...           ...           ...   \n",
       "447  53.0  1.0   160.0    70.0          80.0         199.0         382.0   \n",
       "448  37.0  0.0   190.0    85.0         100.0         137.0         361.0   \n",
       "449  36.0  0.0   166.0    68.0         108.0         176.0         365.0   \n",
       "450  32.0  1.0   155.0    55.0          93.0         106.0         386.0   \n",
       "451  78.0  1.0   160.0    70.0          79.0         127.0         364.0   \n",
       "\n",
       "     t_interval  p_interval   qrs  ...   KV   KY    KZ    LA   LB   LD   LE  \\\n",
       "0         174.0       121.0 -16.0  ... -0.3  0.0   9.0  -0.9  0.0  0.9  2.9   \n",
       "1         149.0        39.0  25.0  ... -0.5  0.0   8.5   0.0  0.0  0.2  2.1   \n",
       "2         185.0       102.0  96.0  ...  0.9  0.0   9.5  -2.4  0.0  0.3  3.4   \n",
       "3         179.0       143.0  28.0  ...  0.1  0.0  12.2  -2.2  0.0  0.4  2.6   \n",
       "4         177.0       103.0 -16.0  ... -0.4  0.0  13.1  -3.6  0.0 -0.1  3.9   \n",
       "..          ...         ...   ...  ...  ...  ...   ...   ...  ...  ...  ...   \n",
       "447       154.0       117.0 -37.0  ...  0.0  0.0   4.3  -5.0  0.0  0.7  0.6   \n",
       "448       201.0        73.0  86.0  ... -0.5  0.0  15.6  -1.6  0.0  0.4  2.4   \n",
       "449       194.0       116.0 -85.0  ...  1.2  0.0  16.3 -28.6  0.0  1.5  1.0   \n",
       "450       218.0        63.0  54.0  ...  0.2 -0.4  12.0  -0.7  0.0  0.5  2.4   \n",
       "451       138.0        78.0  28.0  ... -0.3  0.0  10.4  -1.8  0.0  0.5  1.6   \n",
       "\n",
       "       LF    LG  diagnosis  \n",
       "0    23.3  49.4        8.0  \n",
       "1    20.4  38.8        6.0  \n",
       "2    12.3  49.0       10.0  \n",
       "3    34.6  61.6        1.0  \n",
       "4    25.4  62.8        7.0  \n",
       "..    ...   ...        ...  \n",
       "447  -4.4  -0.5        1.0  \n",
       "448  38.0  62.4       10.0  \n",
       "449 -44.2 -33.2        2.0  \n",
       "450  25.0  46.6        1.0  \n",
       "451  21.3  32.8        1.0  \n",
       "\n",
       "[450 rows x 262 columns]"
      ]
     },
     "execution_count": 442,
     "metadata": {},
     "output_type": "execute_result"
    }
   ],
   "source": [
    "df #450 x 262"
   ]
  },
  {
   "cell_type": "markdown",
   "metadata": {},
   "source": [
    "Last but not least, detecting parse data. "
   ]
  },
  {
   "cell_type": "code",
   "execution_count": 443,
   "metadata": {},
   "outputs": [
    {
     "data": {
      "text/plain": [
       "CI    0\n",
       "AB    1\n",
       "AL    1\n",
       "AP    1\n",
       "BC    1\n",
       "     ..\n",
       "AT    7\n",
       "DF    7\n",
       "AN    8\n",
       "BF    8\n",
       "CE    8\n",
       "Length: 80, dtype: int64"
      ]
     },
     "execution_count": 443,
     "metadata": {},
     "output_type": "execute_result"
    }
   ],
   "source": [
    "df.astype(bool).sum(axis=0).nsmallest(80)"
   ]
  },
  {
   "cell_type": "markdown",
   "metadata": {},
   "source": [
    "As we can see, by removing that outlier, column \"CI\" became constant, so we will remove it too. "
   ]
  },
  {
   "cell_type": "code",
   "execution_count": 444,
   "metadata": {},
   "outputs": [],
   "source": [
    "df.drop(['CI'], axis=1, inplace=True)"
   ]
  },
  {
   "cell_type": "markdown",
   "metadata": {},
   "source": [
    "There are many ways to examine correlation, for example - heat map, but we will focus on finding the maximum and minimum elements of a symmetric correlation matrix."
   ]
  },
  {
   "cell_type": "code",
   "execution_count": 445,
   "metadata": {},
   "outputs": [
    {
     "name": "stdout",
     "output_type": "stream",
     "text": [
      "Negative correlation:  AL\n",
      "GS   -1.0\n",
      "Name: AL, dtype: float64\n",
      "Negative correlation:  BM\n",
      "HO   -1.0\n",
      "Name: BM, dtype: float64\n",
      "Negative correlation:  CN\n",
      "IL   -0.999992\n",
      "Name: CN, dtype: float64\n",
      "Positive correlation:  FR\n",
      "FR    1.000000\n",
      "LB    0.997769\n",
      "Name: FR, dtype: float64\n",
      "Negative correlation:  GS\n",
      "AL   -1.0\n",
      "Name: GS, dtype: float64\n",
      "Negative correlation:  HO\n",
      "BM   -1.0\n",
      "Name: HO, dtype: float64\n",
      "Negative correlation:  IL\n",
      "CN   -0.999992\n",
      "Name: IL, dtype: float64\n",
      "Positive correlation:  LB\n",
      "LB    1.000000\n",
      "FR    0.997769\n",
      "Name: LB, dtype: float64\n"
     ]
    }
   ],
   "source": [
    "corr_matrix= df.corr()\n",
    "columns = list(df.columns)\n",
    "\n",
    "for c in columns:\n",
    "    if(corr_matrix[c].nlargest(2)[1] > 0.99):\n",
    "        print(\"Positive correlation: \", c) \n",
    "        print(corr_matrix[c].nlargest(2))\n",
    "    if(corr_matrix[c].nsmallest(2)[0] < -0.9999):\n",
    "        print(\"Negative correlation: \", c) \n",
    "        print(corr_matrix[c].nsmallest(1))"
   ]
  },
  {
   "cell_type": "markdown",
   "metadata": {},
   "source": [
    "Between the two variables that are strongly correlated, we will keep only one of them."
   ]
  },
  {
   "cell_type": "code",
   "execution_count": 446,
   "metadata": {},
   "outputs": [],
   "source": [
    "df.drop(['GS'], axis=1, inplace=True)\n",
    "df.drop(['HO'], axis=1, inplace=True)\n",
    "df.drop(['IL'], axis=1, inplace=True)\n",
    "df.drop(['LB'], axis=1, inplace=True)"
   ]
  },
  {
   "cell_type": "code",
   "execution_count": 447,
   "metadata": {},
   "outputs": [
    {
     "data": {
      "text/plain": [
       "AB     1\n",
       "AL     1\n",
       "AP     1\n",
       "BC     1\n",
       "BE     1\n",
       "      ..\n",
       "IA    11\n",
       "AO    13\n",
       "CM    13\n",
       "IK    13\n",
       "EP    15\n",
       "Length: 88, dtype: int64"
      ]
     },
     "execution_count": 447,
     "metadata": {},
     "output_type": "execute_result"
    }
   ],
   "source": [
    "df.astype(bool).sum(axis=0).nsmallest(88)"
   ]
  },
  {
   "cell_type": "markdown",
   "metadata": {},
   "source": [
    "Unfortunately, a big problem arises here. We have a lot of parse data. It is generally known that the algorithms we want to develop will behave badly with such data. We will focus to those that have up to 15 different values from zero and turn them into dummy variables."
   ]
  },
  {
   "cell_type": "code",
   "execution_count": 448,
   "metadata": {},
   "outputs": [
    {
     "data": {
      "text/html": [
       "<div>\n",
       "<style scoped>\n",
       "    .dataframe tbody tr th:only-of-type {\n",
       "        vertical-align: middle;\n",
       "    }\n",
       "\n",
       "    .dataframe tbody tr th {\n",
       "        vertical-align: top;\n",
       "    }\n",
       "\n",
       "    .dataframe thead th {\n",
       "        text-align: right;\n",
       "    }\n",
       "</style>\n",
       "<table border=\"1\" class=\"dataframe\">\n",
       "  <thead>\n",
       "    <tr style=\"text-align: right;\">\n",
       "      <th></th>\n",
       "      <th>age</th>\n",
       "      <th>sex</th>\n",
       "      <th>height</th>\n",
       "      <th>weight</th>\n",
       "      <th>qrs_duration</th>\n",
       "      <th>p-r_interval</th>\n",
       "      <th>q-t_interval</th>\n",
       "      <th>t_interval</th>\n",
       "      <th>p_interval</th>\n",
       "      <th>qrs</th>\n",
       "      <th>...</th>\n",
       "      <th>KU</th>\n",
       "      <th>KV</th>\n",
       "      <th>KY</th>\n",
       "      <th>KZ</th>\n",
       "      <th>LA</th>\n",
       "      <th>LD</th>\n",
       "      <th>LE</th>\n",
       "      <th>LF</th>\n",
       "      <th>LG</th>\n",
       "      <th>diagnosis</th>\n",
       "    </tr>\n",
       "  </thead>\n",
       "  <tbody>\n",
       "    <tr>\n",
       "      <th>0</th>\n",
       "      <td>75.0</td>\n",
       "      <td>0.0</td>\n",
       "      <td>190.0</td>\n",
       "      <td>80.0</td>\n",
       "      <td>91.0</td>\n",
       "      <td>193.0</td>\n",
       "      <td>371.0</td>\n",
       "      <td>174.0</td>\n",
       "      <td>121.0</td>\n",
       "      <td>-16.0</td>\n",
       "      <td>...</td>\n",
       "      <td>62.9</td>\n",
       "      <td>-0.3</td>\n",
       "      <td>0.0</td>\n",
       "      <td>9.0</td>\n",
       "      <td>-0.9</td>\n",
       "      <td>0.9</td>\n",
       "      <td>2.9</td>\n",
       "      <td>23.3</td>\n",
       "      <td>49.4</td>\n",
       "      <td>8.0</td>\n",
       "    </tr>\n",
       "    <tr>\n",
       "      <th>1</th>\n",
       "      <td>56.0</td>\n",
       "      <td>1.0</td>\n",
       "      <td>165.0</td>\n",
       "      <td>64.0</td>\n",
       "      <td>81.0</td>\n",
       "      <td>174.0</td>\n",
       "      <td>401.0</td>\n",
       "      <td>149.0</td>\n",
       "      <td>39.0</td>\n",
       "      <td>25.0</td>\n",
       "      <td>...</td>\n",
       "      <td>43.4</td>\n",
       "      <td>-0.5</td>\n",
       "      <td>0.0</td>\n",
       "      <td>8.5</td>\n",
       "      <td>0.0</td>\n",
       "      <td>0.2</td>\n",
       "      <td>2.1</td>\n",
       "      <td>20.4</td>\n",
       "      <td>38.8</td>\n",
       "      <td>6.0</td>\n",
       "    </tr>\n",
       "    <tr>\n",
       "      <th>2</th>\n",
       "      <td>54.0</td>\n",
       "      <td>0.0</td>\n",
       "      <td>172.0</td>\n",
       "      <td>95.0</td>\n",
       "      <td>138.0</td>\n",
       "      <td>163.0</td>\n",
       "      <td>386.0</td>\n",
       "      <td>185.0</td>\n",
       "      <td>102.0</td>\n",
       "      <td>96.0</td>\n",
       "      <td>...</td>\n",
       "      <td>48.2</td>\n",
       "      <td>0.9</td>\n",
       "      <td>0.0</td>\n",
       "      <td>9.5</td>\n",
       "      <td>-2.4</td>\n",
       "      <td>0.3</td>\n",
       "      <td>3.4</td>\n",
       "      <td>12.3</td>\n",
       "      <td>49.0</td>\n",
       "      <td>10.0</td>\n",
       "    </tr>\n",
       "    <tr>\n",
       "      <th>3</th>\n",
       "      <td>55.0</td>\n",
       "      <td>0.0</td>\n",
       "      <td>175.0</td>\n",
       "      <td>94.0</td>\n",
       "      <td>100.0</td>\n",
       "      <td>202.0</td>\n",
       "      <td>380.0</td>\n",
       "      <td>179.0</td>\n",
       "      <td>143.0</td>\n",
       "      <td>28.0</td>\n",
       "      <td>...</td>\n",
       "      <td>68.0</td>\n",
       "      <td>0.1</td>\n",
       "      <td>0.0</td>\n",
       "      <td>12.2</td>\n",
       "      <td>-2.2</td>\n",
       "      <td>0.4</td>\n",
       "      <td>2.6</td>\n",
       "      <td>34.6</td>\n",
       "      <td>61.6</td>\n",
       "      <td>1.0</td>\n",
       "    </tr>\n",
       "    <tr>\n",
       "      <th>4</th>\n",
       "      <td>75.0</td>\n",
       "      <td>0.0</td>\n",
       "      <td>190.0</td>\n",
       "      <td>80.0</td>\n",
       "      <td>88.0</td>\n",
       "      <td>181.0</td>\n",
       "      <td>360.0</td>\n",
       "      <td>177.0</td>\n",
       "      <td>103.0</td>\n",
       "      <td>-16.0</td>\n",
       "      <td>...</td>\n",
       "      <td>48.9</td>\n",
       "      <td>-0.4</td>\n",
       "      <td>0.0</td>\n",
       "      <td>13.1</td>\n",
       "      <td>-3.6</td>\n",
       "      <td>-0.1</td>\n",
       "      <td>3.9</td>\n",
       "      <td>25.4</td>\n",
       "      <td>62.8</td>\n",
       "      <td>7.0</td>\n",
       "    </tr>\n",
       "    <tr>\n",
       "      <th>...</th>\n",
       "      <td>...</td>\n",
       "      <td>...</td>\n",
       "      <td>...</td>\n",
       "      <td>...</td>\n",
       "      <td>...</td>\n",
       "      <td>...</td>\n",
       "      <td>...</td>\n",
       "      <td>...</td>\n",
       "      <td>...</td>\n",
       "      <td>...</td>\n",
       "      <td>...</td>\n",
       "      <td>...</td>\n",
       "      <td>...</td>\n",
       "      <td>...</td>\n",
       "      <td>...</td>\n",
       "      <td>...</td>\n",
       "      <td>...</td>\n",
       "      <td>...</td>\n",
       "      <td>...</td>\n",
       "      <td>...</td>\n",
       "      <td>...</td>\n",
       "    </tr>\n",
       "    <tr>\n",
       "      <th>447</th>\n",
       "      <td>53.0</td>\n",
       "      <td>1.0</td>\n",
       "      <td>160.0</td>\n",
       "      <td>70.0</td>\n",
       "      <td>80.0</td>\n",
       "      <td>199.0</td>\n",
       "      <td>382.0</td>\n",
       "      <td>154.0</td>\n",
       "      <td>117.0</td>\n",
       "      <td>-37.0</td>\n",
       "      <td>...</td>\n",
       "      <td>-0.6</td>\n",
       "      <td>0.0</td>\n",
       "      <td>0.0</td>\n",
       "      <td>4.3</td>\n",
       "      <td>-5.0</td>\n",
       "      <td>0.7</td>\n",
       "      <td>0.6</td>\n",
       "      <td>-4.4</td>\n",
       "      <td>-0.5</td>\n",
       "      <td>1.0</td>\n",
       "    </tr>\n",
       "    <tr>\n",
       "      <th>448</th>\n",
       "      <td>37.0</td>\n",
       "      <td>0.0</td>\n",
       "      <td>190.0</td>\n",
       "      <td>85.0</td>\n",
       "      <td>100.0</td>\n",
       "      <td>137.0</td>\n",
       "      <td>361.0</td>\n",
       "      <td>201.0</td>\n",
       "      <td>73.0</td>\n",
       "      <td>86.0</td>\n",
       "      <td>...</td>\n",
       "      <td>82.5</td>\n",
       "      <td>-0.5</td>\n",
       "      <td>0.0</td>\n",
       "      <td>15.6</td>\n",
       "      <td>-1.6</td>\n",
       "      <td>0.4</td>\n",
       "      <td>2.4</td>\n",
       "      <td>38.0</td>\n",
       "      <td>62.4</td>\n",
       "      <td>10.0</td>\n",
       "    </tr>\n",
       "    <tr>\n",
       "      <th>449</th>\n",
       "      <td>36.0</td>\n",
       "      <td>0.0</td>\n",
       "      <td>166.0</td>\n",
       "      <td>68.0</td>\n",
       "      <td>108.0</td>\n",
       "      <td>176.0</td>\n",
       "      <td>365.0</td>\n",
       "      <td>194.0</td>\n",
       "      <td>116.0</td>\n",
       "      <td>-85.0</td>\n",
       "      <td>...</td>\n",
       "      <td>-63.6</td>\n",
       "      <td>1.2</td>\n",
       "      <td>0.0</td>\n",
       "      <td>16.3</td>\n",
       "      <td>-28.6</td>\n",
       "      <td>1.5</td>\n",
       "      <td>1.0</td>\n",
       "      <td>-44.2</td>\n",
       "      <td>-33.2</td>\n",
       "      <td>2.0</td>\n",
       "    </tr>\n",
       "    <tr>\n",
       "      <th>450</th>\n",
       "      <td>32.0</td>\n",
       "      <td>1.0</td>\n",
       "      <td>155.0</td>\n",
       "      <td>55.0</td>\n",
       "      <td>93.0</td>\n",
       "      <td>106.0</td>\n",
       "      <td>386.0</td>\n",
       "      <td>218.0</td>\n",
       "      <td>63.0</td>\n",
       "      <td>54.0</td>\n",
       "      <td>...</td>\n",
       "      <td>61.0</td>\n",
       "      <td>0.2</td>\n",
       "      <td>-0.4</td>\n",
       "      <td>12.0</td>\n",
       "      <td>-0.7</td>\n",
       "      <td>0.5</td>\n",
       "      <td>2.4</td>\n",
       "      <td>25.0</td>\n",
       "      <td>46.6</td>\n",
       "      <td>1.0</td>\n",
       "    </tr>\n",
       "    <tr>\n",
       "      <th>451</th>\n",
       "      <td>78.0</td>\n",
       "      <td>1.0</td>\n",
       "      <td>160.0</td>\n",
       "      <td>70.0</td>\n",
       "      <td>79.0</td>\n",
       "      <td>127.0</td>\n",
       "      <td>364.0</td>\n",
       "      <td>138.0</td>\n",
       "      <td>78.0</td>\n",
       "      <td>28.0</td>\n",
       "      <td>...</td>\n",
       "      <td>38.9</td>\n",
       "      <td>-0.3</td>\n",
       "      <td>0.0</td>\n",
       "      <td>10.4</td>\n",
       "      <td>-1.8</td>\n",
       "      <td>0.5</td>\n",
       "      <td>1.6</td>\n",
       "      <td>21.3</td>\n",
       "      <td>32.8</td>\n",
       "      <td>1.0</td>\n",
       "    </tr>\n",
       "  </tbody>\n",
       "</table>\n",
       "<p>450 rows × 257 columns</p>\n",
       "</div>"
      ],
      "text/plain": [
       "      age  sex  height  weight  qrs_duration  p-r_interval  q-t_interval  \\\n",
       "0    75.0  0.0   190.0    80.0          91.0         193.0         371.0   \n",
       "1    56.0  1.0   165.0    64.0          81.0         174.0         401.0   \n",
       "2    54.0  0.0   172.0    95.0         138.0         163.0         386.0   \n",
       "3    55.0  0.0   175.0    94.0         100.0         202.0         380.0   \n",
       "4    75.0  0.0   190.0    80.0          88.0         181.0         360.0   \n",
       "..    ...  ...     ...     ...           ...           ...           ...   \n",
       "447  53.0  1.0   160.0    70.0          80.0         199.0         382.0   \n",
       "448  37.0  0.0   190.0    85.0         100.0         137.0         361.0   \n",
       "449  36.0  0.0   166.0    68.0         108.0         176.0         365.0   \n",
       "450  32.0  1.0   155.0    55.0          93.0         106.0         386.0   \n",
       "451  78.0  1.0   160.0    70.0          79.0         127.0         364.0   \n",
       "\n",
       "     t_interval  p_interval   qrs  ...    KU   KV   KY    KZ    LA   LD   LE  \\\n",
       "0         174.0       121.0 -16.0  ...  62.9 -0.3  0.0   9.0  -0.9  0.9  2.9   \n",
       "1         149.0        39.0  25.0  ...  43.4 -0.5  0.0   8.5   0.0  0.2  2.1   \n",
       "2         185.0       102.0  96.0  ...  48.2  0.9  0.0   9.5  -2.4  0.3  3.4   \n",
       "3         179.0       143.0  28.0  ...  68.0  0.1  0.0  12.2  -2.2  0.4  2.6   \n",
       "4         177.0       103.0 -16.0  ...  48.9 -0.4  0.0  13.1  -3.6 -0.1  3.9   \n",
       "..          ...         ...   ...  ...   ...  ...  ...   ...   ...  ...  ...   \n",
       "447       154.0       117.0 -37.0  ...  -0.6  0.0  0.0   4.3  -5.0  0.7  0.6   \n",
       "448       201.0        73.0  86.0  ...  82.5 -0.5  0.0  15.6  -1.6  0.4  2.4   \n",
       "449       194.0       116.0 -85.0  ... -63.6  1.2  0.0  16.3 -28.6  1.5  1.0   \n",
       "450       218.0        63.0  54.0  ...  61.0  0.2 -0.4  12.0  -0.7  0.5  2.4   \n",
       "451       138.0        78.0  28.0  ...  38.9 -0.3  0.0  10.4  -1.8  0.5  1.6   \n",
       "\n",
       "       LF    LG  diagnosis  \n",
       "0    23.3  49.4        8.0  \n",
       "1    20.4  38.8        6.0  \n",
       "2    12.3  49.0       10.0  \n",
       "3    34.6  61.6        1.0  \n",
       "4    25.4  62.8        7.0  \n",
       "..    ...   ...        ...  \n",
       "447  -4.4  -0.5        1.0  \n",
       "448  38.0  62.4       10.0  \n",
       "449 -44.2 -33.2        2.0  \n",
       "450  25.0  46.6        1.0  \n",
       "451  21.3  32.8        1.0  \n",
       "\n",
       "[450 rows x 257 columns]"
      ]
     },
     "execution_count": 448,
     "metadata": {},
     "output_type": "execute_result"
    }
   ],
   "source": [
    "df"
   ]
  },
  {
   "cell_type": "code",
   "execution_count": 449,
   "metadata": {},
   "outputs": [],
   "source": [
    "categorical_cols = list(df.astype(bool).sum(axis=0).nsmallest(87).index) #91 - this number can be arbitrary ofcourse, but we decide there is max. 13 dummy variables for one variable\n",
    "df = pd.get_dummies(df, columns=categorical_cols)"
   ]
  },
  {
   "cell_type": "code",
   "execution_count": 450,
   "metadata": {},
   "outputs": [
    {
     "data": {
      "text/html": [
       "<div>\n",
       "<style scoped>\n",
       "    .dataframe tbody tr th:only-of-type {\n",
       "        vertical-align: middle;\n",
       "    }\n",
       "\n",
       "    .dataframe tbody tr th {\n",
       "        vertical-align: top;\n",
       "    }\n",
       "\n",
       "    .dataframe thead th {\n",
       "        text-align: right;\n",
       "    }\n",
       "</style>\n",
       "<table border=\"1\" class=\"dataframe\">\n",
       "  <thead>\n",
       "    <tr style=\"text-align: right;\">\n",
       "      <th></th>\n",
       "      <th>age</th>\n",
       "      <th>sex</th>\n",
       "      <th>height</th>\n",
       "      <th>weight</th>\n",
       "      <th>qrs_duration</th>\n",
       "      <th>p-r_interval</th>\n",
       "      <th>q-t_interval</th>\n",
       "      <th>t_interval</th>\n",
       "      <th>p_interval</th>\n",
       "      <th>qrs</th>\n",
       "      <th>...</th>\n",
       "      <th>IK_0.0</th>\n",
       "      <th>IK_0.4</th>\n",
       "      <th>IK_0.5</th>\n",
       "      <th>IK_0.7</th>\n",
       "      <th>IK_0.8</th>\n",
       "      <th>IK_1.0</th>\n",
       "      <th>IK_1.3</th>\n",
       "      <th>IK_1.6</th>\n",
       "      <th>IK_1.8</th>\n",
       "      <th>IK_3.9</th>\n",
       "    </tr>\n",
       "  </thead>\n",
       "  <tbody>\n",
       "    <tr>\n",
       "      <th>0</th>\n",
       "      <td>75.0</td>\n",
       "      <td>0.0</td>\n",
       "      <td>190.0</td>\n",
       "      <td>80.0</td>\n",
       "      <td>91.0</td>\n",
       "      <td>193.0</td>\n",
       "      <td>371.0</td>\n",
       "      <td>174.0</td>\n",
       "      <td>121.0</td>\n",
       "      <td>-16.0</td>\n",
       "      <td>...</td>\n",
       "      <td>1</td>\n",
       "      <td>0</td>\n",
       "      <td>0</td>\n",
       "      <td>0</td>\n",
       "      <td>0</td>\n",
       "      <td>0</td>\n",
       "      <td>0</td>\n",
       "      <td>0</td>\n",
       "      <td>0</td>\n",
       "      <td>0</td>\n",
       "    </tr>\n",
       "    <tr>\n",
       "      <th>1</th>\n",
       "      <td>56.0</td>\n",
       "      <td>1.0</td>\n",
       "      <td>165.0</td>\n",
       "      <td>64.0</td>\n",
       "      <td>81.0</td>\n",
       "      <td>174.0</td>\n",
       "      <td>401.0</td>\n",
       "      <td>149.0</td>\n",
       "      <td>39.0</td>\n",
       "      <td>25.0</td>\n",
       "      <td>...</td>\n",
       "      <td>1</td>\n",
       "      <td>0</td>\n",
       "      <td>0</td>\n",
       "      <td>0</td>\n",
       "      <td>0</td>\n",
       "      <td>0</td>\n",
       "      <td>0</td>\n",
       "      <td>0</td>\n",
       "      <td>0</td>\n",
       "      <td>0</td>\n",
       "    </tr>\n",
       "    <tr>\n",
       "      <th>2</th>\n",
       "      <td>54.0</td>\n",
       "      <td>0.0</td>\n",
       "      <td>172.0</td>\n",
       "      <td>95.0</td>\n",
       "      <td>138.0</td>\n",
       "      <td>163.0</td>\n",
       "      <td>386.0</td>\n",
       "      <td>185.0</td>\n",
       "      <td>102.0</td>\n",
       "      <td>96.0</td>\n",
       "      <td>...</td>\n",
       "      <td>1</td>\n",
       "      <td>0</td>\n",
       "      <td>0</td>\n",
       "      <td>0</td>\n",
       "      <td>0</td>\n",
       "      <td>0</td>\n",
       "      <td>0</td>\n",
       "      <td>0</td>\n",
       "      <td>0</td>\n",
       "      <td>0</td>\n",
       "    </tr>\n",
       "    <tr>\n",
       "      <th>3</th>\n",
       "      <td>55.0</td>\n",
       "      <td>0.0</td>\n",
       "      <td>175.0</td>\n",
       "      <td>94.0</td>\n",
       "      <td>100.0</td>\n",
       "      <td>202.0</td>\n",
       "      <td>380.0</td>\n",
       "      <td>179.0</td>\n",
       "      <td>143.0</td>\n",
       "      <td>28.0</td>\n",
       "      <td>...</td>\n",
       "      <td>1</td>\n",
       "      <td>0</td>\n",
       "      <td>0</td>\n",
       "      <td>0</td>\n",
       "      <td>0</td>\n",
       "      <td>0</td>\n",
       "      <td>0</td>\n",
       "      <td>0</td>\n",
       "      <td>0</td>\n",
       "      <td>0</td>\n",
       "    </tr>\n",
       "    <tr>\n",
       "      <th>4</th>\n",
       "      <td>75.0</td>\n",
       "      <td>0.0</td>\n",
       "      <td>190.0</td>\n",
       "      <td>80.0</td>\n",
       "      <td>88.0</td>\n",
       "      <td>181.0</td>\n",
       "      <td>360.0</td>\n",
       "      <td>177.0</td>\n",
       "      <td>103.0</td>\n",
       "      <td>-16.0</td>\n",
       "      <td>...</td>\n",
       "      <td>1</td>\n",
       "      <td>0</td>\n",
       "      <td>0</td>\n",
       "      <td>0</td>\n",
       "      <td>0</td>\n",
       "      <td>0</td>\n",
       "      <td>0</td>\n",
       "      <td>0</td>\n",
       "      <td>0</td>\n",
       "      <td>0</td>\n",
       "    </tr>\n",
       "    <tr>\n",
       "      <th>...</th>\n",
       "      <td>...</td>\n",
       "      <td>...</td>\n",
       "      <td>...</td>\n",
       "      <td>...</td>\n",
       "      <td>...</td>\n",
       "      <td>...</td>\n",
       "      <td>...</td>\n",
       "      <td>...</td>\n",
       "      <td>...</td>\n",
       "      <td>...</td>\n",
       "      <td>...</td>\n",
       "      <td>...</td>\n",
       "      <td>...</td>\n",
       "      <td>...</td>\n",
       "      <td>...</td>\n",
       "      <td>...</td>\n",
       "      <td>...</td>\n",
       "      <td>...</td>\n",
       "      <td>...</td>\n",
       "      <td>...</td>\n",
       "      <td>...</td>\n",
       "    </tr>\n",
       "    <tr>\n",
       "      <th>447</th>\n",
       "      <td>53.0</td>\n",
       "      <td>1.0</td>\n",
       "      <td>160.0</td>\n",
       "      <td>70.0</td>\n",
       "      <td>80.0</td>\n",
       "      <td>199.0</td>\n",
       "      <td>382.0</td>\n",
       "      <td>154.0</td>\n",
       "      <td>117.0</td>\n",
       "      <td>-37.0</td>\n",
       "      <td>...</td>\n",
       "      <td>1</td>\n",
       "      <td>0</td>\n",
       "      <td>0</td>\n",
       "      <td>0</td>\n",
       "      <td>0</td>\n",
       "      <td>0</td>\n",
       "      <td>0</td>\n",
       "      <td>0</td>\n",
       "      <td>0</td>\n",
       "      <td>0</td>\n",
       "    </tr>\n",
       "    <tr>\n",
       "      <th>448</th>\n",
       "      <td>37.0</td>\n",
       "      <td>0.0</td>\n",
       "      <td>190.0</td>\n",
       "      <td>85.0</td>\n",
       "      <td>100.0</td>\n",
       "      <td>137.0</td>\n",
       "      <td>361.0</td>\n",
       "      <td>201.0</td>\n",
       "      <td>73.0</td>\n",
       "      <td>86.0</td>\n",
       "      <td>...</td>\n",
       "      <td>1</td>\n",
       "      <td>0</td>\n",
       "      <td>0</td>\n",
       "      <td>0</td>\n",
       "      <td>0</td>\n",
       "      <td>0</td>\n",
       "      <td>0</td>\n",
       "      <td>0</td>\n",
       "      <td>0</td>\n",
       "      <td>0</td>\n",
       "    </tr>\n",
       "    <tr>\n",
       "      <th>449</th>\n",
       "      <td>36.0</td>\n",
       "      <td>0.0</td>\n",
       "      <td>166.0</td>\n",
       "      <td>68.0</td>\n",
       "      <td>108.0</td>\n",
       "      <td>176.0</td>\n",
       "      <td>365.0</td>\n",
       "      <td>194.0</td>\n",
       "      <td>116.0</td>\n",
       "      <td>-85.0</td>\n",
       "      <td>...</td>\n",
       "      <td>1</td>\n",
       "      <td>0</td>\n",
       "      <td>0</td>\n",
       "      <td>0</td>\n",
       "      <td>0</td>\n",
       "      <td>0</td>\n",
       "      <td>0</td>\n",
       "      <td>0</td>\n",
       "      <td>0</td>\n",
       "      <td>0</td>\n",
       "    </tr>\n",
       "    <tr>\n",
       "      <th>450</th>\n",
       "      <td>32.0</td>\n",
       "      <td>1.0</td>\n",
       "      <td>155.0</td>\n",
       "      <td>55.0</td>\n",
       "      <td>93.0</td>\n",
       "      <td>106.0</td>\n",
       "      <td>386.0</td>\n",
       "      <td>218.0</td>\n",
       "      <td>63.0</td>\n",
       "      <td>54.0</td>\n",
       "      <td>...</td>\n",
       "      <td>1</td>\n",
       "      <td>0</td>\n",
       "      <td>0</td>\n",
       "      <td>0</td>\n",
       "      <td>0</td>\n",
       "      <td>0</td>\n",
       "      <td>0</td>\n",
       "      <td>0</td>\n",
       "      <td>0</td>\n",
       "      <td>0</td>\n",
       "    </tr>\n",
       "    <tr>\n",
       "      <th>451</th>\n",
       "      <td>78.0</td>\n",
       "      <td>1.0</td>\n",
       "      <td>160.0</td>\n",
       "      <td>70.0</td>\n",
       "      <td>79.0</td>\n",
       "      <td>127.0</td>\n",
       "      <td>364.0</td>\n",
       "      <td>138.0</td>\n",
       "      <td>78.0</td>\n",
       "      <td>28.0</td>\n",
       "      <td>...</td>\n",
       "      <td>1</td>\n",
       "      <td>0</td>\n",
       "      <td>0</td>\n",
       "      <td>0</td>\n",
       "      <td>0</td>\n",
       "      <td>0</td>\n",
       "      <td>0</td>\n",
       "      <td>0</td>\n",
       "      <td>0</td>\n",
       "      <td>0</td>\n",
       "    </tr>\n",
       "  </tbody>\n",
       "</table>\n",
       "<p>450 rows × 415 columns</p>\n",
       "</div>"
      ],
      "text/plain": [
       "      age  sex  height  weight  qrs_duration  p-r_interval  q-t_interval  \\\n",
       "0    75.0  0.0   190.0    80.0          91.0         193.0         371.0   \n",
       "1    56.0  1.0   165.0    64.0          81.0         174.0         401.0   \n",
       "2    54.0  0.0   172.0    95.0         138.0         163.0         386.0   \n",
       "3    55.0  0.0   175.0    94.0         100.0         202.0         380.0   \n",
       "4    75.0  0.0   190.0    80.0          88.0         181.0         360.0   \n",
       "..    ...  ...     ...     ...           ...           ...           ...   \n",
       "447  53.0  1.0   160.0    70.0          80.0         199.0         382.0   \n",
       "448  37.0  0.0   190.0    85.0         100.0         137.0         361.0   \n",
       "449  36.0  0.0   166.0    68.0         108.0         176.0         365.0   \n",
       "450  32.0  1.0   155.0    55.0          93.0         106.0         386.0   \n",
       "451  78.0  1.0   160.0    70.0          79.0         127.0         364.0   \n",
       "\n",
       "     t_interval  p_interval   qrs  ...  IK_0.0  IK_0.4  IK_0.5  IK_0.7  \\\n",
       "0         174.0       121.0 -16.0  ...       1       0       0       0   \n",
       "1         149.0        39.0  25.0  ...       1       0       0       0   \n",
       "2         185.0       102.0  96.0  ...       1       0       0       0   \n",
       "3         179.0       143.0  28.0  ...       1       0       0       0   \n",
       "4         177.0       103.0 -16.0  ...       1       0       0       0   \n",
       "..          ...         ...   ...  ...     ...     ...     ...     ...   \n",
       "447       154.0       117.0 -37.0  ...       1       0       0       0   \n",
       "448       201.0        73.0  86.0  ...       1       0       0       0   \n",
       "449       194.0       116.0 -85.0  ...       1       0       0       0   \n",
       "450       218.0        63.0  54.0  ...       1       0       0       0   \n",
       "451       138.0        78.0  28.0  ...       1       0       0       0   \n",
       "\n",
       "     IK_0.8  IK_1.0  IK_1.3  IK_1.6  IK_1.8  IK_3.9  \n",
       "0         0       0       0       0       0       0  \n",
       "1         0       0       0       0       0       0  \n",
       "2         0       0       0       0       0       0  \n",
       "3         0       0       0       0       0       0  \n",
       "4         0       0       0       0       0       0  \n",
       "..      ...     ...     ...     ...     ...     ...  \n",
       "447       0       0       0       0       0       0  \n",
       "448       0       0       0       0       0       0  \n",
       "449       0       0       0       0       0       0  \n",
       "450       0       0       0       0       0       0  \n",
       "451       0       0       0       0       0       0  \n",
       "\n",
       "[450 rows x 415 columns]"
      ]
     },
     "execution_count": 450,
     "metadata": {},
     "output_type": "execute_result"
    }
   ],
   "source": [
    "df"
   ]
  },
  {
   "cell_type": "markdown",
   "metadata": {},
   "source": [
    "It seems natural that the patient's age and weight could have the greatest impact on the category of cardiac arrhythmia, so we perform Feature Engineering."
   ]
  },
  {
   "cell_type": "code",
   "execution_count": 451,
   "metadata": {},
   "outputs": [],
   "source": [
    "df['age'] = pd.cut(df['age'], 8)\n",
    "le = LabelEncoder()\n",
    "le.fit(df.loc[:,'age'])\n",
    "le.transform(df.loc[:,'age'])\n",
    "\n",
    "df.loc[:,'age'] = le.transform(df.loc[:,'age'])"
   ]
  },
  {
   "cell_type": "code",
   "execution_count": 452,
   "metadata": {},
   "outputs": [],
   "source": [
    "df['weight'] = pd.cut(df['weight'], 5)\n",
    "le = LabelEncoder()\n",
    "le.fit(df.loc[:,'weight'])\n",
    "le.transform(df.loc[:,'weight'])\n",
    "\n",
    "df.loc[:,'weight'] = le.transform(df.loc[:,'weight'])"
   ]
  },
  {
   "cell_type": "code",
   "execution_count": 453,
   "metadata": {},
   "outputs": [
    {
     "data": {
      "image/png": "[encoded data removed]",
      "text/plain": [
       "<Figure size 432x288 with 1 Axes>"
      ]
     },
     "metadata": {},
     "output_type": "display_data"
    }
   ],
   "source": [
    "count_per_title = df.groupby('age').count().loc[:,'sex'].values\n",
    "title_name = df.groupby('age').count().index.values\n",
    "percent = (count_per_title/len(df))*100\n",
    "\n",
    "plt.pie(percent, labels=title_name)\n",
    "plt.show()"
   ]
  },
  {
   "cell_type": "markdown",
   "metadata": {},
   "source": [
    "We notice that we have a relatively good number of all age groups."
   ]
  },
  {
   "cell_type": "markdown",
   "metadata": {},
   "source": [
    "Once we have prepared the data in the form we think is best to work with, next step is to reduce dimension by using PCA."
   ]
  },
  {
   "cell_type": "markdown",
   "metadata": {},
   "source": [
    "## Principal Component Analysis"
   ]
  },
  {
   "cell_type": "markdown",
   "metadata": {},
   "source": [
    "Before using PCA, the first step is to scale the features in our data. "
   ]
  },
  {
   "cell_type": "code",
   "execution_count": 454,
   "metadata": {},
   "outputs": [
    {
     "name": "stdout",
     "output_type": "stream",
     "text": [
      "[pca] >Column labels are auto-completed.\n",
      "[pca] >Row labels are auto-completed.\n",
      "[pca] >The PCA reduction is performed to capture [95.0%] explained variance using the [414] columns of the input data.\n",
      "[pca] >Fitting using PCA..\n",
      "[pca] >Computing loadings and PCs..\n",
      "[pca] >Computing explained variance..\n",
      "[pca] >Number of components is [118] that covers the [95.00%] explained variance.\n",
      "[pca] >Outlier detection using Hotelling T2 test with alpha=[0.05] and n_components=[118]\n",
      "[pca] >Outlier detection using SPE/DmodX with n_std=[2]\n"
     ]
    },
    {
     "data": {
      "image/png": "[encoded data removed]",
      "text/plain": [
       "<Figure size 720x576 with 1 Axes>"
      ]
     },
     "metadata": {
      "needs_background": "light"
     },
     "output_type": "display_data"
    },
    {
     "data": {
      "text/plain": [
       "(<Figure size 720x576 with 1 Axes>,\n",
       " <AxesSubplot:title={'center':'Cumulative explained variance\\n 118 Principal Components explain [95.0%] of the variance.'}, xlabel='Principle Component', ylabel='Percentage explained variance'>)"
      ]
     },
     "execution_count": 454,
     "metadata": {},
     "output_type": "execute_result"
    },
    {
     "data": {
      "text/plain": [
       "<Figure size 432x288 with 0 Axes>"
      ]
     },
     "metadata": {},
     "output_type": "display_data"
    }
   ],
   "source": [
    "X = df.iloc[:, df.columns != 'diagnosis'].values\n",
    "y = df.iloc[:, df.columns == 'diagnosis'].values\n",
    "\n",
    "X = StandardScaler().fit_transform(X)\n",
    "\n",
    "model = pca()\n",
    "out = model.fit_transform(X)\n",
    "model.plot()"
   ]
  },
  {
   "cell_type": "markdown",
   "metadata": {},
   "source": [
    "As we can see, 120 Principal Components explain 95% of the variance and 150 Principal Components explain about 99% of the variance. "
   ]
  },
  {
   "cell_type": "code",
   "execution_count": 455,
   "metadata": {},
   "outputs": [
    {
     "data": {
      "text/html": [
       "<div>\n",
       "<style scoped>\n",
       "    .dataframe tbody tr th:only-of-type {\n",
       "        vertical-align: middle;\n",
       "    }\n",
       "\n",
       "    .dataframe tbody tr th {\n",
       "        vertical-align: top;\n",
       "    }\n",
       "\n",
       "    .dataframe thead th {\n",
       "        text-align: right;\n",
       "    }\n",
       "</style>\n",
       "<table border=\"1\" class=\"dataframe\">\n",
       "  <thead>\n",
       "    <tr style=\"text-align: right;\">\n",
       "      <th></th>\n",
       "      <th>PC</th>\n",
       "      <th>feature</th>\n",
       "      <th>loading</th>\n",
       "      <th>type</th>\n",
       "    </tr>\n",
       "  </thead>\n",
       "  <tbody>\n",
       "    <tr>\n",
       "      <th>0</th>\n",
       "      <td>PC1</td>\n",
       "      <td>92</td>\n",
       "      <td>-0.181570</td>\n",
       "      <td>best</td>\n",
       "    </tr>\n",
       "    <tr>\n",
       "      <th>1</th>\n",
       "      <td>PC2</td>\n",
       "      <td>168</td>\n",
       "      <td>0.177916</td>\n",
       "      <td>best</td>\n",
       "    </tr>\n",
       "    <tr>\n",
       "      <th>2</th>\n",
       "      <td>PC3</td>\n",
       "      <td>143</td>\n",
       "      <td>-0.169263</td>\n",
       "      <td>best</td>\n",
       "    </tr>\n",
       "    <tr>\n",
       "      <th>3</th>\n",
       "      <td>PC4</td>\n",
       "      <td>5</td>\n",
       "      <td>0.166063</td>\n",
       "      <td>best</td>\n",
       "    </tr>\n",
       "    <tr>\n",
       "      <th>4</th>\n",
       "      <td>PC5</td>\n",
       "      <td>223</td>\n",
       "      <td>-0.187184</td>\n",
       "      <td>best</td>\n",
       "    </tr>\n",
       "    <tr>\n",
       "      <th>...</th>\n",
       "      <td>...</td>\n",
       "      <td>...</td>\n",
       "      <td>...</td>\n",
       "      <td>...</td>\n",
       "    </tr>\n",
       "    <tr>\n",
       "      <th>570</th>\n",
       "      <td>PC313</td>\n",
       "      <td>400</td>\n",
       "      <td>-0.188087</td>\n",
       "      <td>weak</td>\n",
       "    </tr>\n",
       "    <tr>\n",
       "      <th>571</th>\n",
       "      <td>PC407</td>\n",
       "      <td>409</td>\n",
       "      <td>-0.397570</td>\n",
       "      <td>weak</td>\n",
       "    </tr>\n",
       "    <tr>\n",
       "      <th>572</th>\n",
       "      <td>PC413</td>\n",
       "      <td>410</td>\n",
       "      <td>0.587819</td>\n",
       "      <td>weak</td>\n",
       "    </tr>\n",
       "    <tr>\n",
       "      <th>573</th>\n",
       "      <td>PC414</td>\n",
       "      <td>411</td>\n",
       "      <td>0.604788</td>\n",
       "      <td>weak</td>\n",
       "    </tr>\n",
       "    <tr>\n",
       "      <th>574</th>\n",
       "      <td>PC63</td>\n",
       "      <td>414</td>\n",
       "      <td>0.206268</td>\n",
       "      <td>weak</td>\n",
       "    </tr>\n",
       "  </tbody>\n",
       "</table>\n",
       "<p>575 rows × 4 columns</p>\n",
       "</div>"
      ],
      "text/plain": [
       "        PC feature   loading  type\n",
       "0      PC1      92 -0.181570  best\n",
       "1      PC2     168  0.177916  best\n",
       "2      PC3     143 -0.169263  best\n",
       "3      PC4       5  0.166063  best\n",
       "4      PC5     223 -0.187184  best\n",
       "..     ...     ...       ...   ...\n",
       "570  PC313     400 -0.188087  weak\n",
       "571  PC407     409 -0.397570  weak\n",
       "572  PC413     410  0.587819  weak\n",
       "573  PC414     411  0.604788  weak\n",
       "574   PC63     414  0.206268  weak\n",
       "\n",
       "[575 rows x 4 columns]"
      ]
     },
     "execution_count": 455,
     "metadata": {},
     "output_type": "execute_result"
    }
   ],
   "source": [
    "model.compute_topfeat()"
   ]
  },
  {
   "cell_type": "code",
   "execution_count": 456,
   "metadata": {},
   "outputs": [
    {
     "data": {
      "text/plain": [
       "(<Figure size 720x576 with 1 Axes>,\n",
       " <AxesSubplot:title={'center':'118 Principal Components explain [95.0%] of the variance'}, xlabel='PC1 (5.23% expl.var)', ylabel='PC2 (4.77% expl.var)'>)"
      ]
     },
     "execution_count": 456,
     "metadata": {},
     "output_type": "execute_result"
    },
    {
     "data": {
      "image/png": "[encoded data removed]",
      "text/plain": [
       "<Figure size 720x576 with 1 Axes>"
      ]
     },
     "metadata": {
      "needs_background": "light"
     },
     "output_type": "display_data"
    }
   ],
   "source": [
    "model.scatter()"
   ]
  },
  {
   "cell_type": "markdown",
   "metadata": {},
   "source": [
    "But since we have many features, it is easy to notice that a small percentage of variability is explained only with the first two PCA components. <br>\n",
    "Also, this method has a convenient application for outliers detection. Let's illustrate that!"
   ]
  },
  {
   "cell_type": "code",
   "execution_count": 457,
   "metadata": {},
   "outputs": [
    {
     "data": {
      "text/plain": [
       "(<Figure size 720x576 with 1 Axes>,\n",
       " <AxesSubplot:title={'center':'118 Principal Components explain [95.0%] of the variance'}, xlabel='PC1 (5.23% expl.var)', ylabel='PC2 (4.77% expl.var)'>)"
      ]
     },
     "execution_count": 457,
     "metadata": {},
     "output_type": "execute_result"
    },
    {
     "data": {
      "image/png": "[encoded data removed]",
      "text/plain": [
       "<Figure size 720x576 with 1 Axes>"
      ]
     },
     "metadata": {
      "needs_background": "light"
     },
     "output_type": "display_data"
    }
   ],
   "source": [
    "model.scatter(legend=True, SPE=True, hotellingt2=True)"
   ]
  },
  {
   "cell_type": "code",
   "execution_count": 458,
   "metadata": {},
   "outputs": [],
   "source": [
    "Xoutliers = X[out['outliers']['y_bool'],:]\n",
    "X_no_outliers = X[~out['outliers']['y_bool'],:]\n",
    "y_no_outliers = y[~out['outliers']['y_bool'],:]"
   ]
  },
  {
   "cell_type": "code",
   "execution_count": 459,
   "metadata": {},
   "outputs": [
    {
     "data": {
      "text/html": [
       "<div>\n",
       "<style scoped>\n",
       "    .dataframe tbody tr th:only-of-type {\n",
       "        vertical-align: middle;\n",
       "    }\n",
       "\n",
       "    .dataframe tbody tr th {\n",
       "        vertical-align: top;\n",
       "    }\n",
       "\n",
       "    .dataframe thead th {\n",
       "        text-align: right;\n",
       "    }\n",
       "</style>\n",
       "<table border=\"1\" class=\"dataframe\">\n",
       "  <thead>\n",
       "    <tr style=\"text-align: right;\">\n",
       "      <th></th>\n",
       "      <th>0</th>\n",
       "      <th>1</th>\n",
       "      <th>2</th>\n",
       "      <th>3</th>\n",
       "      <th>4</th>\n",
       "      <th>5</th>\n",
       "      <th>6</th>\n",
       "      <th>7</th>\n",
       "      <th>8</th>\n",
       "      <th>9</th>\n",
       "      <th>...</th>\n",
       "      <th>404</th>\n",
       "      <th>405</th>\n",
       "      <th>406</th>\n",
       "      <th>407</th>\n",
       "      <th>408</th>\n",
       "      <th>409</th>\n",
       "      <th>410</th>\n",
       "      <th>411</th>\n",
       "      <th>412</th>\n",
       "      <th>413</th>\n",
       "    </tr>\n",
       "  </thead>\n",
       "  <tbody>\n",
       "    <tr>\n",
       "      <th>0</th>\n",
       "      <td>0.646304</td>\n",
       "      <td>0.902505</td>\n",
       "      <td>0.111318</td>\n",
       "      <td>-0.462552</td>\n",
       "      <td>-0.516473</td>\n",
       "      <td>0.419100</td>\n",
       "      <td>1.030343</td>\n",
       "      <td>-0.592237</td>\n",
       "      <td>-1.977695</td>\n",
       "      <td>-0.184792</td>\n",
       "      <td>...</td>\n",
       "      <td>0.172477</td>\n",
       "      <td>-0.066815</td>\n",
       "      <td>-0.081923</td>\n",
       "      <td>-0.066815</td>\n",
       "      <td>-0.047193</td>\n",
       "      <td>-0.047193</td>\n",
       "      <td>-0.047193</td>\n",
       "      <td>-0.047193</td>\n",
       "      <td>-0.047193</td>\n",
       "      <td>-0.047193</td>\n",
       "    </tr>\n",
       "    <tr>\n",
       "      <th>1</th>\n",
       "      <td>0.646304</td>\n",
       "      <td>-1.108027</td>\n",
       "      <td>1.072799</td>\n",
       "      <td>1.379469</td>\n",
       "      <td>0.719074</td>\n",
       "      <td>1.043144</td>\n",
       "      <td>0.378664</td>\n",
       "      <td>0.250339</td>\n",
       "      <td>2.052442</td>\n",
       "      <td>-0.118426</td>\n",
       "      <td>...</td>\n",
       "      <td>0.172477</td>\n",
       "      <td>-0.066815</td>\n",
       "      <td>-0.081923</td>\n",
       "      <td>-0.066815</td>\n",
       "      <td>-0.047193</td>\n",
       "      <td>-0.047193</td>\n",
       "      <td>-0.047193</td>\n",
       "      <td>-0.047193</td>\n",
       "      <td>-0.047193</td>\n",
       "      <td>-0.047193</td>\n",
       "    </tr>\n",
       "    <tr>\n",
       "      <th>2</th>\n",
       "      <td>1.886547</td>\n",
       "      <td>-1.108027</td>\n",
       "      <td>2.515021</td>\n",
       "      <td>1.379469</td>\n",
       "      <td>-0.061272</td>\n",
       "      <td>0.575111</td>\n",
       "      <td>-0.241983</td>\n",
       "      <td>0.194167</td>\n",
       "      <td>0.502389</td>\n",
       "      <td>-1.091790</td>\n",
       "      <td>...</td>\n",
       "      <td>0.172477</td>\n",
       "      <td>-0.066815</td>\n",
       "      <td>-0.081923</td>\n",
       "      <td>-0.066815</td>\n",
       "      <td>-0.047193</td>\n",
       "      <td>-0.047193</td>\n",
       "      <td>-0.047193</td>\n",
       "      <td>-0.047193</td>\n",
       "      <td>-0.047193</td>\n",
       "      <td>-0.047193</td>\n",
       "    </tr>\n",
       "    <tr>\n",
       "      <th>3</th>\n",
       "      <td>-1.834181</td>\n",
       "      <td>-1.108027</td>\n",
       "      <td>0.495911</td>\n",
       "      <td>-0.462552</td>\n",
       "      <td>0.719074</td>\n",
       "      <td>0.263089</td>\n",
       "      <td>-1.452245</td>\n",
       "      <td>0.109909</td>\n",
       "      <td>0.037373</td>\n",
       "      <td>1.629205</td>\n",
       "      <td>...</td>\n",
       "      <td>0.172477</td>\n",
       "      <td>-0.066815</td>\n",
       "      <td>-0.081923</td>\n",
       "      <td>-0.066815</td>\n",
       "      <td>-0.047193</td>\n",
       "      <td>-0.047193</td>\n",
       "      <td>-0.047193</td>\n",
       "      <td>-0.047193</td>\n",
       "      <td>-0.047193</td>\n",
       "      <td>-0.047193</td>\n",
       "    </tr>\n",
       "    <tr>\n",
       "      <th>4</th>\n",
       "      <td>-0.593938</td>\n",
       "      <td>0.902505</td>\n",
       "      <td>-0.369422</td>\n",
       "      <td>-0.462552</td>\n",
       "      <td>-0.776589</td>\n",
       "      <td>-0.583828</td>\n",
       "      <td>0.285567</td>\n",
       "      <td>-1.041611</td>\n",
       "      <td>-0.505145</td>\n",
       "      <td>0.965548</td>\n",
       "      <td>...</td>\n",
       "      <td>0.172477</td>\n",
       "      <td>-0.066815</td>\n",
       "      <td>-0.081923</td>\n",
       "      <td>-0.066815</td>\n",
       "      <td>-0.047193</td>\n",
       "      <td>-0.047193</td>\n",
       "      <td>-0.047193</td>\n",
       "      <td>-0.047193</td>\n",
       "      <td>-0.047193</td>\n",
       "      <td>-0.047193</td>\n",
       "    </tr>\n",
       "    <tr>\n",
       "      <th>...</th>\n",
       "      <td>...</td>\n",
       "      <td>...</td>\n",
       "      <td>...</td>\n",
       "      <td>...</td>\n",
       "      <td>...</td>\n",
       "      <td>...</td>\n",
       "      <td>...</td>\n",
       "      <td>...</td>\n",
       "      <td>...</td>\n",
       "      <td>...</td>\n",
       "      <td>...</td>\n",
       "      <td>...</td>\n",
       "      <td>...</td>\n",
       "      <td>...</td>\n",
       "      <td>...</td>\n",
       "      <td>...</td>\n",
       "      <td>...</td>\n",
       "      <td>...</td>\n",
       "      <td>...</td>\n",
       "      <td>...</td>\n",
       "      <td>...</td>\n",
       "    </tr>\n",
       "    <tr>\n",
       "      <th>349</th>\n",
       "      <td>-1.834181</td>\n",
       "      <td>0.902505</td>\n",
       "      <td>-0.657867</td>\n",
       "      <td>-0.462552</td>\n",
       "      <td>-0.516473</td>\n",
       "      <td>-0.093508</td>\n",
       "      <td>-0.148886</td>\n",
       "      <td>-0.114778</td>\n",
       "      <td>-0.388891</td>\n",
       "      <td>0.213403</td>\n",
       "      <td>...</td>\n",
       "      <td>0.172477</td>\n",
       "      <td>-0.066815</td>\n",
       "      <td>-0.081923</td>\n",
       "      <td>-0.066815</td>\n",
       "      <td>-0.047193</td>\n",
       "      <td>-0.047193</td>\n",
       "      <td>-0.047193</td>\n",
       "      <td>-0.047193</td>\n",
       "      <td>-0.047193</td>\n",
       "      <td>-0.047193</td>\n",
       "    </tr>\n",
       "    <tr>\n",
       "      <th>350</th>\n",
       "      <td>0.646304</td>\n",
       "      <td>0.902505</td>\n",
       "      <td>-0.369422</td>\n",
       "      <td>-0.462552</td>\n",
       "      <td>-0.581502</td>\n",
       "      <td>0.976282</td>\n",
       "      <td>0.440728</td>\n",
       "      <td>-0.451808</td>\n",
       "      <td>1.044908</td>\n",
       "      <td>-1.556350</td>\n",
       "      <td>...</td>\n",
       "      <td>0.172477</td>\n",
       "      <td>-0.066815</td>\n",
       "      <td>-0.081923</td>\n",
       "      <td>-0.066815</td>\n",
       "      <td>-0.047193</td>\n",
       "      <td>-0.047193</td>\n",
       "      <td>-0.047193</td>\n",
       "      <td>-0.047193</td>\n",
       "      <td>-0.047193</td>\n",
       "      <td>-0.047193</td>\n",
       "    </tr>\n",
       "    <tr>\n",
       "      <th>351</th>\n",
       "      <td>-0.593938</td>\n",
       "      <td>-1.108027</td>\n",
       "      <td>2.515021</td>\n",
       "      <td>1.379469</td>\n",
       "      <td>0.719074</td>\n",
       "      <td>-0.405530</td>\n",
       "      <td>-0.210951</td>\n",
       "      <td>0.868228</td>\n",
       "      <td>-0.660150</td>\n",
       "      <td>1.164645</td>\n",
       "      <td>...</td>\n",
       "      <td>0.172477</td>\n",
       "      <td>-0.066815</td>\n",
       "      <td>-0.081923</td>\n",
       "      <td>-0.066815</td>\n",
       "      <td>-0.047193</td>\n",
       "      <td>-0.047193</td>\n",
       "      <td>-0.047193</td>\n",
       "      <td>-0.047193</td>\n",
       "      <td>-0.047193</td>\n",
       "      <td>-0.047193</td>\n",
       "    </tr>\n",
       "    <tr>\n",
       "      <th>352</th>\n",
       "      <td>-0.593938</td>\n",
       "      <td>0.902505</td>\n",
       "      <td>-0.850163</td>\n",
       "      <td>-0.462552</td>\n",
       "      <td>0.263872</td>\n",
       "      <td>-1.096436</td>\n",
       "      <td>0.564858</td>\n",
       "      <td>1.345687</td>\n",
       "      <td>-1.047663</td>\n",
       "      <td>0.456744</td>\n",
       "      <td>...</td>\n",
       "      <td>0.172477</td>\n",
       "      <td>-0.066815</td>\n",
       "      <td>-0.081923</td>\n",
       "      <td>-0.066815</td>\n",
       "      <td>-0.047193</td>\n",
       "      <td>-0.047193</td>\n",
       "      <td>-0.047193</td>\n",
       "      <td>-0.047193</td>\n",
       "      <td>-0.047193</td>\n",
       "      <td>-0.047193</td>\n",
       "    </tr>\n",
       "    <tr>\n",
       "      <th>353</th>\n",
       "      <td>1.886547</td>\n",
       "      <td>0.902505</td>\n",
       "      <td>-0.369422</td>\n",
       "      <td>-0.462552</td>\n",
       "      <td>-0.646531</td>\n",
       "      <td>-0.628403</td>\n",
       "      <td>-0.117854</td>\n",
       "      <td>-0.901182</td>\n",
       "      <td>-0.466394</td>\n",
       "      <td>-0.118426</td>\n",
       "      <td>...</td>\n",
       "      <td>0.172477</td>\n",
       "      <td>-0.066815</td>\n",
       "      <td>-0.081923</td>\n",
       "      <td>-0.066815</td>\n",
       "      <td>-0.047193</td>\n",
       "      <td>-0.047193</td>\n",
       "      <td>-0.047193</td>\n",
       "      <td>-0.047193</td>\n",
       "      <td>-0.047193</td>\n",
       "      <td>-0.047193</td>\n",
       "    </tr>\n",
       "  </tbody>\n",
       "</table>\n",
       "<p>354 rows × 414 columns</p>\n",
       "</div>"
      ],
      "text/plain": [
       "          0         1         2         3         4         5         6    \\\n",
       "0    0.646304  0.902505  0.111318 -0.462552 -0.516473  0.419100  1.030343   \n",
       "1    0.646304 -1.108027  1.072799  1.379469  0.719074  1.043144  0.378664   \n",
       "2    1.886547 -1.108027  2.515021  1.379469 -0.061272  0.575111 -0.241983   \n",
       "3   -1.834181 -1.108027  0.495911 -0.462552  0.719074  0.263089 -1.452245   \n",
       "4   -0.593938  0.902505 -0.369422 -0.462552 -0.776589 -0.583828  0.285567   \n",
       "..        ...       ...       ...       ...       ...       ...       ...   \n",
       "349 -1.834181  0.902505 -0.657867 -0.462552 -0.516473 -0.093508 -0.148886   \n",
       "350  0.646304  0.902505 -0.369422 -0.462552 -0.581502  0.976282  0.440728   \n",
       "351 -0.593938 -1.108027  2.515021  1.379469  0.719074 -0.405530 -0.210951   \n",
       "352 -0.593938  0.902505 -0.850163 -0.462552  0.263872 -1.096436  0.564858   \n",
       "353  1.886547  0.902505 -0.369422 -0.462552 -0.646531 -0.628403 -0.117854   \n",
       "\n",
       "          7         8         9    ...       404       405       406  \\\n",
       "0   -0.592237 -1.977695 -0.184792  ...  0.172477 -0.066815 -0.081923   \n",
       "1    0.250339  2.052442 -0.118426  ...  0.172477 -0.066815 -0.081923   \n",
       "2    0.194167  0.502389 -1.091790  ...  0.172477 -0.066815 -0.081923   \n",
       "3    0.109909  0.037373  1.629205  ...  0.172477 -0.066815 -0.081923   \n",
       "4   -1.041611 -0.505145  0.965548  ...  0.172477 -0.066815 -0.081923   \n",
       "..        ...       ...       ...  ...       ...       ...       ...   \n",
       "349 -0.114778 -0.388891  0.213403  ...  0.172477 -0.066815 -0.081923   \n",
       "350 -0.451808  1.044908 -1.556350  ...  0.172477 -0.066815 -0.081923   \n",
       "351  0.868228 -0.660150  1.164645  ...  0.172477 -0.066815 -0.081923   \n",
       "352  1.345687 -1.047663  0.456744  ...  0.172477 -0.066815 -0.081923   \n",
       "353 -0.901182 -0.466394 -0.118426  ...  0.172477 -0.066815 -0.081923   \n",
       "\n",
       "          407       408       409       410       411       412       413  \n",
       "0   -0.066815 -0.047193 -0.047193 -0.047193 -0.047193 -0.047193 -0.047193  \n",
       "1   -0.066815 -0.047193 -0.047193 -0.047193 -0.047193 -0.047193 -0.047193  \n",
       "2   -0.066815 -0.047193 -0.047193 -0.047193 -0.047193 -0.047193 -0.047193  \n",
       "3   -0.066815 -0.047193 -0.047193 -0.047193 -0.047193 -0.047193 -0.047193  \n",
       "4   -0.066815 -0.047193 -0.047193 -0.047193 -0.047193 -0.047193 -0.047193  \n",
       "..        ...       ...       ...       ...       ...       ...       ...  \n",
       "349 -0.066815 -0.047193 -0.047193 -0.047193 -0.047193 -0.047193 -0.047193  \n",
       "350 -0.066815 -0.047193 -0.047193 -0.047193 -0.047193 -0.047193 -0.047193  \n",
       "351 -0.066815 -0.047193 -0.047193 -0.047193 -0.047193 -0.047193 -0.047193  \n",
       "352 -0.066815 -0.047193 -0.047193 -0.047193 -0.047193 -0.047193 -0.047193  \n",
       "353 -0.066815 -0.047193 -0.047193 -0.047193 -0.047193 -0.047193 -0.047193  \n",
       "\n",
       "[354 rows x 414 columns]"
      ]
     },
     "execution_count": 459,
     "metadata": {},
     "output_type": "execute_result"
    }
   ],
   "source": [
    "pd.DataFrame(X_no_outliers)"
   ]
  },
  {
   "cell_type": "markdown",
   "metadata": {},
   "source": [
    "For reduction of the dimension of our data set, we decide to take first 150 PCA components."
   ]
  },
  {
   "cell_type": "code",
   "execution_count": 460,
   "metadata": {},
   "outputs": [
    {
     "name": "stdout",
     "output_type": "stream",
     "text": [
      "[pca] >Column labels are auto-completed.\n",
      "[pca] >Row labels are auto-completed.\n",
      "[pca] >The PCA reduction is performed on the [414] columns of the input dataframe.\n",
      "[pca] >Fitting using PCA..\n",
      "[pca] >Computing loadings and PCs..\n",
      "[pca] >Computing explained variance..\n",
      "[pca] >Outlier detection using Hotelling T2 test with alpha=[0.05] and n_components=[150]\n",
      "[pca] >Outlier detection using SPE/DmodX with n_std=[2]\n"
     ]
    },
    {
     "data": {
      "image/png": "[encoded data removed]",
      "text/plain": [
       "<Figure size 720x576 with 1 Axes>"
      ]
     },
     "metadata": {
      "needs_background": "light"
     },
     "output_type": "display_data"
    },
    {
     "data": {
      "text/plain": [
       "(<Figure size 720x576 with 1 Axes>,\n",
       " <AxesSubplot:title={'center':'Cumulative explained variance\\n 150 Principal Components explain [99.84%] of the variance.'}, xlabel='Principle Component', ylabel='Percentage explained variance'>)"
      ]
     },
     "execution_count": 460,
     "metadata": {},
     "output_type": "execute_result"
    },
    {
     "data": {
      "text/plain": [
       "<Figure size 432x288 with 0 Axes>"
      ]
     },
     "metadata": {},
     "output_type": "display_data"
    }
   ],
   "source": [
    "model = pca(n_components=150)\n",
    "out = model.fit_transform(X_no_outliers)\n",
    "model.plot()"
   ]
  },
  {
   "cell_type": "code",
   "execution_count": 461,
   "metadata": {},
   "outputs": [
    {
     "name": "stdout",
     "output_type": "stream",
     "text": [
      "[pca] >Column labels are auto-completed.\n",
      "[pca] >Row labels are auto-completed.\n"
     ]
    }
   ],
   "source": [
    "X_after_pca = np.array(model.transform(X))"
   ]
  },
  {
   "cell_type": "markdown",
   "metadata": {},
   "source": [
    "### Classification "
   ]
  },
  {
   "cell_type": "markdown",
   "metadata": {},
   "source": [
    "Finally, we will compare four different and well-known algorithms to perform the classification on our data."
   ]
  },
  {
   "cell_type": "code",
   "execution_count": 475,
   "metadata": {},
   "outputs": [],
   "source": [
    "X = X_after_pca\n",
    "y = df.iloc[:, df.columns == 'diagnosis'].values\n",
    "\n",
    "X_train, X_test, y_train, y_test = train_test_split(X, y, test_size=0.20,  stratify=y)"
   ]
  },
  {
   "cell_type": "markdown",
   "metadata": {},
   "source": [
    "#### Support Vector Machine"
   ]
  },
  {
   "cell_type": "markdown",
   "metadata": {},
   "source": [
    "SVMs is machine learning algorithm, often used for classification, regression and outliers detection. SVMs finds the best boundary that separates the data into categories by maximizing the orthogonal distance between the nearest points of each category and the boundary. Talking about linear SVM, in 1D this boundary will be dash, in 2D line, in 3D plane. But SVM offers much more. Especially when it comes to nonlinear classification, which is often the case. The first idea is to see the accuracy for each possible kernel."
   ]
  },
  {
   "cell_type": "code",
   "execution_count": 476,
   "metadata": {},
   "outputs": [
    {
     "name": "stdout",
     "output_type": "stream",
     "text": [
      "linear accuracy:  66.67\n",
      "poly accuracy:  71.11\n",
      "rbf accuracy:  65.56\n",
      "sigmoid accuracy:  71.11\n",
      "rbf accuracy:  65.56\n"
     ]
    },
    {
     "data": {
      "text/plain": [
       "<AxesSubplot:title={'center':'Accuracy score for different kernels'}>"
      ]
     },
     "execution_count": 476,
     "metadata": {},
     "output_type": "execute_result"
    },
    {
     "data": {
      "image/png": "[encoded data removed]",
      "text/plain": [
       "<Figure size 432x288 with 1 Axes>"
      ]
     },
     "metadata": {
      "needs_background": "light"
     },
     "output_type": "display_data"
    }
   ],
   "source": [
    "kernel = np.array(['linear', 'poly', 'rbf', 'sigmoid','rbf'])\n",
    "accuracy_scores = []\n",
    "\n",
    "for k in kernel:\n",
    "    svm_ = svm.SVC(kernel=k, degree=1).fit(X_train, y_train)\n",
    "    y_pred = svm_.predict(X_test)\n",
    "    accuracy = accuracy_score(y_test, y_pred)\n",
    "    print(k, 'accuracy: ', \"%.2f\" % (accuracy*100))\n",
    "    accuracy_scores.append(accuracy_score(y_test, y_pred)*100)\n",
    "\n",
    "pd.Series(accuracy_scores,kernel).plot(kind=\"bar\", title=\"Accuracy score for different kernels\", color='red', grid='bool')"
   ]
  },
  {
   "cell_type": "markdown",
   "metadata": {},
   "source": [
    "From above results, the best candidate is the sigmoid kernel. But just in case, we graphically show the accuracy of the polynomial kernel with degree in range $\\langle 0,20 \\rangle$."
   ]
  },
  {
   "cell_type": "code",
   "execution_count": 464,
   "metadata": {},
   "outputs": [
    {
     "data": {
      "text/plain": [
       "<matplotlib.legend.Legend at 0x7fce36b5edf0>"
      ]
     },
     "execution_count": 464,
     "metadata": {},
     "output_type": "execute_result"
    },
    {
     "data": {
      "image/png": "[encoded data removed]",
      "text/plain": [
       "<Figure size 432x288 with 1 Axes>"
      ]
     },
     "metadata": {
      "needs_background": "light"
     },
     "output_type": "display_data"
    }
   ],
   "source": [
    "number_degree = [n for n in range(1, 20)]\n",
    "accuracy_scores = []\n",
    "\n",
    "for n in number_degree:\n",
    "    svm_ = svm.SVC(kernel='poly', degree=n).fit(X_train, y_train)\n",
    "    y_pred = svm_.predict(X_test) \n",
    "    accuracy_scores.append(accuracy_score(y_test, y_pred))\n",
    "    \n",
    "fig, ax = plt.subplots(1, figsize=(6, 4))\n",
    "ax.plot(number_degree, accuracy_scores, label=\"Accuracy\", color=\"red\")\n",
    "ax.set_ylabel(\"Accuracy score\")\n",
    "ax.set_xlabel(\"Degree of polynomial\")\n",
    "ax.grid(True)\n",
    "ax.legend()"
   ]
  },
  {
   "cell_type": "markdown",
   "metadata": {},
   "source": [
    "#### Logistic Regression Algorithm"
   ]
  },
  {
   "cell_type": "markdown",
   "metadata": {},
   "source": [
    "Second algoritm we will use is Logistic Regression. Multinomial logistic regression is an extension of Logistic Regression that adds native support for multi-class classification problems. We perform Logistic Regression by modifying the parametar solver - algorithm for the optimization problem. "
   ]
  },
  {
   "cell_type": "code",
   "execution_count": 465,
   "metadata": {},
   "outputs": [
    {
     "name": "stdout",
     "output_type": "stream",
     "text": [
      "newton-cg accuracy:  61.11\n",
      "lbfgs accuracy:  61.11\n",
      "sag accuracy:  60.00\n",
      "saga accuracy:  61.11\n"
     ]
    },
    {
     "data": {
      "text/plain": [
       "<AxesSubplot:title={'center':'Accuracy score for different solver'}>"
      ]
     },
     "execution_count": 465,
     "metadata": {},
     "output_type": "execute_result"
    },
    {
     "data": {
      "image/png": "[encoded data removed]",
      "text/plain": [
       "<Figure size 432x288 with 1 Axes>"
      ]
     },
     "metadata": {
      "needs_background": "light"
     },
     "output_type": "display_data"
    }
   ],
   "source": [
    "solver = np.array(['newton-cg', 'lbfgs', 'sag', 'saga'])\n",
    "accuracy_scores = []\n",
    "\n",
    "for s in solver:\n",
    "    lm_ = linear_model.LogisticRegression(multi_class='multinomial', solver = s).fit(X_train, y_train)\n",
    "    y_pred = lm_.predict(X_test)\n",
    "    accuracy = accuracy_score(y_test, y_pred)\n",
    "    print(s, 'accuracy: ', \"%.2f\" % (accuracy*100))\n",
    "    accuracy_scores.append(accuracy_score(y_test, y_pred)*100)\n",
    "    \n",
    "pd.Series(accuracy_scores, solver).plot(kind=\"bar\", title=\"Accuracy score for different solver\", color='yellow', grid='bool')"
   ]
  },
  {
   "cell_type": "markdown",
   "metadata": {},
   "source": [
    "As we see from the above, best option for optimization algorithm is SAGA."
   ]
  },
  {
   "cell_type": "markdown",
   "metadata": {},
   "source": [
    "#### K-Nearest Neighbors Algorithm"
   ]
  },
  {
   "cell_type": "markdown",
   "metadata": {},
   "source": [
    "Moving on, we will use K-nearest neighbors algorithm. This is very simple algorithm, which assumes that similar things are in close proximity of each other. So if one sample it is \"near\" to another sample, whatever \"near\" meant, it assumes that they both belong to similar classes. The only question is how many nearest neighbors to take. This question is illustrated by the following code. "
   ]
  },
  {
   "cell_type": "code",
   "execution_count": 466,
   "metadata": {},
   "outputs": [
    {
     "data": {
      "text/plain": [
       "<matplotlib.legend.Legend at 0x7fce34946850>"
      ]
     },
     "execution_count": 466,
     "metadata": {},
     "output_type": "execute_result"
    },
    {
     "data": {
      "image/png": "[encoded data removed]",
      "text/plain": [
       "<Figure size 432x288 with 1 Axes>"
      ]
     },
     "metadata": {
      "needs_background": "light"
     },
     "output_type": "display_data"
    }
   ],
   "source": [
    "n_neighbors = [n for n in range(1, 20)]\n",
    "accuracy_scores = []\n",
    "\n",
    "for n in n_neighbors:\n",
    "    knn_ = KNeighborsClassifier(n_neighbors = n).fit(X_train, y_train)\n",
    "    y_pred = knn_.predict(X_test) \n",
    "    accuracy_scores.append(accuracy_score(y_test, y_pred))\n",
    "\n",
    "fig, ax = plt.subplots(1, figsize=(6, 4))\n",
    "ax.plot(n_neighbors, accuracy_scores, label=\"Accuracy\", color=\"green\")\n",
    "\n",
    "ax.set_ylabel(\"Accuracy score\")\n",
    "ax.set_xlabel(\"Number of neighbors\")\n",
    "ax.legend()"
   ]
  },
  {
   "cell_type": "markdown",
   "metadata": {},
   "source": [
    "We see that for biggest accuracy we can take approximately six nearest neighbors."
   ]
  },
  {
   "cell_type": "markdown",
   "metadata": {},
   "source": [
    "#### Random Forest Algorithm"
   ]
  },
  {
   "cell_type": "markdown",
   "metadata": {},
   "source": [
    "And the last classification algorithm we will deal with is Random Forest."
   ]
  },
  {
   "cell_type": "code",
   "execution_count": 467,
   "metadata": {},
   "outputs": [
    {
     "data": {
      "text/plain": [
       "<matplotlib.legend.Legend at 0x7fce37588cd0>"
      ]
     },
     "execution_count": 467,
     "metadata": {},
     "output_type": "execute_result"
    },
    {
     "data": {
      "image/png": "[encoded data removed]",
      "text/plain": [
       "<Figure size 432x288 with 1 Axes>"
      ]
     },
     "metadata": {
      "needs_background": "light"
     },
     "output_type": "display_data"
    }
   ],
   "source": [
    "n_estimators = [n for n in range(1, 80)]\n",
    "accuracy_scores = []\n",
    "\n",
    "for n in n_estimators:\n",
    "    ranf = RandomForestClassifier(n_estimators = n).fit(X_train, y_train)\n",
    "    y_pred = ranf.predict(X_test)\n",
    "    accuracy = accuracy_score(y_test, y_pred)\n",
    "    accuracy_scores.append(accuracy*100)\n",
    "    \n",
    "fig, ax = plt.subplots(1, figsize=(6, 4))\n",
    "ax.plot(n_estimators, accuracy_scores, label=\"Accuracy\", color=\"blue\")\n",
    "\n",
    "ax.set_ylabel(\"Accuracy score\")\n",
    "ax.set_xlabel(\"Number of estimators\")\n",
    "ax.legend()"
   ]
  },
  {
   "cell_type": "markdown",
   "metadata": {},
   "source": [
    "## Conclusion"
   ]
  },
  {
   "cell_type": "markdown",
   "metadata": {},
   "source": [
    "At the begging, through data survey, we noticed what our medical data were highly undesirable. There were a lot of missing data, parse data, incorrect data, outliers.. However, using certain transformations and methods, we tried to reshape our data to the form that will be useful to the algorithms. After that, by using Principal Component Analysis, we reduced the number of features to 150 preserving almost all variability of our data. Finally, we perform four different clustering algorithms and conclude that Support Vector Machine gives us the highest accuracy."
   ]
  },
  {
   "cell_type": "markdown",
   "metadata": {},
   "source": [
    "After data survey, using Principal Component Analysis, we reduced the number of features to 150."
   ]
  }
 ],
 "metadata": {
  "interpreter": {
   "hash": "eeb592eeb14baf80ba7e3ad598b9cc718d92fa62785d72005ca19f7c0e0c833d"
  },
  "kernelspec": {
   "display_name": "Python 3.8.5 64-bit ('base': conda)",
   "name": "python3"
  },
  "language_info": {
   "codemirror_mode": {
    "name": "ipython",
    "version": 3
   },
   "file_extension": ".py",
   "mimetype": "text/x-python",
   "name": "python",
   "nbconvert_exporter": "python",
   "pygments_lexer": "ipython3",
   "version": "3.8.5"
  },
  "orig_nbformat": 4
 },
 "nbformat": 4,
 "nbformat_minor": 2
}
