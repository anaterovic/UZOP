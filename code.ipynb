{
 "cells": [
  {
   "cell_type": "markdown",
   "metadata": {},
   "source": [
    "# A machine learning approach for the classification of cardiac arrhythmia\n",
    "The aim of this project is to determine the type of arrhythmia from the ECG recordings.\n",
    "\n",
    "Eleonora Detić"
   ]
  },
  {
   "cell_type": "markdown",
   "metadata": {},
   "source": [
    "### Data collection"
   ]
  },
  {
   "cell_type": "markdown",
   "metadata": {},
   "source": [
    "Type of research:\n",
    "\n",
    "- by purpose: **applied** - application in medicine for the early detection of cardiac arrhythmia\n",
    "\n",
    "- by depth: **correlational** - we study how independent variable(\"diagnosis\") is affected by several distinct dependent variables(\"age\", \"sex\"..)\n",
    "\n",
    "- by data type: **quantitative** - we have mathematical, measurable and comparable data\n",
    "\n",
    "- by variable manipulation: **observational** - researchers observe patients\n",
    "\n",
    "- by conclusion: **inductive** - we want to generalize things based on sample of pacients\n",
    "\n",
    "- by time: **synchronous** - all samples are collected at the same time\n",
    "\n",
    "- by source of information: **primary** - the researchers themselves spoke to the patients\n",
    "\n",
    "- according to the method of data collection: **mixed** - a combination of data known about patients through medical records and ECG data measured under highly controlled conditions\n",
    "\n",
    "Data collection method - **documentary** - **limited access**: the main source of data are the patient's medical records.\n",
    "\n",
    "Data were collected **according to the rules of research ethics** - the names and id numbers of the patients were removed from the database for the privacy purpose.\n"
   ]
  },
  {
   "cell_type": "markdown",
   "metadata": {},
   "source": [
    "### Data survey"
   ]
  },
  {
   "cell_type": "code",
   "execution_count": 84,
   "metadata": {},
   "outputs": [],
   "source": [
    "import pandas as pd\n",
    "import numpy as np\n",
    "import matplotlib.pyplot as plt\n",
    "\n",
    "from sklearn.model_selection import train_test_split\n",
    "from sklearn.decomposition import PCA\n",
    "from sklearn.impute import SimpleImputer\n",
    "from sklearn.preprocessing import StandardScaler\n",
    "from sklearn import decomposition\n",
    "from scipy import stats\n",
    "from pca import pca\n",
    "from sklearn.model_selection import train_test_split\n",
    "from sklearn import svm\n",
    "from sklearn import metrics\n",
    "from sklearn.linear_model import LogisticRegressionCV\n",
    "from sklearn import linear_model\n",
    "from sklearn.ensemble import RandomForestClassifier\n",
    "from sklearn.neighbors import KNeighborsClassifier\n",
    "from sklearn.metrics import accuracy_score\n",
    "import sklearn.model_selection as model_selection\n",
    "from sklearn.metrics import f1_score"
   ]
  },
  {
   "cell_type": "code",
   "execution_count": 3,
   "metadata": {},
   "outputs": [
    {
     "data": {
      "text/html": [
       "<div>\n",
       "<style scoped>\n",
       "    .dataframe tbody tr th:only-of-type {\n",
       "        vertical-align: middle;\n",
       "    }\n",
       "\n",
       "    .dataframe tbody tr th {\n",
       "        vertical-align: top;\n",
       "    }\n",
       "\n",
       "    .dataframe thead th {\n",
       "        text-align: right;\n",
       "    }\n",
       "</style>\n",
       "<table border=\"1\" class=\"dataframe\">\n",
       "  <thead>\n",
       "    <tr style=\"text-align: right;\">\n",
       "      <th></th>\n",
       "      <th>age</th>\n",
       "      <th>sex</th>\n",
       "      <th>height</th>\n",
       "      <th>weight</th>\n",
       "      <th>qrs_duration</th>\n",
       "      <th>p-r_interval</th>\n",
       "      <th>q-t_interval</th>\n",
       "      <th>t_interval</th>\n",
       "      <th>p_interval</th>\n",
       "      <th>qrs</th>\n",
       "      <th>...</th>\n",
       "      <th>KY</th>\n",
       "      <th>KZ</th>\n",
       "      <th>LA</th>\n",
       "      <th>LB</th>\n",
       "      <th>LC</th>\n",
       "      <th>LD</th>\n",
       "      <th>LE</th>\n",
       "      <th>LF</th>\n",
       "      <th>LG</th>\n",
       "      <th>diagnosis</th>\n",
       "    </tr>\n",
       "  </thead>\n",
       "  <tbody>\n",
       "    <tr>\n",
       "      <th>0</th>\n",
       "      <td>75</td>\n",
       "      <td>0</td>\n",
       "      <td>190</td>\n",
       "      <td>80</td>\n",
       "      <td>91</td>\n",
       "      <td>193</td>\n",
       "      <td>371</td>\n",
       "      <td>174</td>\n",
       "      <td>121</td>\n",
       "      <td>-16</td>\n",
       "      <td>...</td>\n",
       "      <td>0.0</td>\n",
       "      <td>9.0</td>\n",
       "      <td>-0.9</td>\n",
       "      <td>0.0</td>\n",
       "      <td>0</td>\n",
       "      <td>0.9</td>\n",
       "      <td>2.9</td>\n",
       "      <td>23.3</td>\n",
       "      <td>49.4</td>\n",
       "      <td>8</td>\n",
       "    </tr>\n",
       "    <tr>\n",
       "      <th>1</th>\n",
       "      <td>56</td>\n",
       "      <td>1</td>\n",
       "      <td>165</td>\n",
       "      <td>64</td>\n",
       "      <td>81</td>\n",
       "      <td>174</td>\n",
       "      <td>401</td>\n",
       "      <td>149</td>\n",
       "      <td>39</td>\n",
       "      <td>25</td>\n",
       "      <td>...</td>\n",
       "      <td>0.0</td>\n",
       "      <td>8.5</td>\n",
       "      <td>0.0</td>\n",
       "      <td>0.0</td>\n",
       "      <td>0</td>\n",
       "      <td>0.2</td>\n",
       "      <td>2.1</td>\n",
       "      <td>20.4</td>\n",
       "      <td>38.8</td>\n",
       "      <td>6</td>\n",
       "    </tr>\n",
       "    <tr>\n",
       "      <th>2</th>\n",
       "      <td>54</td>\n",
       "      <td>0</td>\n",
       "      <td>172</td>\n",
       "      <td>95</td>\n",
       "      <td>138</td>\n",
       "      <td>163</td>\n",
       "      <td>386</td>\n",
       "      <td>185</td>\n",
       "      <td>102</td>\n",
       "      <td>96</td>\n",
       "      <td>...</td>\n",
       "      <td>0.0</td>\n",
       "      <td>9.5</td>\n",
       "      <td>-2.4</td>\n",
       "      <td>0.0</td>\n",
       "      <td>0</td>\n",
       "      <td>0.3</td>\n",
       "      <td>3.4</td>\n",
       "      <td>12.3</td>\n",
       "      <td>49.0</td>\n",
       "      <td>10</td>\n",
       "    </tr>\n",
       "    <tr>\n",
       "      <th>3</th>\n",
       "      <td>55</td>\n",
       "      <td>0</td>\n",
       "      <td>175</td>\n",
       "      <td>94</td>\n",
       "      <td>100</td>\n",
       "      <td>202</td>\n",
       "      <td>380</td>\n",
       "      <td>179</td>\n",
       "      <td>143</td>\n",
       "      <td>28</td>\n",
       "      <td>...</td>\n",
       "      <td>0.0</td>\n",
       "      <td>12.2</td>\n",
       "      <td>-2.2</td>\n",
       "      <td>0.0</td>\n",
       "      <td>0</td>\n",
       "      <td>0.4</td>\n",
       "      <td>2.6</td>\n",
       "      <td>34.6</td>\n",
       "      <td>61.6</td>\n",
       "      <td>1</td>\n",
       "    </tr>\n",
       "    <tr>\n",
       "      <th>4</th>\n",
       "      <td>75</td>\n",
       "      <td>0</td>\n",
       "      <td>190</td>\n",
       "      <td>80</td>\n",
       "      <td>88</td>\n",
       "      <td>181</td>\n",
       "      <td>360</td>\n",
       "      <td>177</td>\n",
       "      <td>103</td>\n",
       "      <td>-16</td>\n",
       "      <td>...</td>\n",
       "      <td>0.0</td>\n",
       "      <td>13.1</td>\n",
       "      <td>-3.6</td>\n",
       "      <td>0.0</td>\n",
       "      <td>0</td>\n",
       "      <td>-0.1</td>\n",
       "      <td>3.9</td>\n",
       "      <td>25.4</td>\n",
       "      <td>62.8</td>\n",
       "      <td>7</td>\n",
       "    </tr>\n",
       "  </tbody>\n",
       "</table>\n",
       "<p>5 rows × 280 columns</p>\n",
       "</div>"
      ],
      "text/plain": [
       "   age  sex  height  weight  qrs_duration  p-r_interval  q-t_interval  \\\n",
       "0   75    0     190      80            91           193           371   \n",
       "1   56    1     165      64            81           174           401   \n",
       "2   54    0     172      95           138           163           386   \n",
       "3   55    0     175      94           100           202           380   \n",
       "4   75    0     190      80            88           181           360   \n",
       "\n",
       "   t_interval  p_interval  qrs  ...   KY    KZ   LA   LB LC   LD   LE    LF  \\\n",
       "0         174         121  -16  ...  0.0   9.0 -0.9  0.0  0  0.9  2.9  23.3   \n",
       "1         149          39   25  ...  0.0   8.5  0.0  0.0  0  0.2  2.1  20.4   \n",
       "2         185         102   96  ...  0.0   9.5 -2.4  0.0  0  0.3  3.4  12.3   \n",
       "3         179         143   28  ...  0.0  12.2 -2.2  0.0  0  0.4  2.6  34.6   \n",
       "4         177         103  -16  ...  0.0  13.1 -3.6  0.0  0 -0.1  3.9  25.4   \n",
       "\n",
       "     LG  diagnosis  \n",
       "0  49.4          8  \n",
       "1  38.8          6  \n",
       "2  49.0         10  \n",
       "3  61.6          1  \n",
       "4  62.8          7  \n",
       "\n",
       "[5 rows x 280 columns]"
      ]
     },
     "execution_count": 3,
     "metadata": {},
     "output_type": "execute_result"
    }
   ],
   "source": [
    "df = pd.read_csv('data_arrhythmia.csv', delimiter=';')\n",
    "df.dataframeName = 'data_arrhythmia.csv'\n",
    "df.head()"
   ]
  },
  {
   "cell_type": "markdown",
   "metadata": {},
   "source": [
    "In our data set, we have 452 patients and 279 features for each patient. Last column is interpreted as a number of heart arrhythmia claster. According to documentation, missing attribute values are distinguished with '?' so we will replace them with \"NaN\"."
   ]
  },
  {
   "cell_type": "code",
   "execution_count": 5,
   "metadata": {},
   "outputs": [
    {
     "data": {
      "text/plain": [
       "J               376\n",
       "P                22\n",
       "T                 8\n",
       "QRST              1\n",
       "heart_rate        1\n",
       "age               0\n",
       "sex               0\n",
       "height            0\n",
       "weight            0\n",
       "qrs_duration      0\n",
       "dtype: int64"
      ]
     },
     "execution_count": 5,
     "metadata": {},
     "output_type": "execute_result"
    }
   ],
   "source": [
    "df = df.replace('?', np.NaN)\n",
    "df.isna().sum().nlargest(10)\n"
   ]
  },
  {
   "cell_type": "code",
   "execution_count": 53,
   "metadata": {},
   "outputs": [],
   "source": [
    "#df.drop([\"J\"], axis=1, inplace=True)\n",
    "#As we can see, in column 'J' we have a lof of missing values, more than 80%, so we will drop that column."
   ]
  },
  {
   "cell_type": "code",
   "execution_count": 6,
   "metadata": {},
   "outputs": [
    {
     "data": {
      "text/html": [
       "<div>\n",
       "<style scoped>\n",
       "    .dataframe tbody tr th:only-of-type {\n",
       "        vertical-align: middle;\n",
       "    }\n",
       "\n",
       "    .dataframe tbody tr th {\n",
       "        vertical-align: top;\n",
       "    }\n",
       "\n",
       "    .dataframe thead tr th {\n",
       "        text-align: left;\n",
       "    }\n",
       "\n",
       "    .dataframe thead tr:last-of-type th {\n",
       "        text-align: right;\n",
       "    }\n",
       "</style>\n",
       "<table border=\"1\" class=\"dataframe\">\n",
       "  <thead>\n",
       "    <tr>\n",
       "      <th></th>\n",
       "      <th colspan=\"8\" halign=\"left\">age</th>\n",
       "    </tr>\n",
       "    <tr>\n",
       "      <th></th>\n",
       "      <th>count</th>\n",
       "      <th>mean</th>\n",
       "      <th>std</th>\n",
       "      <th>min</th>\n",
       "      <th>25%</th>\n",
       "      <th>50%</th>\n",
       "      <th>75%</th>\n",
       "      <th>max</th>\n",
       "    </tr>\n",
       "    <tr>\n",
       "      <th>sex</th>\n",
       "      <th></th>\n",
       "      <th></th>\n",
       "      <th></th>\n",
       "      <th></th>\n",
       "      <th></th>\n",
       "      <th></th>\n",
       "      <th></th>\n",
       "      <th></th>\n",
       "    </tr>\n",
       "  </thead>\n",
       "  <tbody>\n",
       "    <tr>\n",
       "      <th>0</th>\n",
       "      <td>203.0</td>\n",
       "      <td>47.546798</td>\n",
       "      <td>16.519761</td>\n",
       "      <td>0.0</td>\n",
       "      <td>37.5</td>\n",
       "      <td>47.0</td>\n",
       "      <td>59.0</td>\n",
       "      <td>80.0</td>\n",
       "    </tr>\n",
       "    <tr>\n",
       "      <th>1</th>\n",
       "      <td>249.0</td>\n",
       "      <td>45.594378</td>\n",
       "      <td>16.404173</td>\n",
       "      <td>1.0</td>\n",
       "      <td>34.0</td>\n",
       "      <td>46.0</td>\n",
       "      <td>58.0</td>\n",
       "      <td>83.0</td>\n",
       "    </tr>\n",
       "  </tbody>\n",
       "</table>\n",
       "</div>"
      ],
      "text/plain": [
       "       age                                                   \n",
       "     count       mean        std  min   25%   50%   75%   max\n",
       "sex                                                          \n",
       "0    203.0  47.546798  16.519761  0.0  37.5  47.0  59.0  80.0\n",
       "1    249.0  45.594378  16.404173  1.0  34.0  46.0  58.0  83.0"
      ]
     },
     "execution_count": 6,
     "metadata": {},
     "output_type": "execute_result"
    },
    {
     "data": {
      "image/png": "[encoded data removed]",
      "text/plain": [
       "<Figure size 432x288 with 1 Axes>"
      ]
     },
     "metadata": {
      "needs_background": "light"
     },
     "output_type": "display_data"
    }
   ],
   "source": [
    "df.groupby('sex').age.plot(kind='kde') \n",
    "df[[\"sex\", \"age\"]].groupby(\"sex\").describe()"
   ]
  },
  {
   "cell_type": "markdown",
   "metadata": {},
   "source": [
    "The above results show the distribution graph and descriptive statistics, for both women and men."
   ]
  },
  {
   "cell_type": "markdown",
   "metadata": {},
   "source": [
    "As for the other columns, since these variables are continuous, the first idea could be to hope for a normal distribution and then try to preserve the variability of the data by randomly simulate the missing values. <br> For this purpose, we perform well know **Kolmogorov–Smirnov** test."
   ]
  },
  {
   "cell_type": "code",
   "execution_count": 7,
   "metadata": {},
   "outputs": [
    {
     "name": "stdout",
     "output_type": "stream",
     "text": [
      "KstestResult(statistic=0.9255811086972653, pvalue=0.0)\n",
      "KstestResult(statistic=0.847749201067469, pvalue=0.0)\n",
      "KstestResult(statistic=0.8168319201501881, pvalue=0.0)\n",
      "KstestResult(statistic=1.0, pvalue=0.0)\n"
     ]
    }
   ],
   "source": [
    "print(stats.kstest(df[df['P'].notnull()]['P'].astype(int), 'norm'))\n",
    "print(stats.kstest(df[df['T'].notnull()]['T'].astype(int), 'norm'))\n",
    "print(stats.kstest(df[df['QRST'].notnull()]['QRST'].astype(int), 'norm'))\n",
    "print(stats.kstest(df[df['heart_rate'].notnull()]['heart_rate'].astype(int), 'norm'))"
   ]
  },
  {
   "cell_type": "markdown",
   "metadata": {},
   "source": [
    "This assumption was obviously too ambitious. For all columns, the p value turned out to be very small and the test statistics very large. <br> So our conclusion is that at each standard level of significance, we reject the null hypothesis, that is, that our data **do not follow** a normal distribution. <br>\n",
    "The next idea is standard. We will replace the missing values with the mean of each column."
   ]
  },
  {
   "cell_type": "code",
   "execution_count": 7,
   "metadata": {},
   "outputs": [
    {
     "data": {
      "text/plain": [
       "age             0\n",
       "sex             0\n",
       "height          0\n",
       "weight          0\n",
       "qrs_duration    0\n",
       "p-r_interval    0\n",
       "q-t_interval    0\n",
       "t_interval      0\n",
       "p_interval      0\n",
       "qrs             0\n",
       "dtype: int64"
      ]
     },
     "execution_count": 7,
     "metadata": {},
     "output_type": "execute_result"
    }
   ],
   "source": [
    "imp= SimpleImputer(missing_values=np.NaN, strategy='mean')\n",
    "idf=pd.DataFrame(imp.fit_transform(df))\n",
    "idf.columns=df.columns\n",
    "idf.index=df.index\n",
    "df = idf\n",
    "df.isna().sum().nlargest(10)"
   ]
  },
  {
   "cell_type": "markdown",
   "metadata": {},
   "source": [
    "Finally, there are no more missing values in our data."
   ]
  },
  {
   "cell_type": "markdown",
   "metadata": {},
   "source": [
    "## Principal Component Analysis"
   ]
  },
  {
   "cell_type": "markdown",
   "metadata": {},
   "source": [
    "Before using PCA, the first step is to scale the features in our data. "
   ]
  },
  {
   "cell_type": "code",
   "execution_count": 294,
   "metadata": {},
   "outputs": [
    {
     "name": "stdout",
     "output_type": "stream",
     "text": [
      "[pca] >Column labels are auto-completed.\n",
      "[pca] >Row labels are auto-completed.\n",
      "[pca] >The PCA reduction is performed to capture [95.0%] explained variance using the [279] columns of the input data.\n",
      "[pca] >Fitting using PCA..\n",
      "[pca] >Computing loadings and PCs..\n",
      "[pca] >Computing explained variance..\n",
      "[pca] >Number of components is [103] that covers the [95.00%] explained variance.\n",
      "[pca] >Outlier detection using Hotelling T2 test with alpha=[0.05] and n_components=[103]\n",
      "[pca] >Outlier detection using SPE/DmodX with n_std=[2]\n"
     ]
    },
    {
     "data": {
      "image/png": "[encoded data removed]",
      "text/plain": [
       "<Figure size 720x576 with 1 Axes>"
      ]
     },
     "metadata": {
      "needs_background": "light"
     },
     "output_type": "display_data"
    },
    {
     "data": {
      "text/plain": [
       "(<Figure size 720x576 with 1 Axes>,\n",
       " <AxesSubplot:title={'center':'Cumulative explained variance\\n 103 Principal Components explain [95.0%] of the variance.'}, xlabel='Principle Component', ylabel='Percentage explained variance'>)"
      ]
     },
     "execution_count": 294,
     "metadata": {},
     "output_type": "execute_result"
    },
    {
     "data": {
      "text/plain": [
       "<Figure size 432x288 with 0 Axes>"
      ]
     },
     "metadata": {},
     "output_type": "display_data"
    }
   ],
   "source": [
    "from pca import pca\n",
    "\n",
    "X = df.iloc[:,0:279]\n",
    "y = df.iloc[:,-1:].values \n",
    "X = StandardScaler().fit_transform(X)\n",
    "#y = StandardScaler().fit_transform(y) inače greska jer mi algoritram ocekuje intove kao class\n",
    "\n",
    "\n",
    "model = pca()\n",
    "out = model.fit_transform(X)\n",
    "model.plot()"
   ]
  },
  {
   "cell_type": "markdown",
   "metadata": {},
   "source": [
    "As we can see, 103 Principal Components explain 95% of the variance and 150 Principal Components explain about 99% of the variance. <br> So, our next step is to find those important features."
   ]
  },
  {
   "cell_type": "code",
   "execution_count": 270,
   "metadata": {},
   "outputs": [
    {
     "data": {
      "text/html": [
       "<div>\n",
       "<style scoped>\n",
       "    .dataframe tbody tr th:only-of-type {\n",
       "        vertical-align: middle;\n",
       "    }\n",
       "\n",
       "    .dataframe tbody tr th {\n",
       "        vertical-align: top;\n",
       "    }\n",
       "\n",
       "    .dataframe thead th {\n",
       "        text-align: right;\n",
       "    }\n",
       "</style>\n",
       "<table border=\"1\" class=\"dataframe\">\n",
       "  <thead>\n",
       "    <tr style=\"text-align: right;\">\n",
       "      <th></th>\n",
       "      <th>PC</th>\n",
       "      <th>feature</th>\n",
       "      <th>loading</th>\n",
       "      <th>type</th>\n",
       "    </tr>\n",
       "  </thead>\n",
       "  <tbody>\n",
       "    <tr>\n",
       "      <th>0</th>\n",
       "      <td>PC1</td>\n",
       "      <td>218</td>\n",
       "      <td>-0.189314</td>\n",
       "      <td>best</td>\n",
       "    </tr>\n",
       "    <tr>\n",
       "      <th>1</th>\n",
       "      <td>PC2</td>\n",
       "      <td>278</td>\n",
       "      <td>0.186085</td>\n",
       "      <td>best</td>\n",
       "    </tr>\n",
       "    <tr>\n",
       "      <th>2</th>\n",
       "      <td>PC3</td>\n",
       "      <td>248</td>\n",
       "      <td>-0.192093</td>\n",
       "      <td>best</td>\n",
       "    </tr>\n",
       "    <tr>\n",
       "      <th>3</th>\n",
       "      <td>PC4</td>\n",
       "      <td>232</td>\n",
       "      <td>0.158709</td>\n",
       "      <td>best</td>\n",
       "    </tr>\n",
       "    <tr>\n",
       "      <th>4</th>\n",
       "      <td>PC5</td>\n",
       "      <td>217</td>\n",
       "      <td>0.190592</td>\n",
       "      <td>best</td>\n",
       "    </tr>\n",
       "    <tr>\n",
       "      <th>...</th>\n",
       "      <td>...</td>\n",
       "      <td>...</td>\n",
       "      <td>...</td>\n",
       "      <td>...</td>\n",
       "    </tr>\n",
       "    <tr>\n",
       "      <th>371</th>\n",
       "      <td>PC255</td>\n",
       "      <td>269</td>\n",
       "      <td>0.331164</td>\n",
       "      <td>weak</td>\n",
       "    </tr>\n",
       "    <tr>\n",
       "      <th>372</th>\n",
       "      <td>PC211</td>\n",
       "      <td>270</td>\n",
       "      <td>-0.197972</td>\n",
       "      <td>weak</td>\n",
       "    </tr>\n",
       "    <tr>\n",
       "      <th>373</th>\n",
       "      <td>PC248</td>\n",
       "      <td>272</td>\n",
       "      <td>0.227078</td>\n",
       "      <td>weak</td>\n",
       "    </tr>\n",
       "    <tr>\n",
       "      <th>374</th>\n",
       "      <td>PC10</td>\n",
       "      <td>276</td>\n",
       "      <td>-0.208259</td>\n",
       "      <td>weak</td>\n",
       "    </tr>\n",
       "    <tr>\n",
       "      <th>375</th>\n",
       "      <td>PC243</td>\n",
       "      <td>279</td>\n",
       "      <td>0.223526</td>\n",
       "      <td>weak</td>\n",
       "    </tr>\n",
       "  </tbody>\n",
       "</table>\n",
       "<p>376 rows × 4 columns</p>\n",
       "</div>"
      ],
      "text/plain": [
       "        PC feature   loading  type\n",
       "0      PC1     218 -0.189314  best\n",
       "1      PC2     278  0.186085  best\n",
       "2      PC3     248 -0.192093  best\n",
       "3      PC4     232  0.158709  best\n",
       "4      PC5     217  0.190592  best\n",
       "..     ...     ...       ...   ...\n",
       "371  PC255     269  0.331164  weak\n",
       "372  PC211     270 -0.197972  weak\n",
       "373  PC248     272  0.227078  weak\n",
       "374   PC10     276 -0.208259  weak\n",
       "375  PC243     279  0.223526  weak\n",
       "\n",
       "[376 rows x 4 columns]"
      ]
     },
     "execution_count": 270,
     "metadata": {},
     "output_type": "execute_result"
    }
   ],
   "source": [
    "model.compute_topfeat()"
   ]
  },
  {
   "cell_type": "code",
   "execution_count": 271,
   "metadata": {},
   "outputs": [
    {
     "data": {
      "text/plain": [
       "(<Figure size 720x576 with 1 Axes>,\n",
       " <AxesSubplot:title={'center':'103 Principal Components explain [95.0%] of the variance'}, xlabel='PC1 (7.96% expl.var)', ylabel='PC2 (7.06% expl.var)'>)"
      ]
     },
     "execution_count": 271,
     "metadata": {},
     "output_type": "execute_result"
    },
    {
     "data": {
      "image/png": "[encoded data removed]",
      "text/plain": [
       "<Figure size 720x576 with 1 Axes>"
      ]
     },
     "metadata": {
      "needs_background": "light"
     },
     "output_type": "display_data"
    }
   ],
   "source": [
    "model.scatter()"
   ]
  },
  {
   "cell_type": "markdown",
   "metadata": {},
   "source": [
    "#### Detection of outliers using PCA"
   ]
  },
  {
   "cell_type": "code",
   "execution_count": 272,
   "metadata": {},
   "outputs": [
    {
     "data": {
      "text/plain": [
       "(<Figure size 720x576 with 1 Axes>,\n",
       " <AxesSubplot:title={'center':'103 Principal Components explain [95.0%] of the variance'}, xlabel='PC1 (7.96% expl.var)', ylabel='PC2 (7.06% expl.var)'>)"
      ]
     },
     "execution_count": 272,
     "metadata": {},
     "output_type": "execute_result"
    },
    {
     "data": {
      "image/png": "[encoded data removed]",
      "text/plain": [
       "<Figure size 720x576 with 1 Axes>"
      ]
     },
     "metadata": {
      "needs_background": "light"
     },
     "output_type": "display_data"
    }
   ],
   "source": [
    "model.scatter(legend=True, SPE=True, hotellingt2=True)"
   ]
  },
  {
   "cell_type": "code",
   "execution_count": 295,
   "metadata": {},
   "outputs": [],
   "source": [
    "Xoutliers = X[out['outliers']['y_bool'],:]\n",
    "X_no_outliers = X[~out['outliers']['y_bool'],:]\n",
    "y_no_outliers = y[~out['outliers']['y_bool'],:]"
   ]
  },
  {
   "cell_type": "code",
   "execution_count": 274,
   "metadata": {},
   "outputs": [
    {
     "data": {
      "text/html": [
       "<div>\n",
       "<style scoped>\n",
       "    .dataframe tbody tr th:only-of-type {\n",
       "        vertical-align: middle;\n",
       "    }\n",
       "\n",
       "    .dataframe tbody tr th {\n",
       "        vertical-align: top;\n",
       "    }\n",
       "\n",
       "    .dataframe thead th {\n",
       "        text-align: right;\n",
       "    }\n",
       "</style>\n",
       "<table border=\"1\" class=\"dataframe\">\n",
       "  <thead>\n",
       "    <tr style=\"text-align: right;\">\n",
       "      <th></th>\n",
       "      <th>0</th>\n",
       "      <th>1</th>\n",
       "      <th>2</th>\n",
       "      <th>3</th>\n",
       "      <th>4</th>\n",
       "      <th>5</th>\n",
       "      <th>6</th>\n",
       "      <th>7</th>\n",
       "      <th>8</th>\n",
       "      <th>9</th>\n",
       "      <th>...</th>\n",
       "      <th>269</th>\n",
       "      <th>270</th>\n",
       "      <th>271</th>\n",
       "      <th>272</th>\n",
       "      <th>273</th>\n",
       "      <th>274</th>\n",
       "      <th>275</th>\n",
       "      <th>276</th>\n",
       "      <th>277</th>\n",
       "      <th>278</th>\n",
       "    </tr>\n",
       "  </thead>\n",
       "  <tbody>\n",
       "    <tr>\n",
       "      <th>0</th>\n",
       "      <td>1.734439</td>\n",
       "      <td>-1.107520</td>\n",
       "      <td>0.641327</td>\n",
       "      <td>0.713814</td>\n",
       "      <td>0.135505</td>\n",
       "      <td>0.844945</td>\n",
       "      <td>0.113709</td>\n",
       "      <td>0.113809</td>\n",
       "      <td>1.201469</td>\n",
       "      <td>-1.094661</td>\n",
       "      <td>...</td>\n",
       "      <td>0.004037</td>\n",
       "      <td>0.508843</td>\n",
       "      <td>-0.013839</td>\n",
       "      <td>0.278621</td>\n",
       "      <td>-0.079546</td>\n",
       "      <td>0.0</td>\n",
       "      <td>1.109553</td>\n",
       "      <td>1.177737</td>\n",
       "      <td>0.294603</td>\n",
       "      <td>1.078670</td>\n",
       "    </tr>\n",
       "    <tr>\n",
       "      <th>1</th>\n",
       "      <td>0.579312</td>\n",
       "      <td>0.902918</td>\n",
       "      <td>-0.031998</td>\n",
       "      <td>-0.251644</td>\n",
       "      <td>-0.516072</td>\n",
       "      <td>0.420769</td>\n",
       "      <td>1.013301</td>\n",
       "      <td>-0.588564</td>\n",
       "      <td>-1.977064</td>\n",
       "      <td>-0.191203</td>\n",
       "      <td>...</td>\n",
       "      <td>-0.327703</td>\n",
       "      <td>0.508843</td>\n",
       "      <td>-0.157972</td>\n",
       "      <td>0.728573</td>\n",
       "      <td>-0.079546</td>\n",
       "      <td>0.0</td>\n",
       "      <td>-0.906889</td>\n",
       "      <td>0.616126</td>\n",
       "      <td>0.079613</td>\n",
       "      <td>0.504874</td>\n",
       "    </tr>\n",
       "    <tr>\n",
       "      <th>2</th>\n",
       "      <td>0.518516</td>\n",
       "      <td>-1.107520</td>\n",
       "      <td>0.237332</td>\n",
       "      <td>1.558590</td>\n",
       "      <td>0.721924</td>\n",
       "      <td>1.045871</td>\n",
       "      <td>0.383587</td>\n",
       "      <td>0.254284</td>\n",
       "      <td>2.054247</td>\n",
       "      <td>-0.125096</td>\n",
       "      <td>...</td>\n",
       "      <td>0.667516</td>\n",
       "      <td>0.508843</td>\n",
       "      <td>0.908612</td>\n",
       "      <td>-0.371310</td>\n",
       "      <td>-0.079546</td>\n",
       "      <td>0.0</td>\n",
       "      <td>-0.330763</td>\n",
       "      <td>0.967133</td>\n",
       "      <td>1.132324</td>\n",
       "      <td>1.739077</td>\n",
       "    </tr>\n",
       "    <tr>\n",
       "      <th>3</th>\n",
       "      <td>1.734439</td>\n",
       "      <td>-1.107520</td>\n",
       "      <td>0.641327</td>\n",
       "      <td>0.713814</td>\n",
       "      <td>-0.059968</td>\n",
       "      <td>0.577044</td>\n",
       "      <td>-0.216141</td>\n",
       "      <td>0.198094</td>\n",
       "      <td>0.503742</td>\n",
       "      <td>-1.094661</td>\n",
       "      <td>...</td>\n",
       "      <td>-0.161833</td>\n",
       "      <td>0.508843</td>\n",
       "      <td>1.168051</td>\n",
       "      <td>-1.071235</td>\n",
       "      <td>-0.079546</td>\n",
       "      <td>0.0</td>\n",
       "      <td>-1.771079</td>\n",
       "      <td>1.879751</td>\n",
       "      <td>0.450286</td>\n",
       "      <td>1.804035</td>\n",
       "    </tr>\n",
       "    <tr>\n",
       "      <th>4</th>\n",
       "      <td>-0.393427</td>\n",
       "      <td>0.902918</td>\n",
       "      <td>-0.166663</td>\n",
       "      <td>-0.975738</td>\n",
       "      <td>-0.776702</td>\n",
       "      <td>-0.583860</td>\n",
       "      <td>0.293628</td>\n",
       "      <td>-1.038082</td>\n",
       "      <td>-0.504085</td>\n",
       "      <td>0.954648</td>\n",
       "      <td>...</td>\n",
       "      <td>-0.161833</td>\n",
       "      <td>0.508843</td>\n",
       "      <td>-0.734504</td>\n",
       "      <td>0.728573</td>\n",
       "      <td>-0.079546</td>\n",
       "      <td>0.0</td>\n",
       "      <td>-0.330763</td>\n",
       "      <td>-0.156089</td>\n",
       "      <td>-0.372608</td>\n",
       "      <td>-0.485736</td>\n",
       "    </tr>\n",
       "    <tr>\n",
       "      <th>...</th>\n",
       "      <td>...</td>\n",
       "      <td>...</td>\n",
       "      <td>...</td>\n",
       "      <td>...</td>\n",
       "      <td>...</td>\n",
       "      <td>...</td>\n",
       "      <td>...</td>\n",
       "      <td>...</td>\n",
       "      <td>...</td>\n",
       "      <td>...</td>\n",
       "      <td>...</td>\n",
       "      <td>...</td>\n",
       "      <td>...</td>\n",
       "      <td>...</td>\n",
       "      <td>...</td>\n",
       "      <td>...</td>\n",
       "      <td>...</td>\n",
       "      <td>...</td>\n",
       "      <td>...</td>\n",
       "      <td>...</td>\n",
       "      <td>...</td>\n",
       "    </tr>\n",
       "    <tr>\n",
       "      <th>362</th>\n",
       "      <td>-1.609350</td>\n",
       "      <td>0.902918</td>\n",
       "      <td>-0.247462</td>\n",
       "      <td>-0.674032</td>\n",
       "      <td>-0.516072</td>\n",
       "      <td>-0.092708</td>\n",
       "      <td>-0.126182</td>\n",
       "      <td>-0.110950</td>\n",
       "      <td>-0.387798</td>\n",
       "      <td>0.205438</td>\n",
       "      <td>...</td>\n",
       "      <td>0.501646</td>\n",
       "      <td>0.508843</td>\n",
       "      <td>-0.532718</td>\n",
       "      <td>0.378610</td>\n",
       "      <td>-0.079546</td>\n",
       "      <td>0.0</td>\n",
       "      <td>-0.042700</td>\n",
       "      <td>0.756529</td>\n",
       "      <td>-0.127964</td>\n",
       "      <td>0.526527</td>\n",
       "    </tr>\n",
       "    <tr>\n",
       "      <th>363</th>\n",
       "      <td>0.396924</td>\n",
       "      <td>0.902918</td>\n",
       "      <td>-0.166663</td>\n",
       "      <td>0.110403</td>\n",
       "      <td>-0.581229</td>\n",
       "      <td>0.978896</td>\n",
       "      <td>0.443560</td>\n",
       "      <td>-0.448089</td>\n",
       "      <td>1.046419</td>\n",
       "      <td>-1.557409</td>\n",
       "      <td>...</td>\n",
       "      <td>0.501646</td>\n",
       "      <td>0.508843</td>\n",
       "      <td>-1.368689</td>\n",
       "      <td>-1.771161</td>\n",
       "      <td>-0.079546</td>\n",
       "      <td>0.0</td>\n",
       "      <td>0.533427</td>\n",
       "      <td>-0.436895</td>\n",
       "      <td>-1.758926</td>\n",
       "      <td>-1.622502</td>\n",
       "    </tr>\n",
       "    <tr>\n",
       "      <th>364</th>\n",
       "      <td>-0.575815</td>\n",
       "      <td>-1.107520</td>\n",
       "      <td>0.641327</td>\n",
       "      <td>1.015520</td>\n",
       "      <td>0.721924</td>\n",
       "      <td>-0.405260</td>\n",
       "      <td>-0.186154</td>\n",
       "      <td>0.872372</td>\n",
       "      <td>-0.659136</td>\n",
       "      <td>1.152968</td>\n",
       "      <td>...</td>\n",
       "      <td>-0.327703</td>\n",
       "      <td>0.508843</td>\n",
       "      <td>1.888716</td>\n",
       "      <td>-0.071342</td>\n",
       "      <td>-0.079546</td>\n",
       "      <td>0.0</td>\n",
       "      <td>-0.330763</td>\n",
       "      <td>0.826730</td>\n",
       "      <td>1.384382</td>\n",
       "      <td>1.782383</td>\n",
       "    </tr>\n",
       "    <tr>\n",
       "      <th>365</th>\n",
       "      <td>-0.879796</td>\n",
       "      <td>0.902918</td>\n",
       "      <td>-0.301328</td>\n",
       "      <td>-0.794714</td>\n",
       "      <td>0.265820</td>\n",
       "      <td>-1.097337</td>\n",
       "      <td>0.563505</td>\n",
       "      <td>1.349985</td>\n",
       "      <td>-1.046762</td>\n",
       "      <td>0.447829</td>\n",
       "      <td>...</td>\n",
       "      <td>0.833385</td>\n",
       "      <td>-0.220727</td>\n",
       "      <td>0.850959</td>\n",
       "      <td>0.378610</td>\n",
       "      <td>-0.079546</td>\n",
       "      <td>0.0</td>\n",
       "      <td>-0.042700</td>\n",
       "      <td>0.826730</td>\n",
       "      <td>0.420632</td>\n",
       "      <td>0.927101</td>\n",
       "    </tr>\n",
       "    <tr>\n",
       "      <th>366</th>\n",
       "      <td>1.916828</td>\n",
       "      <td>0.902918</td>\n",
       "      <td>-0.166663</td>\n",
       "      <td>0.110403</td>\n",
       "      <td>-0.646387</td>\n",
       "      <td>-0.628511</td>\n",
       "      <td>-0.096195</td>\n",
       "      <td>-0.897608</td>\n",
       "      <td>-0.465323</td>\n",
       "      <td>-0.125096</td>\n",
       "      <td>...</td>\n",
       "      <td>0.004037</td>\n",
       "      <td>0.508843</td>\n",
       "      <td>0.389733</td>\n",
       "      <td>-0.171331</td>\n",
       "      <td>-0.079546</td>\n",
       "      <td>0.0</td>\n",
       "      <td>-0.042700</td>\n",
       "      <td>0.265119</td>\n",
       "      <td>0.146334</td>\n",
       "      <td>0.180084</td>\n",
       "    </tr>\n",
       "  </tbody>\n",
       "</table>\n",
       "<p>367 rows × 279 columns</p>\n",
       "</div>"
      ],
      "text/plain": [
       "          0         1         2         3         4         5         6    \\\n",
       "0    1.734439 -1.107520  0.641327  0.713814  0.135505  0.844945  0.113709   \n",
       "1    0.579312  0.902918 -0.031998 -0.251644 -0.516072  0.420769  1.013301   \n",
       "2    0.518516 -1.107520  0.237332  1.558590  0.721924  1.045871  0.383587   \n",
       "3    1.734439 -1.107520  0.641327  0.713814 -0.059968  0.577044 -0.216141   \n",
       "4   -0.393427  0.902918 -0.166663 -0.975738 -0.776702 -0.583860  0.293628   \n",
       "..        ...       ...       ...       ...       ...       ...       ...   \n",
       "362 -1.609350  0.902918 -0.247462 -0.674032 -0.516072 -0.092708 -0.126182   \n",
       "363  0.396924  0.902918 -0.166663  0.110403 -0.581229  0.978896  0.443560   \n",
       "364 -0.575815 -1.107520  0.641327  1.015520  0.721924 -0.405260 -0.186154   \n",
       "365 -0.879796  0.902918 -0.301328 -0.794714  0.265820 -1.097337  0.563505   \n",
       "366  1.916828  0.902918 -0.166663  0.110403 -0.646387 -0.628511 -0.096195   \n",
       "\n",
       "          7         8         9    ...       269       270       271  \\\n",
       "0    0.113809  1.201469 -1.094661  ...  0.004037  0.508843 -0.013839   \n",
       "1   -0.588564 -1.977064 -0.191203  ... -0.327703  0.508843 -0.157972   \n",
       "2    0.254284  2.054247 -0.125096  ...  0.667516  0.508843  0.908612   \n",
       "3    0.198094  0.503742 -1.094661  ... -0.161833  0.508843  1.168051   \n",
       "4   -1.038082 -0.504085  0.954648  ... -0.161833  0.508843 -0.734504   \n",
       "..        ...       ...       ...  ...       ...       ...       ...   \n",
       "362 -0.110950 -0.387798  0.205438  ...  0.501646  0.508843 -0.532718   \n",
       "363 -0.448089  1.046419 -1.557409  ...  0.501646  0.508843 -1.368689   \n",
       "364  0.872372 -0.659136  1.152968  ... -0.327703  0.508843  1.888716   \n",
       "365  1.349985 -1.046762  0.447829  ...  0.833385 -0.220727  0.850959   \n",
       "366 -0.897608 -0.465323 -0.125096  ...  0.004037  0.508843  0.389733   \n",
       "\n",
       "          272       273  274       275       276       277       278  \n",
       "0    0.278621 -0.079546  0.0  1.109553  1.177737  0.294603  1.078670  \n",
       "1    0.728573 -0.079546  0.0 -0.906889  0.616126  0.079613  0.504874  \n",
       "2   -0.371310 -0.079546  0.0 -0.330763  0.967133  1.132324  1.739077  \n",
       "3   -1.071235 -0.079546  0.0 -1.771079  1.879751  0.450286  1.804035  \n",
       "4    0.728573 -0.079546  0.0 -0.330763 -0.156089 -0.372608 -0.485736  \n",
       "..        ...       ...  ...       ...       ...       ...       ...  \n",
       "362  0.378610 -0.079546  0.0 -0.042700  0.756529 -0.127964  0.526527  \n",
       "363 -1.771161 -0.079546  0.0  0.533427 -0.436895 -1.758926 -1.622502  \n",
       "364 -0.071342 -0.079546  0.0 -0.330763  0.826730  1.384382  1.782383  \n",
       "365  0.378610 -0.079546  0.0 -0.042700  0.826730  0.420632  0.927101  \n",
       "366 -0.171331 -0.079546  0.0 -0.042700  0.265119  0.146334  0.180084  \n",
       "\n",
       "[367 rows x 279 columns]"
      ]
     },
     "execution_count": 274,
     "metadata": {},
     "output_type": "execute_result"
    }
   ],
   "source": [
    "pd.DataFrame(X_no_outliers)"
   ]
  },
  {
   "cell_type": "code",
   "execution_count": 296,
   "metadata": {},
   "outputs": [
    {
     "name": "stdout",
     "output_type": "stream",
     "text": [
      "[pca] >Column labels are auto-completed.\n",
      "[pca] >Row labels are auto-completed.\n",
      "[pca] >The PCA reduction is performed on the [279] columns of the input dataframe.\n",
      "[pca] >Fitting using PCA..\n",
      "[pca] >Computing loadings and PCs..\n",
      "[pca] >Computing explained variance..\n",
      "[pca] >Outlier detection using Hotelling T2 test with alpha=[0.05] and n_components=[150]\n",
      "[pca] >Outlier detection using SPE/DmodX with n_std=[2]\n"
     ]
    },
    {
     "data": {
      "image/png": "[encoded data removed]",
      "text/plain": [
       "<Figure size 720x576 with 1 Axes>"
      ]
     },
     "metadata": {
      "needs_background": "light"
     },
     "output_type": "display_data"
    },
    {
     "data": {
      "text/plain": [
       "(<Figure size 720x576 with 1 Axes>,\n",
       " <AxesSubplot:title={'center':'Cumulative explained variance\\n 150 Principal Components explain [99.70%] of the variance.'}, xlabel='Principle Component', ylabel='Percentage explained variance'>)"
      ]
     },
     "execution_count": 296,
     "metadata": {},
     "output_type": "execute_result"
    },
    {
     "data": {
      "text/plain": [
       "<Figure size 432x288 with 0 Axes>"
      ]
     },
     "metadata": {},
     "output_type": "display_data"
    }
   ],
   "source": [
    "model = pca(n_components=150)\n",
    "out = model.fit_transform(X_no_outliers)\n",
    "model.plot()"
   ]
  },
  {
   "cell_type": "code",
   "execution_count": 312,
   "metadata": {},
   "outputs": [
    {
     "name": "stdout",
     "output_type": "stream",
     "text": [
      "[pca] >Column labels are auto-completed.\n",
      "[pca] >Row labels are auto-completed.\n"
     ]
    }
   ],
   "source": [
    "X_after_pca = np.array(model.transform(X_no_outliers))"
   ]
  },
  {
   "cell_type": "markdown",
   "metadata": {},
   "source": [
    "### Classification "
   ]
  },
  {
   "cell_type": "code",
   "execution_count": 328,
   "metadata": {},
   "outputs": [],
   "source": [
    "#scaler = StandardScaler()\n",
    "\n",
    "X = X_after_pca\n",
    "y = y_no_outliers\n",
    "\n",
    "X_train, X_test, y_train, y_test = model_selection.train_test_split(X, y, train_size=0.70, test_size=0.30,)\n",
    "\n",
    "#X_train = scaler.fit_transform(X_train)\n",
    "#X_test = scaler.transform(X_test)"
   ]
  },
  {
   "cell_type": "markdown",
   "metadata": {},
   "source": [
    "#### Support Vector Machine"
   ]
  },
  {
   "cell_type": "code",
   "execution_count": 346,
   "metadata": {},
   "outputs": [
    {
     "name": "stdout",
     "output_type": "stream",
     "text": [
      "Accuracy (Polynomial Kernel):  53.15\n",
      "F1 (Polynomial Kernel):  38.39\n",
      "Accuracy (RBF Kernel):  51.35\n",
      "F1 (RBF Kernel):  34.85\n"
     ]
    },
    {
     "name": "stderr",
     "output_type": "stream",
     "text": [
      "/Users/eleonoradetic/opt/anaconda3/lib/python3.8/site-packages/sklearn/utils/validation.py:63: DataConversionWarning: A column-vector y was passed when a 1d array was expected. Please change the shape of y to (n_samples, ), for example using ravel().\n",
      "  return f(*args, **kwargs)\n",
      "/Users/eleonoradetic/opt/anaconda3/lib/python3.8/site-packages/sklearn/utils/validation.py:63: DataConversionWarning: A column-vector y was passed when a 1d array was expected. Please change the shape of y to (n_samples, ), for example using ravel().\n",
      "  return f(*args, **kwargs)\n"
     ]
    }
   ],
   "source": [
    "rbf = svm.SVC(kernel='rbf', gamma=0.5, C=0.1).fit(X_train, y_train)\n",
    "poly = svm.SVC(kernel='poly', degree=3, C=1).fit(X_train, y_train)\n",
    "poly_pred = poly.predict(X_test)\n",
    "rbf_pred = rbf.predict(X_test)\n",
    "poly_accuracy = accuracy_score(y_test, poly_pred)\n",
    "poly_f1 = f1_score(y_test, poly_pred, average='weighted')\n",
    "print('Accuracy (Polynomial Kernel): ', \"%.2f\" % (poly_accuracy*100))\n",
    "print('F1 (Polynomial Kernel): ', \"%.2f\" % (poly_f1*100))\n",
    "rbf_accuracy = accuracy_score(y_test, rbf_pred)\n",
    "rbf_f1 = f1_score(y_test, rbf_pred, average='weighted')\n",
    "print('Accuracy (RBF Kernel): ', \"%.2f\" % (rbf_accuracy*100))\n",
    "print('F1 (RBF Kernel): ', \"%.2f\" % (rbf_f1*100))"
   ]
  },
  {
   "cell_type": "markdown",
   "metadata": {},
   "source": [
    "#### Logistic Regression Algorithm"
   ]
  },
  {
   "cell_type": "code",
   "execution_count": 344,
   "metadata": {},
   "outputs": [
    {
     "name": "stdout",
     "output_type": "stream",
     "text": [
      "Accuracy (Logistric Regression):  59.46\n"
     ]
    },
    {
     "name": "stderr",
     "output_type": "stream",
     "text": [
      "/Users/eleonoradetic/opt/anaconda3/lib/python3.8/site-packages/sklearn/utils/validation.py:63: DataConversionWarning: A column-vector y was passed when a 1d array was expected. Please change the shape of y to (n_samples, ), for example using ravel().\n",
      "  return f(*args, **kwargs)\n"
     ]
    }
   ],
   "source": [
    "lm = linear_model.LogisticRegression(multi_class='ovr', solver='liblinear')\n",
    "lm.fit(X_train, y_train)\n",
    "lm_accuracy = accuracy_score(y_test, lm.predict(X_test))\n",
    "print('Accuracy (Logistric Regression): ', \"%.2f\" % (lm_accuracy * 100))"
   ]
  },
  {
   "cell_type": "markdown",
   "metadata": {},
   "source": [
    "#### K-Nearest Neighbors Algorithm"
   ]
  },
  {
   "cell_type": "code",
   "execution_count": 345,
   "metadata": {},
   "outputs": [
    {
     "name": "stdout",
     "output_type": "stream",
     "text": [
      "Accuracy (K-Nearest Neighbors):  54.05\n"
     ]
    },
    {
     "name": "stderr",
     "output_type": "stream",
     "text": [
      "/Users/eleonoradetic/opt/anaconda3/lib/python3.8/site-packages/sklearn/neighbors/_classification.py:179: DataConversionWarning: A column-vector y was passed when a 1d array was expected. Please change the shape of y to (n_samples,), for example using ravel().\n",
      "  return self._fit(X, y)\n"
     ]
    }
   ],
   "source": [
    "knn = KNeighborsClassifier()\n",
    "knn.fit(X_train,y_train)\n",
    "ypred = knn.predict(X_test) \n",
    "knn_accuracy = accuracy_score(y_test,ypred)\n",
    "print('Accuracy (K-Nearest Neighbors): ', \"%.2f\" % (knn_accuracy *100))"
   ]
  },
  {
   "cell_type": "markdown",
   "metadata": {},
   "source": [
    "#### Random Forest Algorithm"
   ]
  },
  {
   "cell_type": "code",
   "execution_count": 327,
   "metadata": {},
   "outputs": [
    {
     "name": "stderr",
     "output_type": "stream",
     "text": [
      "/var/folders/d3/xr9k6gp148s_pc6q399vjm2h0000gn/T/ipykernel_1279/3919366424.py:2: DataConversionWarning: A column-vector y was passed when a 1d array was expected. Please change the shape of y to (n_samples,), for example using ravel().\n",
      "  ranf.fit(X_train, y_train)\n"
     ]
    },
    {
     "name": "stdout",
     "output_type": "stream",
     "text": [
      "Accuracy (K-Nearest Neighbors):  63.06\n"
     ]
    }
   ],
   "source": [
    "ranf = RandomForestClassifier(n_estimators = 70, criterion = 'entropy', random_state = 42)\n",
    "ranf.fit(X_train, y_train)\n",
    "ypred = ranf.predict(X_test) \n",
    "ranf_accuracy = accuracy_score(y_test,ypred)\n",
    "print('Accuracy (K-Nearest Neighbors): ', \"%.2f\" % (ranf_accuracy *100))"
   ]
  },
  {
   "cell_type": "markdown",
   "metadata": {},
   "source": [
    "## Conclusion "
   ]
  },
  {
   "cell_type": "code",
   "execution_count": null,
   "metadata": {},
   "outputs": [],
   "source": []
  }
 ],
 "metadata": {
  "interpreter": {
   "hash": "eeb592eeb14baf80ba7e3ad598b9cc718d92fa62785d72005ca19f7c0e0c833d"
  },
  "kernelspec": {
   "display_name": "Python 3.8.5 64-bit ('base': conda)",
   "name": "python3"
  },
  "language_info": {
   "codemirror_mode": {
    "name": "ipython",
    "version": 3
   },
   "file_extension": ".py",
   "mimetype": "text/x-python",
   "name": "python",
   "nbconvert_exporter": "python",
   "pygments_lexer": "ipython3",
   "version": "3.8.5"
  },
  "orig_nbformat": 4
 },
 "nbformat": 4,
 "nbformat_minor": 2
}
